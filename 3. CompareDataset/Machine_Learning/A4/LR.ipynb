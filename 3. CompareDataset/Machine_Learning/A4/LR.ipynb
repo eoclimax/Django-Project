{
  "nbformat": 4,
  "nbformat_minor": 0,
  "metadata": {
    "colab": {
      "name": "[CORE] 3. CD-A4-A4: LR.ipynb",
      "provenance": [],
      "collapsed_sections": [],
      "toc_visible": true,
      "include_colab_link": true
    },
    "kernelspec": {
      "name": "python3",
      "display_name": "Python 3"
    }
  },
  "cells": [
    {
      "cell_type": "markdown",
      "metadata": {
        "id": "view-in-github",
        "colab_type": "text"
      },
      "source": [
        "<a href=\"https://colab.research.google.com/github/thetinybug/Django-Project/blob/master/3.%20CompareDataset/Machine_Learning/A4/LR.ipynb\" target=\"_parent\"><img src=\"https://colab.research.google.com/assets/colab-badge.svg\" alt=\"Open In Colab\"/></a>"
      ]
    },
    {
      "cell_type": "code",
      "metadata": {
        "id": "Ry_OT8h5zTuz",
        "colab_type": "code",
        "cellView": "both",
        "colab": {
          "base_uri": "https://localhost:8080/",
          "height": 34
        },
        "outputId": "bedb8017-5cc4-4dcb-d190-fd978a41db9e"
      },
      "source": [
        "from google.colab import drive\n",
        "drive.mount('/content/drive')"
      ],
      "execution_count": 39,
      "outputs": [
        {
          "output_type": "stream",
          "text": [
            "Drive already mounted at /content/drive; to attempt to forcibly remount, call drive.mount(\"/content/drive\", force_remount=True).\n"
          ],
          "name": "stdout"
        }
      ]
    },
    {
      "cell_type": "markdown",
      "metadata": {
        "id": "m27n3nFSTSv2",
        "colab_type": "text"
      },
      "source": [
        "#**0. Thư viện**"
      ]
    },
    {
      "cell_type": "markdown",
      "metadata": {
        "id": "08Q42YHGbvLT",
        "colab_type": "text"
      },
      "source": [
        "##Cài đặt "
      ]
    },
    {
      "cell_type": "code",
      "metadata": {
        "id": "u7ZZvZaAbM1J",
        "colab_type": "code",
        "colab": {}
      },
      "source": [
        "# !pip3 numpy torc sklearn matplotlib pandas"
      ],
      "execution_count": 40,
      "outputs": []
    },
    {
      "cell_type": "markdown",
      "metadata": {
        "id": "mt5O3Y-fb5Du",
        "colab_type": "text"
      },
      "source": [
        "##Import"
      ]
    },
    {
      "cell_type": "code",
      "metadata": {
        "id": "ONDkO5xKdjqa",
        "colab_type": "code",
        "colab": {}
      },
      "source": [
        "# Add Module Path - To Import Custom Modules\n",
        "# Modules Path\n",
        "ModulePath = \"/content/drive/My Drive/Study/KLTN/Google Colab/0.0 Python Modules/\"\n",
        "\n",
        "import sys\n",
        "sys.path.append(ModulePath)"
      ],
      "execution_count": 41,
      "outputs": []
    },
    {
      "cell_type": "code",
      "metadata": {
        "id": "YIQ708lZS2lF",
        "colab_type": "code",
        "colab": {}
      },
      "source": [
        "import numpy as np\n",
        "import pandas as pd\n",
        "import torch as th\n",
        "from torch.autograd import Variable as V\n",
        "import torch.autograd as autograd\n",
        "import torch.nn as nn\n",
        "import torch.nn.functional as F\n",
        "import torch.optim as optim\n",
        "from sklearn.utils import shuffle\n",
        "from sklearn.metrics import confusion_matrix\n",
        "import pickle\n",
        "\n",
        "# Libs for Keras\n",
        "from keras.models import load_model\n",
        "\n",
        "\n",
        "# Own Custom Module to import models and constants\n",
        "from models import *\n",
        "from constants import *\n",
        "\n",
        "import matplotlib.pyplot as plt\n",
        "import math\n",
        "import os\n",
        "from datetime import date\n",
        "import timeit"
      ],
      "execution_count": 42,
      "outputs": []
    },
    {
      "cell_type": "markdown",
      "metadata": {
        "id": "DZkqASdBS-QA",
        "colab_type": "text"
      },
      "source": [
        "#**1. Chuẩn bị**"
      ]
    },
    {
      "cell_type": "markdown",
      "metadata": {
        "id": "3rFWSSBQF99E",
        "colab_type": "text"
      },
      "source": [
        "##Paths"
      ]
    },
    {
      "cell_type": "code",
      "metadata": {
        "id": "uW-RHzMwdsG5",
        "colab_type": "code",
        "colab": {}
      },
      "source": [
        "# Base Path\n",
        "base_path = \"/content/drive/My Drive/Study/KLTN/\"\n",
        "Dataset_Path = base_path + \"Dataset/NSL-KDD Processed/Final - For Using/\"\n",
        "SavedModelPath = base_path + \"Saved Model/\"\n",
        "Generated_Dataset_Save_Path = base_path + \"Generated Datasets/\"\n",
        "\n",
        "# Dataset Path\n",
        "Trainsets_Path = Dataset_Path + 'Trainset/'\n",
        "g_trainset_path = Trainsets_Path + \"GAN-G.csv\"\n",
        "d_trainset_path = Trainsets_Path + \"GAN-D.csv\"\n",
        "testset_path = Dataset_Path + \"Testset/\" + \"KDDTest+.csv\"\n",
        "\n",
        "# GAN Saved Models Paths\n",
        "GAN_Model_Path = SavedModelPath + 'GANModel/'\n",
        "\n",
        "# IDS Pytorch Saved Models Paths\n",
        "IDS_Saved_Path = SavedModelPath + 'IDSModel/'"
      ],
      "execution_count": 43,
      "outputs": []
    },
    {
      "cell_type": "markdown",
      "metadata": {
        "id": "XwTYqTdfF-wS",
        "colab_type": "text"
      },
      "source": [
        "##Global Variables"
      ]
    },
    {
      "cell_type": "code",
      "metadata": {
        "id": "8rBB0NLwGAce",
        "colab_type": "code",
        "colab": {}
      },
      "source": [
        "# Global Variables\n",
        "N_FEATURES = 41\n",
        "# IDS\n",
        "IDS_INPUT_DIM = N_FEATURES\n",
        "IDS_OUTPUT_DIM = 2\n",
        "ATTACK_CATEGORIES = ['DOS', 'U2R_AND_R2L']\n",
        "\n",
        "POS_FUNCTIONAL_FEATURES = {'DOS': DOS_FEATURES, 'U2R_AND_R2L': U2R_AND_R2L_FEATURES}\n",
        "POS_NONFUNCTIONAL_FEATURES = {}\n",
        "for attack_category, pos_functional_feature in POS_FUNCTIONAL_FEATURES.items():\n",
        "    pos_nonfunctional_feature = []\n",
        "    for i in range(N_FEATURES):\n",
        "        if i not in pos_functional_feature:\n",
        "            pos_nonfunctional_feature.append(i)\n",
        "    POS_NONFUNCTIONAL_FEATURES[attack_category] = pos_nonfunctional_feature\n",
        "\n",
        "IDS_MODELS = {'GaussianNB', 'MultinomialNB', 'ComplementNB', 'BernoulliNB', 'DT', 'RF', 'KNN'}"
      ],
      "execution_count": 44,
      "outputs": []
    },
    {
      "cell_type": "code",
      "metadata": {
        "id": "hlE7gDk07ybi",
        "colab_type": "code",
        "colab": {
          "base_uri": "https://localhost:8080/",
          "height": 105
        },
        "outputId": "de0946e9-4d3c-4544-e577-3624dbe93483"
      },
      "source": [
        "print('Position of Functional Features\\n  ', POS_FUNCTIONAL_FEATURES)\n",
        "print('Position of Nonfunctional Features:\\n  ', POS_NONFUNCTIONAL_FEATURES)"
      ],
      "execution_count": 45,
      "outputs": [
        {
          "output_type": "stream",
          "text": [
            "Position of Functional Features\n",
            "   {'DOS': [0, 1, 2, 3, 4, 5, 6, 7, 8, 23, 24, 25, 26, 27, 28, 29, 30], 'U2R_AND_R2L': [0, 1, 2, 3, 4, 5, 6, 7, 8, 9, 10, 11, 12, 13, 14, 15, 16, 17, 18, 19, 20, 21, 22]}\n",
            "Position of Nonfunctional Features:\n",
            "   {'DOS': [9, 10, 11, 12, 13, 14, 15, 16, 17, 18, 19, 20, 21, 22, 31, 32, 33, 34, 35, 36, 37, 38, 39, 40], 'U2R_AND_R2L': [23, 24, 25, 26, 27, 28, 29, 30, 31, 32, 33, 34, 35, 36, 37, 38, 39, 40]}\n"
          ],
          "name": "stdout"
        }
      ]
    },
    {
      "cell_type": "markdown",
      "metadata": {
        "id": "otbVJEAzcTv4",
        "colab_type": "text"
      },
      "source": [
        "# **2. Định nghĩa Model**"
      ]
    },
    {
      "cell_type": "markdown",
      "metadata": {
        "id": "FVn0MzP1HW_0",
        "colab_type": "text"
      },
      "source": [
        "##Models"
      ]
    },
    {
      "cell_type": "code",
      "metadata": {
        "id": "sqogk9lIw_Uk",
        "colab_type": "code",
        "colab": {}
      },
      "source": [
        "# Load from model.py module"
      ],
      "execution_count": 46,
      "outputs": []
    },
    {
      "cell_type": "markdown",
      "metadata": {
        "id": "MdPRWEuxBAcd",
        "colab_type": "text"
      },
      "source": [
        "##Functions"
      ]
    },
    {
      "cell_type": "markdown",
      "metadata": {
        "id": "TcJBwwXf924F",
        "colab_type": "text"
      },
      "source": [
        "### Processing Data Functions"
      ]
    },
    {
      "cell_type": "code",
      "metadata": {
        "id": "r81eRs5hx8Lf",
        "colab_type": "code",
        "colab": {}
      },
      "source": [
        "# Processing Data Functions\n",
        "# create_batch2 - Hàm tạo Batch\n",
        "def create_batch2(x,batch_size):\n",
        "    a = list(range(len(x)))\n",
        "    np.random.shuffle(a)\n",
        "    x = x[a]\n",
        "    batch_x = [x[batch_size * i : (i+1)*batch_size,:] for i in range(len(x)//batch_size)]\n",
        "    return np.array(batch_x)\n",
        "# preprocess_malicious_data - Hàm tiền xử lý dữ liệu tấn công\n",
        "def preprocess_malicious_data(dataset, attack_category):\n",
        "    if attack_category != 'DOS' and attack_category != 'U2R_AND_R2L':\n",
        "      raise ValueError(\"Preprocess Data Fail: Invalid Attack Category\")\n",
        "    attack_data = dataset[dataset['class'] == attack_category]\n",
        "    del attack_data[\"class\"]\n",
        "    return np.array(attack_data)"
      ],
      "execution_count": 47,
      "outputs": []
    },
    {
      "cell_type": "markdown",
      "metadata": {
        "id": "fM7pjZa999Ht",
        "colab_type": "text"
      },
      "source": [
        "### IDS Functions"
      ]
    },
    {
      "cell_type": "code",
      "metadata": {
        "id": "Ukp0y2LiyGmy",
        "colab_type": "code",
        "colab": {}
      },
      "source": [
        "# IDS Functions\n",
        "# get_sklearn_ids_path - Get path for sklearn IDS Models\n",
        "def get_sklearn_ids_path(model_name, attack_category, created_date):\n",
        "    if attack_category != 'DOS' and attack_category != 'U2R_AND_R2L':\n",
        "        raise ValueError(\"Preprocess Data Fail: Invalid Attack Category\")\n",
        "    ids_path = str(f\"{IDS_Saved_Path}{attack_category}/Machine_Learning/created_date_{created_date}_{model_name}.pkl\")\n",
        "    if not os.path.exists(ids_path):\n",
        "        raise ValueError(f\"Invalid path: {ids_path}\\nNot exist file!\")\n",
        "    return ids_path\n",
        "# load_pytorch_ids_model - Load PyTorch IDS Models\n",
        "def load_sklearn_ids_model(model_name, attack_category, created_date):\n",
        "    ids_model_path = get_sklearn_ids_path(model_name, attack_category, created_date)\n",
        "    with open(ids_model_path, 'rb') as file:\n",
        "        pickle_model = pickle.load(file)\n",
        "        print(f\"{4*' '}Loaded IDS Model From: {ids_model_path}\")\n",
        "    return pickle_model"
      ],
      "execution_count": 48,
      "outputs": []
    },
    {
      "cell_type": "markdown",
      "metadata": {
        "id": "J9Q5DryD-Dl0",
        "colab_type": "text"
      },
      "source": [
        "### GAN Functions"
      ]
    },
    {
      "cell_type": "code",
      "metadata": {
        "id": "tV5MHCxUA-8G",
        "colab_type": "code",
        "colab": {}
      },
      "source": [
        "# GAN Functions\n",
        "# init_generator - Khoi tao model GAN-G\n",
        "def init_generator(input_dim, output_dim, adversarial_attack_type = 1):\n",
        "    if adversarial_attack_type == 1:\n",
        "        generator = Generator_A1(input_dim, output_dim)\n",
        "    elif adversarial_attack_type == 2:\n",
        "        generator = Generator_A2(input_dim, output_dim)\n",
        "    elif adversarial_attack_type == 3:\n",
        "        '''\n",
        "            adversarial_attack_type 3: G-input is nonfunctional feature, G-out is adversarial nonfuncitonal feature.\n",
        "            --> input_dim = output_dim = len(nonfunctional_features)\n",
        "        ''' \n",
        "        generator = Generator_A2(output_dim, output_dim)\n",
        "    elif adversarial_attack_type == 4:\n",
        "        '''\n",
        "            adversarial_attack_type 4: G-input in random noise nf-dim (num. of nonfunctional features)\n",
        "            --> input_dim = output_dim = len(nonfunctional_features)\n",
        "        '''\n",
        "        generator = Generator_A1(output_dim, output_dim)\n",
        "    else:\n",
        "        raise ValueError(\"Init GAN - Generator: Invalid Adversarial Attack Type\")\n",
        "    return generator\n",
        "\n",
        "# gen_adversarial_attack - Tao luu luong tan cong doi khang\n",
        "def gen_adversarial_attack(generator, noise_dim, raw_attack, attack_category, adversarial_attack_type = 1):\n",
        "    if adversarial_attack_type == 1 or adversarial_attack_type == 4:\n",
        "        adversarial_attack = generator(noise_dim, raw_attack, attack_category, POS_NONFUNCTIONAL_FEATURES)\n",
        "    elif adversarial_attack_type == 2:\n",
        "        batch_size = len(raw_attack)\n",
        "        noise = V(th.Tensor(np.random.uniform(0,1,(batch_size, noise_dim))))\n",
        "        generator_out = generator(noise)\n",
        "        adversarial_attack = gen_adversarial_attack_a2(generator_out, raw_attack, attack_category, POS_NONFUNCTIONAL_FEATURES)\n",
        "    elif adversarial_attack_type == 3:\n",
        "        pos_nonfunctional_feature = POS_NONFUNCTIONAL_FEATURES[attack_category]\n",
        "        # get nonfunctional features val\n",
        "        nonfunctional_feature = raw_attack[:, pos_nonfunctional_feature]\n",
        "        generator_out = generator(nonfunctional_feature)\n",
        "        adversarial_attack = gen_adversarial_attack_a2(generator_out, raw_attack, attack_category, POS_NONFUNCTIONAL_FEATURES)\n",
        "    else:\n",
        "        raise ValueError(\"Init GAN - Generator: Invalid Adversarial Attack Type\")\n",
        "    return adversarial_attack\n",
        "\n",
        "\n",
        "# train_generator - Train Generator\n",
        "def train_generator(generator, discriminator, optimizer_G, noise_dim, attack_traffic, attack_category, adversarial_attack_type):\n",
        "    for p in discriminator.parameters():  \n",
        "        p.requires_grad = False\n",
        "    optimizer_G.zero_grad()        \n",
        "    # GAN-G Generate Adversarial Attack\n",
        "    adversarial_attack = gen_adversarial_attack(generator, noise_dim, attack_traffic, attack_category, adversarial_attack_type)\n",
        "    # GAN-D predict, GAN-G update parameter\n",
        "    D_pred = discriminator(adversarial_attack)\n",
        "    g_loss = -th.mean(D_pred)\n",
        "    g_loss.backward()\n",
        "    optimizer_G.step()\n",
        "    return g_loss\n",
        "\n",
        "# train_discriminator - Train Discriminator\n",
        "def train_discriminator(discriminator, ids_model, generator, critic_iters, clamp, optimizer_D, normal_b, noise_dim, attack_traffic, attack_category, adversarial_attack_type):\n",
        "    run_d_loss = 0\n",
        "    cnt = 0\n",
        "    for p in discriminator.parameters(): \n",
        "        p.requires_grad = True\n",
        "    for c in range(critic_iters):\n",
        "        optimizer_D.zero_grad()\n",
        "        for p in discriminator.parameters():\n",
        "            p.data.clamp_(-clamp, clamp)\n",
        "        # GAN-G Generate Adversarial Attack\n",
        "        adversarial_attack = gen_adversarial_attack(generator, noise_dim, attack_traffic, attack_category, adversarial_attack_type)\n",
        "        # Make data to feed IDS\n",
        "        ids_input = th.cat((adversarial_attack,normal_b))\n",
        "        l = list(range(len(ids_input)))\n",
        "        np.random.shuffle(l)\n",
        "        ids_input = V(th.Tensor(ids_input[l]))\n",
        "        # IDS Predict\n",
        "        ids_pred_label = V(th.Tensor(ids_model.predict(ids_input)))\n",
        "        pred_normal = ids_input[ids_pred_label==0]\n",
        "        pred_attack = ids_input[ids_pred_label==1]\n",
        "        if len(pred_attack) == 0:\n",
        "            cnt += 1\n",
        "            break\n",
        "        # Make GAN-D input\n",
        "        D_noraml = discriminator(V(th.Tensor(pred_normal)))\n",
        "        D_attack= discriminator(V(th.Tensor(pred_attack)))\n",
        "        # Loss and Update Parameter\n",
        "        loss_normal = th.mean(D_noraml)\n",
        "        loss_attack = th.mean(D_attack)\n",
        "        gradient_penalty = compute_gradient_penalty(discriminator, normal_b.data, adversarial_attack.data)\n",
        "        d_loss = loss_attack - loss_normal #+ LAMBDA * gradient_penalty\n",
        "        d_loss.backward()\n",
        "        optimizer_D.step()\n",
        "        run_d_loss += d_loss.item()\n",
        "    return run_d_loss, cnt\n",
        "\n",
        "# compute_gradient_penalty - Compute Gradient Penalty\n",
        "def compute_gradient_penalty(D, normal_t, attack_t):\n",
        "    alpha = th.Tensor(np.random.random((normal_t.shape[0], 1)))\n",
        "    between_n_a = (alpha * normal_t + ((1 - alpha) * attack_t)).requires_grad_(True)\n",
        "    d_between_n_a = D(between_n_a)\n",
        "    adv = V(th.Tensor(normal_t.shape[0], 1).fill_(1.0), requires_grad=False)\n",
        "\n",
        "    gradients = autograd.grad(\n",
        "        outputs=d_between_n_a,\n",
        "        inputs=between_n_a,\n",
        "        grad_outputs=adv,\n",
        "        create_graph=True,\n",
        "        retain_graph=True,\n",
        "        only_inputs=True,\n",
        "    )[0]\n",
        "    gradients = gradients.view(gradients.size(0), -1)\n",
        "    gradient_penalty = ((gradients.norm(2, dim=1) - 1) ** 2).mean()\n",
        "    return gradient_penalty"
      ],
      "execution_count": 49,
      "outputs": []
    },
    {
      "cell_type": "markdown",
      "metadata": {
        "id": "jRhNLI_jSKIg",
        "colab_type": "text"
      },
      "source": [
        "### Generate Adversarial Attack Functions"
      ]
    },
    {
      "cell_type": "code",
      "metadata": {
        "id": "RyrR7KLNSPtu",
        "colab_type": "code",
        "colab": {}
      },
      "source": [
        "# cal_dr - Tinh DR\n",
        "def cal_dr(ids_model, normal, raw_attack, adversarial_attack):\n",
        "    # Make data to feed IDS contain: Attack & Normal\n",
        "    o_ids_input = th.cat((raw_attack, normal))\n",
        "    a_ids_input = th.cat((adversarial_attack,normal))\n",
        "    # Shuffle Input\n",
        "    l = list(range(len(a_ids_input)))\n",
        "    np.random.shuffle(l)\n",
        "    o_ids_input = o_ids_input[l]\n",
        "    a_ids_input = a_ids_input[l]\n",
        "    # IDS Predict Label\n",
        "    o_pred_label = th.Tensor(ids_model.predict(o_ids_input))\n",
        "    a_pred_label = th.Tensor(ids_model.predict(a_ids_input))\n",
        "    # True Label\n",
        "    ids_true_label = np.r_[np.ones(BATCH_SIZE),np.zeros(BATCH_SIZE)][l]\n",
        "    # Calc DR\n",
        "    tn1, fn1, fp1, tp1 = confusion_matrix(ids_true_label,o_pred_label).ravel()\n",
        "    tn2, fn2, fp2, tp2 = confusion_matrix(ids_true_label,a_pred_label).ravel()\n",
        "    origin_dr = tp1/(tp1 + fp1)\n",
        "    adversarial_dr = tp2/(tp2 + fp2)\n",
        "    return origin_dr, adversarial_dr"
      ],
      "execution_count": 50,
      "outputs": []
    },
    {
      "cell_type": "markdown",
      "metadata": {
        "id": "mhh9MVwBPvep",
        "colab_type": "text"
      },
      "source": [
        "###Save Generated Dataset"
      ]
    },
    {
      "cell_type": "code",
      "metadata": {
        "id": "8cMrzTPEPmbp",
        "colab_type": "code",
        "colab": {}
      },
      "source": [
        "# save_generated_dataset - Save Generated Dataset\n",
        "def save_generated_dataset(df, path):\n",
        "    df.to_csv(path, index = False, header=True)\n",
        "    print(f\"\t    Generated Dataset Saved\\n\t    Saved Path: {path}\")"
      ],
      "execution_count": 51,
      "outputs": []
    },
    {
      "cell_type": "markdown",
      "metadata": {
        "id": "nDp5Uy_HaShp",
        "colab_type": "text"
      },
      "source": [
        "# **3. Run Model**"
      ]
    },
    {
      "cell_type": "code",
      "metadata": {
        "id": "7hTHJcBcRKjg",
        "colab_type": "code",
        "cellView": "form",
        "colab": {
          "base_uri": "https://localhost:8080/",
          "height": 68
        },
        "outputId": "aef9a232-5037-4acb-d006-9b881ad4d257"
      },
      "source": [
        "#@title **CONSTS RUN MODEL**\n",
        "Default_IDS_Model_Created = {'LogicticRegression': '2020-07-10', \n",
        "                          'sklearn_SVM': '2020-07-11', \n",
        "                          'GaussianNB': '2020-07-08', \n",
        "                          'DT': '2020-07-08',\n",
        "                          'RF': '2020-07-08',\n",
        "                          'KNN': '2020-07-08'\n",
        "                          }\n",
        "ids_ml_model_name = \"LogicticRegression\" #@param ['LogicticRegression', 'sklearn_SVM', 'GaussianNB', 'DT', 'RF', 'KNN']\n",
        "ids_created_date = 'Auto' #@param [\"Auto\", \"2020-07-08\",\"2020-07-10\", \"2020-07-11\"]\n",
        "if ids_created_date == 'Auto':\n",
        "    ids_created_date = Default_IDS_Model_Created[ids_ml_model_name]\n",
        "print(f\"IDS: {ids_ml_model_name} - created on: \\t{ids_created_date}\")\n",
        "GAN_variant = 'WGAN' #@param ['WGAN', 'WGANGP']\n",
        "MAX_EPOCH = 100 #@param [100, 10, 2] {type:\"raw\"}\n",
        "ATTACK_CATEGORIES = 'ALL' #@param ['ALL', 'DOS', 'U2R_AND_R2L']\n",
        "if ATTACK_CATEGORIES == 'ALL':\n",
        "    ATTACK_CATEGORIES = ['DOS', 'U2R_AND_R2L']\n",
        "else:\n",
        "    ATTACK_CATEGORIES = [ATTACK_CATEGORIES]\n",
        "print(f\"ATTACK_CATEGORIES: \\t\\t{ATTACK_CATEGORIES}\")\n",
        "\n",
        "ADVERSARIAL_ATTACK_TYPES = 4 #@param [0, 1, 2, 3, 4] {type:\"raw\"}\n",
        "if ADVERSARIAL_ATTACK_TYPES == 0:\n",
        "    ADVERSARIAL_ATTACK_TYPES = [1, 2, 3]\n",
        "else:\n",
        "    ADVERSARIAL_ATTACK_TYPES = [ADVERSARIAL_ATTACK_TYPES]\n",
        "print(f\"ADVERSARIAL_ATTACK_TYPES: \\t{ADVERSARIAL_ATTACK_TYPES}\")\n",
        "\n",
        "NOISE_DIM = 9 #@param[0, 9, 41] {type:\"raw\"}"
      ],
      "execution_count": 52,
      "outputs": [
        {
          "output_type": "stream",
          "text": [
            "IDS: LogicticRegression - created on: \t2020-07-10\n",
            "ATTACK_CATEGORIES: \t\t['DOS', 'U2R_AND_R2L']\n",
            "ADVERSARIAL_ATTACK_TYPES: \t[4]\n"
          ],
          "name": "stdout"
        }
      ]
    },
    {
      "cell_type": "markdown",
      "metadata": {
        "id": "MZf0IHMMp1jV",
        "colab_type": "text"
      },
      "source": [
        "Attack Category: 0,1,2,3,4  \n",
        "0: All  \n",
        "1: G_in = noise (dim = 9)  \n",
        "2: G_in = noise (dim = 9)  (same as 1)  \n",
        "3: G_in = nonfunctional features  \n",
        "4: G_in = noise (dim = nf --> Number of nonfunctional features)"
      ]
    },
    {
      "cell_type": "markdown",
      "metadata": {
        "id": "jQNXCNMEx1bn",
        "colab_type": "text"
      },
      "source": [
        "## **3.2 Run Generate Adversarial Traffic**"
      ]
    },
    {
      "cell_type": "code",
      "metadata": {
        "id": "A7scyNxGGdkp",
        "colab_type": "code",
        "cellView": "form",
        "colab": {
          "base_uri": "https://localhost:8080/",
          "height": 34
        },
        "outputId": "47b63f28-924f-4fcb-d1df-564494ca8c13"
      },
      "source": [
        "#@title OPTION FOR GEN&SAVE\n",
        "\n",
        "default_gan_model_time_created = {'LogicticRegression': '2020-07-21'}\n",
        "gan_model_time_created = \"Auto\" #@param [\"Auto\"] {allow-input: true}\n",
        "if gan_model_time_created == 'Auto':\n",
        "    gan_model_time_created = default_gan_model_time_created[ids_ml_model_name]\n",
        "print(f\"GAN Model Created Time: {gan_model_time_created}\")\n",
        "BATCH_SIZE = 256 #@param [\"256\"] {type:\"raw\", allow-input: true}\n",
        "\n",
        "\n"
      ],
      "execution_count": 53,
      "outputs": [
        {
          "output_type": "stream",
          "text": [
            "GAN Model Created Time: 2020-07-21\n"
          ],
          "name": "stdout"
        }
      ]
    },
    {
      "cell_type": "code",
      "metadata": {
        "id": "HPx41fPd6CiW",
        "colab_type": "code",
        "colab": {
          "base_uri": "https://localhost:8080/",
          "height": 51
        },
        "outputId": "8c8f4d4e-e4a9-423f-c306-0c0e67a50cef"
      },
      "source": [
        "# Load Testset\n",
        "testset = pd.read_csv(testset_path)\n",
        "DATASET_COLUMNS = testset.columns[0:41]\n",
        "print(f\"Amount of KDDTest+: \\t\\t{len(testset)}\")\n",
        "# test_normal\n",
        "test_normal = np.array(testset[testset[\"class\"] == 'Normal'])[:,:-1]\n",
        "# Create batch of normal traffic\n",
        "test_batch_normal = create_batch2(test_normal,BATCH_SIZE).astype('float64')\n",
        "print(f\"Amount of Normal:\\t\\t{len(test_normal)} ({len(test_batch_normal)} batchs - {BATCH_SIZE} records/batch)\")"
      ],
      "execution_count": 54,
      "outputs": [
        {
          "output_type": "stream",
          "text": [
            "Amount of KDDTest+: \t\t20123\n",
            "Amount of Normal:\t\t9711 (37 batchs - 256 records/batch)\n"
          ],
          "name": "stdout"
        }
      ]
    },
    {
      "cell_type": "code",
      "metadata": {
        "id": "tywhW8wQYvNK",
        "colab_type": "code",
        "colab": {
          "base_uri": "https://localhost:8080/",
          "height": 255
        },
        "outputId": "e21cc5d5-742b-4964-92c4-7ff7f3d42891"
      },
      "source": [
        "print(DATASET_COLUMNS)"
      ],
      "execution_count": 76,
      "outputs": [
        {
          "output_type": "stream",
          "text": [
            "Index(['duration', 'protocol_type', 'service', 'flag', 'src_bytes',\n",
            "       'dst_bytes', 'land', 'wrong_fragment', 'urgent', 'hot',\n",
            "       'num_failed_logins', 'logged_in', 'num_compromised', 'root_shell',\n",
            "       'su_attempted', 'num_root', 'num_file_creations', 'num_shells',\n",
            "       'num_access_files', 'num_outbound_cmds', 'is_host_login',\n",
            "       'is_guest_login', 'count', 'srv_count', 'serror_rate',\n",
            "       'srv_serror_rate', 'rerror_rate', 'srv_rerror_rate', 'same_srv_rate',\n",
            "       'diff_srv_rate', 'srv_diff_host_rate', 'dst_host_count',\n",
            "       'dst_host_srv_count', 'dst_host_same_srv_rate',\n",
            "       'dst_host_diff_srv_rate', 'dst_host_same_src_port_rate',\n",
            "       'dst_host_srv_diff_host_rate', 'dst_host_serror_rate',\n",
            "       'dst_host_srv_serror_rate', 'dst_host_rerror_rate',\n",
            "       'dst_host_srv_rerror_rate'],\n",
            "      dtype='object')\n"
          ],
          "name": "stdout"
        }
      ]
    },
    {
      "cell_type": "code",
      "metadata": {
        "id": "ZhPpd8MCx10u",
        "colab_type": "code",
        "colab": {
          "base_uri": "https://localhost:8080/",
          "height": 1000
        },
        "outputId": "08190cdb-585a-4e0e-d2e0-476ed940a8c7"
      },
      "source": [
        "# Adversarial Traffic Evaluating\n",
        "print(f\"{40*'='} ADVERSARIAL TRAFFIC EVALUATING {40*'='}\")\n",
        "print(f\"{80*'='}\\n IDS Model: {ids_ml_model_name}\")\n",
        "\n",
        "for adversarial_attack_type in ADVERSARIAL_ATTACK_TYPES:\n",
        "    print(f\"{80*'*'}\\n Adversarial Attack Type : {adversarial_attack_type}\")\n",
        "    for attack_category in ATTACK_CATEGORIES:\n",
        "        print(f\"{80*'-'}\\n - Attack Category: {attack_category}\")\n",
        "        \n",
        "        # Load sklearn IDS Model\n",
        "        ids_model = load_sklearn_ids_model(ids_ml_model_name, attack_category, ids_created_date)\n",
        "        # Init GAN-G model\n",
        "        G_OUTPUT_DIM = len(POS_NONFUNCTIONAL_FEATURES[attack_category])      # Generator input dimension is dimention of noise\n",
        "        print(f\"    nf              : {G_OUTPUT_DIM} (num. of nonfunctional features)\")\n",
        "        if adversarial_attack_type == 4 or adversarial_attack_type == 3:\n",
        "            NOISE_DIM = G_OUTPUT_DIM                                        # Adversarial Attack Type 3,4: Noise dim = nonfunctional feature\n",
        "        G_INPUT_DIM = NOISE_DIM                                             # G_INPUT_DIM = NOISE_DIM\n",
        "        print(f\"    GAN-G NOISE DIM : {NOISE_DIM}\")\n",
        "        print(f\"    GAN-G INPUT DIM : {G_INPUT_DIM}\")\n",
        "        print(f\"    GAN-G OUTPUT DIM: {G_OUTPUT_DIM}\")\n",
        "        generator = init_generator(G_INPUT_DIM,G_OUTPUT_DIM, adversarial_attack_type)\n",
        "        # Load Attack Dataset\n",
        "        test_raw_attack = preprocess_malicious_data(testset, attack_category)\n",
        "        # Create batch of attack traffic\n",
        "        batch_attack = create_batch2(test_raw_attack, BATCH_SIZE)\n",
        "        n_batch_attack = len(batch_attack)\n",
        "        print(f\"{4*' '}Amout of {attack_category}:\\t{len(test_raw_attack)} ({n_batch_attack} batchs - {BATCH_SIZE} records/batch)\")\n",
        "        \n",
        "        # Calc DR through each epoch\n",
        "        gan_g_folder_path = str(f\"{GAN_Model_Path}Machine_Learning/{ids_ml_model_name}/{attack_category}/{adversarial_attack_type}/\")\n",
        "        print(f\"{4*' '}GAN Models Folder: {gan_g_folder_path}\")\n",
        "        for epoch in range(0, MAX_EPOCH + 1, 10):\n",
        "            # Load GAN-G Model\n",
        "            model_g_save_name = f\"time_created_{gan_model_time_created}_GAN_G_{1 if epoch == 0 else epoch}epoch.pth\"\n",
        "            gan_g_model_path = gan_g_folder_path + model_g_save_name\n",
        "            param = th.load(gan_g_model_path,map_location=lambda x,y:x)\n",
        "            generator.load_state_dict(param)\n",
        "            generator.eval()\n",
        "\n",
        "            generated_dataset = pd.DataFrame(columns=DATASET_COLUMNS)\n",
        "            o_dr,a_dr =[],[]\n",
        "            with th.no_grad():\n",
        "                for idx, bn in enumerate(test_batch_normal):\n",
        "                    normal_b = th.Tensor(bn)\n",
        "                    attack_b = th.Tensor(batch_attack[idx % n_batch_attack])\n",
        "                    # Generate Adversarial Traffic\n",
        "                    adversarial_attack_b = gen_adversarial_attack(generator, NOISE_DIM, attack_b, attack_category, adversarial_attack_type).detach()\n",
        "                    if (idx < n_batch_attack):\n",
        "                        epoch_dataset = pd.DataFrame(data = np.array(adversarial_attack_b), columns=DATASET_COLUMNS)\n",
        "                        generated_dataset = generated_dataset.append(epoch_dataset, ignore_index = True)\n",
        "                    \n",
        "\n",
        "                    # Calc DR\n",
        "                    origin_dr, adversarial_dr = cal_dr(ids_model, normal_b, attack_b, adversarial_attack_b)\n",
        "                    o_dr.append(origin_dr)\n",
        "                    a_dr.append(adversarial_dr)\n",
        "            eir = 1 - (np.mean(a_dr)/np.mean(o_dr))\n",
        "            print(f\"\\t {epoch:3d} epochs:\\tOrigin DR : {np.mean(o_dr)*100:.2f}% \\t Adversarial DR : {np.mean(a_dr)*100:.2f}% \\t EIR : {eir*100:.2f}%\")\n",
        "            \n",
        "            generated_dataset_folder_path = str(f\"{Generated_Dataset_Save_Path}Machine_Learning/{ids_ml_model_name}/{attack_category}/{adversarial_attack_type}/\")\n",
        "            if not os.path.exists(generated_dataset_folder_path):\n",
        "                os.makedirs(generated_dataset_folder_path)\n",
        "            generated_dataset_file_path = generated_dataset_folder_path + str(f\"time_created_{date.today()}_{epoch}epoch.csv\")\n",
        "            save_generated_dataset(generated_dataset, generated_dataset_file_path)"
      ],
      "execution_count": 55,
      "outputs": [
        {
          "output_type": "stream",
          "text": [
            "======================================== ADVERSARIAL TRAFFIC EVALUATING ========================================\n",
            "================================================================================\n",
            " IDS Model: LogicticRegression\n",
            "********************************************************************************\n",
            " Adversarial Attack Type : 4\n",
            "--------------------------------------------------------------------------------\n",
            " - Attack Category: DOS\n",
            "    Loaded IDS Model From: /content/drive/My Drive/Study/KLTN/Saved Model/IDSModel/DOS/Machine_Learning/created_date_2020-07-10_LogicticRegression.pkl\n",
            "    nf              : 24 (num. of nonfunctional features)\n",
            "    GAN-G NOISE DIM : 24\n",
            "    GAN-G INPUT DIM : 24\n",
            "    GAN-G OUTPUT DIM: 24\n",
            "    Amout of DOS:\t7460 (29 batchs - 256 records/batch)\n",
            "    GAN Models Folder: /content/drive/My Drive/Study/KLTN/Saved Model/GANModel/Machine_Learning/LogicticRegression/DOS/4/\n",
            "\t   0 epochs:\tOrigin DR : 79.30% \t Adversarial DR : 0.10% \t EIR : 99.88%\n",
            "\t    Generated Dataset Saved\n",
            "\t    Saved Path: /content/drive/My Drive/Study/KLTN/Generated Datasets/Machine_Learning/LogicticRegression/DOS/4/time_created_2020-08-01_0epoch.csv\n",
            "\t  10 epochs:\tOrigin DR : 79.30% \t Adversarial DR : 0.01% \t EIR : 99.99%\n",
            "\t    Generated Dataset Saved\n",
            "\t    Saved Path: /content/drive/My Drive/Study/KLTN/Generated Datasets/Machine_Learning/LogicticRegression/DOS/4/time_created_2020-08-01_10epoch.csv\n",
            "\t  20 epochs:\tOrigin DR : 79.30% \t Adversarial DR : 0.00% \t EIR : 100.00%\n",
            "\t    Generated Dataset Saved\n",
            "\t    Saved Path: /content/drive/My Drive/Study/KLTN/Generated Datasets/Machine_Learning/LogicticRegression/DOS/4/time_created_2020-08-01_20epoch.csv\n",
            "\t  30 epochs:\tOrigin DR : 79.30% \t Adversarial DR : 0.08% \t EIR : 99.89%\n",
            "\t    Generated Dataset Saved\n",
            "\t    Saved Path: /content/drive/My Drive/Study/KLTN/Generated Datasets/Machine_Learning/LogicticRegression/DOS/4/time_created_2020-08-01_30epoch.csv\n",
            "\t  40 epochs:\tOrigin DR : 79.30% \t Adversarial DR : 0.00% \t EIR : 100.00%\n",
            "\t    Generated Dataset Saved\n",
            "\t    Saved Path: /content/drive/My Drive/Study/KLTN/Generated Datasets/Machine_Learning/LogicticRegression/DOS/4/time_created_2020-08-01_40epoch.csv\n",
            "\t  50 epochs:\tOrigin DR : 79.30% \t Adversarial DR : 0.10% \t EIR : 99.88%\n",
            "\t    Generated Dataset Saved\n",
            "\t    Saved Path: /content/drive/My Drive/Study/KLTN/Generated Datasets/Machine_Learning/LogicticRegression/DOS/4/time_created_2020-08-01_50epoch.csv\n",
            "\t  60 epochs:\tOrigin DR : 79.30% \t Adversarial DR : 0.10% \t EIR : 99.88%\n",
            "\t    Generated Dataset Saved\n",
            "\t    Saved Path: /content/drive/My Drive/Study/KLTN/Generated Datasets/Machine_Learning/LogicticRegression/DOS/4/time_created_2020-08-01_60epoch.csv\n",
            "\t  70 epochs:\tOrigin DR : 79.30% \t Adversarial DR : 0.00% \t EIR : 100.00%\n",
            "\t    Generated Dataset Saved\n",
            "\t    Saved Path: /content/drive/My Drive/Study/KLTN/Generated Datasets/Machine_Learning/LogicticRegression/DOS/4/time_created_2020-08-01_70epoch.csv\n",
            "\t  80 epochs:\tOrigin DR : 79.30% \t Adversarial DR : 0.00% \t EIR : 100.00%\n",
            "\t    Generated Dataset Saved\n",
            "\t    Saved Path: /content/drive/My Drive/Study/KLTN/Generated Datasets/Machine_Learning/LogicticRegression/DOS/4/time_created_2020-08-01_80epoch.csv\n",
            "\t  90 epochs:\tOrigin DR : 79.30% \t Adversarial DR : 0.00% \t EIR : 100.00%\n",
            "\t    Generated Dataset Saved\n",
            "\t    Saved Path: /content/drive/My Drive/Study/KLTN/Generated Datasets/Machine_Learning/LogicticRegression/DOS/4/time_created_2020-08-01_90epoch.csv\n",
            "\t 100 epochs:\tOrigin DR : 79.30% \t Adversarial DR : 0.00% \t EIR : 100.00%\n",
            "\t    Generated Dataset Saved\n",
            "\t    Saved Path: /content/drive/My Drive/Study/KLTN/Generated Datasets/Machine_Learning/LogicticRegression/DOS/4/time_created_2020-08-01_100epoch.csv\n",
            "--------------------------------------------------------------------------------\n",
            " - Attack Category: U2R_AND_R2L\n",
            "    Loaded IDS Model From: /content/drive/My Drive/Study/KLTN/Saved Model/IDSModel/U2R_AND_R2L/Machine_Learning/created_date_2020-07-10_LogicticRegression.pkl\n",
            "    nf              : 18 (num. of nonfunctional features)\n",
            "    GAN-G NOISE DIM : 18\n",
            "    GAN-G INPUT DIM : 18\n",
            "    GAN-G OUTPUT DIM: 18\n",
            "    Amout of U2R_AND_R2L:\t2952 (11 batchs - 256 records/batch)\n",
            "    GAN Models Folder: /content/drive/My Drive/Study/KLTN/Saved Model/GANModel/Machine_Learning/LogicticRegression/U2R_AND_R2L/4/\n",
            "\t   0 epochs:\tOrigin DR : 0.46% \t Adversarial DR : 0.00% \t EIR : 100.00%\n",
            "\t    Generated Dataset Saved\n",
            "\t    Saved Path: /content/drive/My Drive/Study/KLTN/Generated Datasets/Machine_Learning/LogicticRegression/U2R_AND_R2L/4/time_created_2020-08-01_0epoch.csv\n",
            "\t  10 epochs:\tOrigin DR : 0.46% \t Adversarial DR : 0.00% \t EIR : 100.00%\n",
            "\t    Generated Dataset Saved\n",
            "\t    Saved Path: /content/drive/My Drive/Study/KLTN/Generated Datasets/Machine_Learning/LogicticRegression/U2R_AND_R2L/4/time_created_2020-08-01_10epoch.csv\n",
            "\t  20 epochs:\tOrigin DR : 0.46% \t Adversarial DR : 0.00% \t EIR : 100.00%\n",
            "\t    Generated Dataset Saved\n",
            "\t    Saved Path: /content/drive/My Drive/Study/KLTN/Generated Datasets/Machine_Learning/LogicticRegression/U2R_AND_R2L/4/time_created_2020-08-01_20epoch.csv\n",
            "\t  30 epochs:\tOrigin DR : 0.46% \t Adversarial DR : 0.00% \t EIR : 100.00%\n",
            "\t    Generated Dataset Saved\n",
            "\t    Saved Path: /content/drive/My Drive/Study/KLTN/Generated Datasets/Machine_Learning/LogicticRegression/U2R_AND_R2L/4/time_created_2020-08-01_30epoch.csv\n",
            "\t  40 epochs:\tOrigin DR : 0.46% \t Adversarial DR : 0.00% \t EIR : 100.00%\n",
            "\t    Generated Dataset Saved\n",
            "\t    Saved Path: /content/drive/My Drive/Study/KLTN/Generated Datasets/Machine_Learning/LogicticRegression/U2R_AND_R2L/4/time_created_2020-08-01_40epoch.csv\n",
            "\t  50 epochs:\tOrigin DR : 0.46% \t Adversarial DR : 0.00% \t EIR : 100.00%\n",
            "\t    Generated Dataset Saved\n",
            "\t    Saved Path: /content/drive/My Drive/Study/KLTN/Generated Datasets/Machine_Learning/LogicticRegression/U2R_AND_R2L/4/time_created_2020-08-01_50epoch.csv\n",
            "\t  60 epochs:\tOrigin DR : 0.46% \t Adversarial DR : 0.00% \t EIR : 100.00%\n",
            "\t    Generated Dataset Saved\n",
            "\t    Saved Path: /content/drive/My Drive/Study/KLTN/Generated Datasets/Machine_Learning/LogicticRegression/U2R_AND_R2L/4/time_created_2020-08-01_60epoch.csv\n",
            "\t  70 epochs:\tOrigin DR : 0.46% \t Adversarial DR : 0.00% \t EIR : 100.00%\n",
            "\t    Generated Dataset Saved\n",
            "\t    Saved Path: /content/drive/My Drive/Study/KLTN/Generated Datasets/Machine_Learning/LogicticRegression/U2R_AND_R2L/4/time_created_2020-08-01_70epoch.csv\n",
            "\t  80 epochs:\tOrigin DR : 0.46% \t Adversarial DR : 0.00% \t EIR : 100.00%\n",
            "\t    Generated Dataset Saved\n",
            "\t    Saved Path: /content/drive/My Drive/Study/KLTN/Generated Datasets/Machine_Learning/LogicticRegression/U2R_AND_R2L/4/time_created_2020-08-01_80epoch.csv\n",
            "\t  90 epochs:\tOrigin DR : 0.46% \t Adversarial DR : 0.00% \t EIR : 100.00%\n",
            "\t    Generated Dataset Saved\n",
            "\t    Saved Path: /content/drive/My Drive/Study/KLTN/Generated Datasets/Machine_Learning/LogicticRegression/U2R_AND_R2L/4/time_created_2020-08-01_90epoch.csv\n",
            "\t 100 epochs:\tOrigin DR : 0.46% \t Adversarial DR : 0.00% \t EIR : 100.00%\n",
            "\t    Generated Dataset Saved\n",
            "\t    Saved Path: /content/drive/My Drive/Study/KLTN/Generated Datasets/Machine_Learning/LogicticRegression/U2R_AND_R2L/4/time_created_2020-08-01_100epoch.csv\n"
          ],
          "name": "stdout"
        }
      ]
    },
    {
      "cell_type": "markdown",
      "metadata": {
        "id": "aqsEac7uRFvc",
        "colab_type": "text"
      },
      "source": [
        "# **4. Compare Datasets**"
      ]
    },
    {
      "cell_type": "code",
      "metadata": {
        "colab_type": "code",
        "cellView": "form",
        "id": "vayOPy47SxrE",
        "colab": {
          "base_uri": "https://localhost:8080/",
          "height": 51
        },
        "outputId": "ee7b2c67-72ff-4296-b982-fd7f8ddcc12a"
      },
      "source": [
        "#@title **CONSTS FOR COMPARE DATASET**\n",
        "ATTACK_CATEGORIES = 'DOS' #@param ['ALL', 'DOS', 'U2R_AND_R2L']\n",
        "if ATTACK_CATEGORIES == 'ALL':\n",
        "    ATTACK_CATEGORIES = ['DOS', 'U2R_AND_R2L']\n",
        "else:\n",
        "    ATTACK_CATEGORIES = [ATTACK_CATEGORIES]\n",
        "print(f\"ATTACK_CATEGORIES: \\t\\t{ATTACK_CATEGORIES}\")\n",
        "\n",
        "ADVERSARIAL_ATTACK_TYPES = 4 #@param [0, 1, 2, 3, 4] {type:\"raw\"}\n",
        "if ADVERSARIAL_ATTACK_TYPES == 0:\n",
        "    ADVERSARIAL_ATTACK_TYPES = [1, 2, 3]\n",
        "else:\n",
        "    ADVERSARIAL_ATTACK_TYPES = [ADVERSARIAL_ATTACK_TYPES]\n",
        "print(f\"ADVERSARIAL_ATTACK_TYPES: \\t{ADVERSARIAL_ATTACK_TYPES}\")"
      ],
      "execution_count": 59,
      "outputs": [
        {
          "output_type": "stream",
          "text": [
            "ATTACK_CATEGORIES: \t\t['DOS']\n",
            "ADVERSARIAL_ATTACK_TYPES: \t[4]\n"
          ],
          "name": "stdout"
        }
      ]
    },
    {
      "cell_type": "code",
      "metadata": {
        "id": "JCcd5ldURK7D",
        "colab_type": "code",
        "colab": {
          "base_uri": "https://localhost:8080/",
          "height": 51
        },
        "outputId": "2e9b4917-b695-410d-b7f7-05f6300e1f37"
      },
      "source": [
        "# PATH\n",
        "if ATTACK_CATEGORIES[0] == 'DOS':\n",
        "    adversarial_set_path = '/content/drive/My Drive/Study/KLTN/Generated Datasets/Machine_Learning/LogicticRegression/DOS/4/time_created_2020-08-01_100epoch.csv'\n",
        "elif ATTACK_CATEGORIES[0] == 'U2R_AND_R2L':\n",
        "    adversarial_set_path = '/content/drive/My Drive/Study/KLTN/Generated Datasets/Machine_Learning/LogicticRegression/U2R_AND_R2L/4/time_created_2020-08-01_100epoch.csv'\n",
        "else:\n",
        "    raise ValueError(\"Invalid Attack Category\")\n",
        "\n",
        "# Load dataset\n",
        "testset = pd.read_csv(testset_path)\n",
        "adversarial_set = pd.read_csv(adversarial_set_path)\n",
        "\n",
        "# Data\n",
        "adversarial_attack = np.array(adversarial_set)\n",
        "print(f\"Attack Category: {ATTACK_CATEGORIES[0]}\\nAdversarial Attack Data Shape: {adversarial_attack.shape}\")"
      ],
      "execution_count": 97,
      "outputs": [
        {
          "output_type": "stream",
          "text": [
            "Attack Category: DOS\n",
            "Adversarial Attack Data Shape: (7424, 41)\n"
          ],
          "name": "stdout"
        }
      ]
    },
    {
      "cell_type": "code",
      "metadata": {
        "id": "M9eVl5rRR2Bq",
        "colab_type": "code",
        "colab": {
          "base_uri": "https://localhost:8080/",
          "height": 1000
        },
        "outputId": "6aa5a8fa-b2d3-4870-9dab-60917b6fe611"
      },
      "source": [
        "# Compare Dataset\n",
        "print(f\"{40*'='} COMPARE DATASET {40*'='}\")\n",
        "\n",
        "for adversarial_attack_type in ADVERSARIAL_ATTACK_TYPES:\n",
        "    print(f\"{80*'*'}\\n Adversarial Attack Type : {adversarial_attack_type}\")\n",
        "    for attack_category in ATTACK_CATEGORIES:\n",
        "        print(f\"{80*'-'}\\n  # Attack Category: {attack_category}\")\n",
        "\n",
        "        # Load Attack Dataset\n",
        "        test_raw_attack = preprocess_malicious_data(testset, attack_category)\n",
        "        for nonfunctional_feature in  POS_NONFUNCTIONAL_FEATURES[attack_category]:\n",
        "            print(f\"Feature: {DATASET_COLUMNS[nonfunctional_feature]}\")\n",
        "            # cat_val = test_raw_attack[:, nonfunctional_feature].astype('category')\n",
        "            np_cat_val = test_raw_attack[:, nonfunctional_feature]\n",
        "            # cat_val = pd.Series(np_cat_val, dtype=\"category\")\n",
        "            cat_val = pd.Series(np_cat_val)\n",
        "            print(f\"{len(cat_val.unique()):4d}: {cat_val.unique()}\")\n",
        "\n",
        "            np_ad_cat_val = adversarial_attack[:, nonfunctional_feature]\n",
        "            ad_cat_val = pd.Series(np_ad_cat_val)\n",
        "            print(f\"{len(ad_cat_val.unique()):4d}: {ad_cat_val.unique()}\")"
      ],
      "execution_count": 118,
      "outputs": [
        {
          "output_type": "stream",
          "text": [
            "======================================== COMPARE DATASET ========================================\n",
            "********************************************************************************\n",
            " Adversarial Attack Type : 4\n",
            "--------------------------------------------------------------------------------\n",
            "  # Attack Category: DOS\n",
            "Feature: hot\n",
            "   4: [0.         0.01980198 0.00990099 0.02970297]\n",
            "   1: [0.]\n",
            "Feature: num_failed_logins\n",
            "   1: [0.]\n",
            "   1: [1.]\n",
            "Feature: logged_in\n",
            "   2: [0. 1.]\n",
            "   1: [0.]\n",
            "Feature: num_compromised\n",
            "   2: [0.         0.00125628]\n",
            "   1: [0.]\n",
            "Feature: root_shell\n",
            "   1: [0.]\n",
            "   1: [1.]\n",
            "Feature: su_attempted\n",
            "   1: [0.]\n",
            "   1: [1.]\n",
            "Feature: num_root\n",
            "   1: [0.]\n",
            "   1: [0.]\n",
            "Feature: num_file_creations\n",
            "   1: [0.]\n",
            "   1: [0.]\n",
            "Feature: num_shells\n",
            "   1: [0.]\n",
            "   1: [1.]\n",
            "Feature: num_access_files\n",
            "   1: [0.]\n",
            "   1: [1.]\n",
            "Feature: num_outbound_cmds\n",
            "   1: [0.]\n",
            "   1: [0.]\n",
            "Feature: is_host_login\n",
            "   1: [0.]\n",
            "   1: [0.]\n",
            "Feature: is_guest_login\n",
            "   1: [0.]\n",
            "   1: [0.]\n",
            "Feature: count\n",
            " 447: [0.00195695 0.06457926 0.25244618 0.99804305 0.02739726 0.0665362\n",
            " 0.13502935 0.46966732 0.47358121 0.19373777 0.09589041 0.42270059\n",
            " 0.23287671 0.10958904 0.43052838 0.91193738 0.25636008 0.21722114\n",
            " 0.12524462 0.21330724 0.99608611 1.         0.22113503 0.31898239\n",
            " 0.00978474 0.20547945 0.17612524 0.54403131 0.21526419 0.49706458\n",
            " 0.31702544 0.52641879 0.27005871 0.47162427 0.45009785 0.53228963\n",
            " 0.45596869 0.1037182  0.00587084 0.19765166 0.02152642 0.54990215\n",
            " 0.2407045  0.48336595 0.25440313 0.10763209 0.27984344 0.44618395\n",
            " 0.29549902 0.51663405 0.26418787 0.28767123 0.00391389 0.43835616\n",
            " 0.25831703 0.32485323 0.28180039 0.57142857 0.00782779 0.2074364\n",
            " 0.23874755 0.52837573 0.48923679 0.10567515 0.13111546 0.45205479\n",
            " 0.55968689 0.01369863 0.04109589 0.2778865  0.20156556 0.33463796\n",
            " 0.47553816 0.30528376 0.23483366 0.5146771  0.05283757 0.32093933\n",
            " 0.50880626 0.4109589  0.38943249 0.33659491 0.47749511 0.11154599\n",
            " 0.1409002  0.06262231 0.05479452 0.39334638 0.4148728  0.12328767\n",
            " 0.05675147 0.4481409  0.05870841 0.46183953 0.85322896 0.4853229\n",
            " 0.44227006 0.1369863  0.6555773  0.54207436 0.02544031 0.11350294\n",
            " 0.25048924 0.59295499 0.2446184  0.26614481 0.03913894 0.47945205\n",
            " 0.41682975 0.34833659 0.481409   0.19960861 0.08219178 0.09001957\n",
            " 0.01761252 0.24266145 0.04305284 0.32876712 0.04500978 0.04696673\n",
            " 0.42074364 0.48727984 0.46575342 0.39921722 0.86497065 0.26810176\n",
            " 0.42661448 0.0332681  0.22309198 0.39726027 0.43639922 0.15655577\n",
            " 0.3816047  0.06066536 0.55577299 0.40704501 0.28962818 0.56947162\n",
            " 0.27201566 0.01565558 0.34246575 0.43444227 0.67318982 0.53816047\n",
            " 0.12720157 0.18003914 0.58121331 0.37964775 0.21917808 0.40313112\n",
            " 0.19569472 0.01956947 0.02348337 0.36790607 0.52250489 0.88649706\n",
            " 0.02935421 0.50293542 0.50489237 0.18982387 0.28571429 0.55381605\n",
            " 0.08023483 0.26223092 0.57925636 0.35420744 0.30332681 0.15851272\n",
            " 0.42465753 0.5851272  0.42857143 0.07632094 0.71037182 0.11545988\n",
            " 0.5518591  0.40117417 0.22896282 0.35029354 0.39138943 0.22700587\n",
            " 0.5890411  0.2035225  0.0704501  0.54011742 0.22504892 0.21135029\n",
            " 0.29941292 0.44422701 0.46379648 0.09393346 0.88454012 0.35812133\n",
            " 0.36203523 0.28375734 0.56751468 0.33268102 0.05088063 0.07827789\n",
            " 0.26027397 0.74363992 0.8962818  0.54794521 0.13894325 0.23091977\n",
            " 0.44031311 0.56555773 0.99412916 0.53424658 0.07436399 0.53033268\n",
            " 0.37573386 0.29745597 0.14677104 0.09784736 0.27592955 0.16634051\n",
            " 0.45792564 0.06849315 0.20939335 0.07240705 0.3776908  0.75733855\n",
            " 0.16242661 0.45401174 0.52054795 0.11741683 0.41878669 0.36986301\n",
            " 0.14872798 0.29354207 0.45988258 0.49902153 0.04892368 0.50684932\n",
            " 0.24657534 0.14481409 0.60273973 0.56164384 0.32289628 0.12915851\n",
            " 0.52446184 0.37377691 0.89236791 0.70254403 0.01174168 0.80626223\n",
            " 0.30136986 0.46771037 0.15068493 0.51272016 0.08414873 0.23679061\n",
            " 0.11937378 0.36399217 0.09980431 0.41291585 0.69471624 0.49510763\n",
            " 0.18590998 0.58317025 0.58708415 0.18786693 0.10176125 0.7964775\n",
            " 0.37181996 0.2739726  0.83953033 0.49315068 0.18395303 0.85518591\n",
            " 0.518591   0.1741683  0.31506849 0.17808219 0.43248532 0.51076321\n",
            " 0.57338552 0.95694716 0.61643836 0.15264188 0.83561644 0.50097847\n",
            " 0.49119374 0.33855186 0.38356164 0.7925636  0.39530333 0.40508806\n",
            " 0.32681018 0.35616438 0.19178082 0.38747554 0.70450098 0.53620352\n",
            " 0.30919765 0.12133072 0.85714286 0.03522505 0.90019569 0.3111546\n",
            " 0.63796477 0.24853229 0.56360078 0.35225049 0.7553816  0.6223092\n",
            " 0.74951076 0.29158513 0.40900196 0.86692759 0.31311155 0.15459883\n",
            " 0.3072407  0.94911937 0.97651663 0.17221135 0.61252446 0.86105675\n",
            " 0.98434442 0.61056751 0.54598826 0.78277886 0.63013699 0.13307241\n",
            " 0.81409002 0.36007828 0.93150685 0.57729941 0.9667319  0.08610568\n",
            " 0.57534247 0.60078278 0.71428571 0.16046967 0.98630137 0.94324853\n",
            " 0.73189824 0.1702544  0.9334638  0.03131115 0.08806262 0.68493151\n",
            " 0.36594912 0.64383562 0.55772994 0.91976517 0.8297456  0.16438356\n",
            " 0.7260274  0.38551859 0.037182   0.64774951 0.87475538 0.83757339\n",
            " 0.60665362 0.7592955  0.3444227  0.71819961 0.84931507 0.34637965\n",
            " 0.14285714 0.92563601 0.77299413 0.71624266 0.09197652 0.88258317\n",
            " 0.73972603 0.90215264 0.8630137  0.18199609 0.93737769 0.84148728\n",
            " 0.64970646 0.84344423 0.78864971 0.62818004 0.95303327 0.63405088\n",
            " 0.80821918 0.72407045 0.60861057 0.76516634 0.62035225 0.92367906\n",
            " 0.91780822 0.78082192 0.81800391 0.33072407 0.97064579 0.74559687\n",
            " 0.65753425 0.67906067 0.6927593  0.88062622 0.76712329 0.16829746\n",
            " 0.62622309 0.83365949 0.99021526 0.73385519 0.9295499  0.64187867\n",
            " 0.87279843 0.34050881 0.65166341 0.6888454  0.63992172 0.77495108\n",
            " 0.72015656 0.65362035 0.96868885 0.87866928 0.69667319 0.74168297\n",
            " 0.90410959 0.99217221 0.69080235 0.962818   0.98825832 0.90802348\n",
            " 0.67123288 0.81996086 0.83170254 0.75342466 0.66144814 0.73581213\n",
            " 0.59099804 0.98238748 0.70058708 0.87671233 0.76908023 0.70841487\n",
            " 0.82387476 0.96086106 0.68101761 0.93933464 0.80039139 0.68688845\n",
            " 0.89823875 0.60469667 0.86888454 0.90606654 0.89041096 0.77103718\n",
            " 0.66536204 0.95499022 0.59491194]\n",
            "   1: [0.]\n",
            "Feature: dst_host_count\n",
            " 154: [1.         0.44705882 0.17647059 0.61960784 0.25882353 0.7372549\n",
            " 0.81176471 0.79215686 0.56862745 0.34901961 0.68627451 0.34509804\n",
            " 0.32156863 0.96078431 0.77647059 0.64705882 0.00392157 0.68235294\n",
            " 0.80392157 0.93333333 0.14901961 0.91372549 0.87843137 0.96862745\n",
            " 0.42352941 0.25490196 0.00784314 0.44313725 0.12156863 0.5372549\n",
            " 0.07058824 0.94509804 0.69411765 0.65882353 0.78431373 0.08235294\n",
            " 0.91764706 0.37254902 0.98823529 0.18039216 0.1372549  0.54117647\n",
            " 0.92941176 0.65490196 0.48627451 0.01176471 0.05490196 0.63529412\n",
            " 0.77254902 0.22745098 0.26666667 0.9254902  0.23921569 0.95686275\n",
            " 0.29803922 0.29019608 0.03137255 0.31764706 0.88235294 0.71372549\n",
            " 0.61568627 0.90196078 0.83921569 0.69803922 0.09019608 0.9372549\n",
            " 0.86666667 0.70196078 0.97254902 0.92156863 0.60392157 0.13333333\n",
            " 0.4627451  0.38431373 0.02745098 0.85098039 0.10196078 0.16470588\n",
            " 0.81568627 0.73333333 0.56078431 0.43529412 0.04705882 0.32941176\n",
            " 0.4        0.63137255 0.25098039 0.99215686 0.75686275 0.09803922\n",
            " 0.50980392 0.35294118 0.29411765 0.8627451  0.39607843 0.76470588\n",
            " 0.10980392 0.7254902  0.33333333 0.72156863 0.35686275 0.89803922\n",
            " 0.49019608 0.27843137 0.17254902 0.99607843 0.30588235 0.8745098\n",
            " 0.2        0.4745098  0.98431373 0.5254902  0.89411765 0.18823529\n",
            " 0.97647059 0.23137255 0.94117647 0.01568627 0.94901961 0.90980392\n",
            " 0.51372549 0.76078431 0.40784314 0.50196078 0.36078431 0.56470588\n",
            " 0.96470588 0.8        0.09411765 0.85490196 0.58039216 0.45098039\n",
            " 0.57647059 0.87058824 0.60784314 0.01960784 0.82352941 0.88627451\n",
            " 0.64313725 0.21176471 0.36862745 0.41176471 0.95294118 0.69019608\n",
            " 0.34117647 0.22352941 0.53333333 0.52941176 0.11372549 0.45882353\n",
            " 0.90588235 0.98039216 0.2745098  0.15686275]\n",
            "   1: [0.]\n",
            "Feature: dst_host_srv_count\n",
            " 255: [0.89411765 1.         0.07058824 0.08235294 0.24705882 0.59215686\n",
            " 0.25098039 0.99215686 0.03921569 0.06666667 0.99607843 0.04313725\n",
            " 0.03529412 0.03137255 0.04705882 0.02745098 0.45490196 0.60784314\n",
            " 0.10980392 0.90196078 0.02352941 0.01176471 0.05882353 0.01960784\n",
            " 0.69803922 0.05098039 0.20392157 0.94901961 0.92941176 0.0627451\n",
            " 0.4627451  0.0745098  0.25490196 0.07843137 0.96078431 0.00392157\n",
            " 0.98431373 0.23529412 0.63921569 0.01568627 0.26666667 0.95686275\n",
            " 0.32941176 0.45882353 0.79215686 0.28627451 0.81176471 0.85098039\n",
            " 0.05490196 0.31764706 0.21176471 0.37647059 0.23137255 0.67843137\n",
            " 0.48235294 0.35686275 0.43529412 0.42745098 0.90588235 0.21960784\n",
            " 0.00784314 0.56078431 0.23921569 0.54901961 0.91764706 0.76470588\n",
            " 0.70980392 0.95294118 0.4        0.39607843 0.11372549 0.89803922\n",
            " 0.76862745 0.42352941 0.22352941 0.24313725 0.47058824 0.60392157\n",
            " 0.57254902 0.65098039 0.1254902  0.34509804 0.36862745 0.78823529\n",
            " 0.88627451 0.55294118 0.84705882 0.41568627 0.49803922 0.15294118\n",
            " 0.55686275 0.92156863 0.97254902 0.73333333 0.71764706 0.83137255\n",
            " 0.59607843 0.27843137 0.49019608 0.91372549 0.62745098 0.96470588\n",
            " 0.41176471 0.12941176 0.29019608 0.94509804 0.87058824 0.43921569\n",
            " 0.43137255 0.52156863 0.88235294 0.48627451 0.33333333 0.64705882\n",
            " 0.2627451  0.70196078 0.9372549  0.5372549  0.36470588 0.29411765\n",
            " 0.19607843 0.83529412 0.97647059 0.50980392 0.17647059 0.96862745\n",
            " 0.6627451  0.52941176 0.22745098 0.98823529 0.14509804 0.1372549\n",
            " 0.64313725 0.11764706 0.10196078 0.78039216 0.34901961 0.19215686\n",
            " 0.93333333 0.53333333 0.85882353 0.78431373 0.8        0.80784314\n",
            " 0.50196078 0.50588235 0.12156863 0.16470588 0.29803922 0.65882353\n",
            " 0.66666667 0.68235294 0.54117647 0.41960784 0.7372549  0.74901961\n",
            " 0.82745098 0.31372549 0.71372549 0.90980392 0.16862745 0.68627451\n",
            " 0.08627451 0.94117647 0.2745098  0.76078431 0.98039216 0.85490196\n",
            " 0.3254902  0.6        0.44705882 0.25882353 0.58823529 0.45098039\n",
            " 0.74117647 0.09803922 0.39215686 0.63137255 0.9254902  0.81568627\n",
            " 0.62352941 0.51764706 0.7254902  0.87843137 0.84313725 0.69411765\n",
            " 0.35294118 0.81960784 0.63529412 0.8627451  0.56470588 0.2\n",
            " 0.72941176 0.34117647 0.27058824 0.38823529 0.37254902 0.36078431\n",
            " 0.18431373 0.5254902  0.89019608 0.77254902 0.17254902 0.32156863\n",
            " 0.21568627 0.86666667 0.49411765 0.30196078 0.30980392 0.18823529\n",
            " 0.40784314 0.70588235 0.38431373 0.61568627 0.09019608 0.57647059\n",
            " 0.16078431 0.20784314 0.58431373 0.83921569 0.61176471 0.3372549\n",
            " 0.40392157 0.75294118 0.13333333 0.14117647 0.69019608 0.54509804\n",
            " 0.4745098  0.6745098  0.80392157 0.15686275 0.56862745 0.79607843\n",
            " 0.8745098  0.61960784 0.28235294 0.44313725 0.38039216 0.58039216\n",
            " 0.47843137 0.72156863 0.09411765 0.10588235 0.30588235 0.51372549\n",
            " 0.82352941 0.14901961 0.18039216 0.75686275 0.46666667 0.74509804\n",
            " 0.67058824 0.65490196 0.77647059]\n",
            "   1: [1.]\n",
            "Feature: dst_host_same_srv_rate\n",
            " 101: [0.89 1.   0.07 0.08 0.25 0.59 0.99 0.04 0.03 0.05 0.61 0.62 0.9  0.02\n",
            " 0.01 0.06 0.7  0.2  0.95 0.93 0.46 0.98 0.96 0.   0.24 0.64 0.27 0.41\n",
            " 0.29 0.81 0.85 0.56 0.21 0.38 0.23 0.68 0.48 0.63 0.43 0.91 0.22 0.55\n",
            " 0.79 0.92 0.76 0.74 0.4  0.77 0.42 0.47 0.6  0.57 0.65 0.13 0.35 0.37\n",
            " 0.69 0.5  0.15 0.97 0.72 0.83 0.28 0.49 0.87 0.44 0.52 0.88 0.33 0.94\n",
            " 0.54 0.36 0.84 0.51 0.18 0.66 0.53 0.14 0.1  0.78 0.19 0.31 0.26 0.86\n",
            " 0.45 0.11 0.12 0.16 0.3  0.67 0.75 0.71 0.17 0.09 0.32 0.39 0.82 0.73\n",
            " 0.8  0.34 0.58]\n",
            "   1: [1.]\n",
            "Feature: dst_host_diff_srv_rate\n",
            "  93: [0.02 0.   0.07 0.03 0.01 0.08 0.06 0.09 0.05 0.04 0.1  0.15 0.13 0.14\n",
            " 0.19 0.12 0.73 0.11 0.55 0.4  0.69 0.22 0.39 0.84 0.58 0.21 0.83 0.91\n",
            " 0.37 0.46 0.52 0.44 0.66 1.   0.17 0.68 0.16 0.76 0.28 0.33 0.45 0.43\n",
            " 0.78 0.77 0.18 0.74 0.8  0.41 0.47 0.6  0.42 0.9  0.89 0.26 0.71 0.29\n",
            " 0.49 0.86 0.64 0.3  0.53 0.75 0.25 0.56 0.61 0.24 0.35 0.67 0.65 0.62\n",
            " 0.57 0.72 0.7  0.38 0.34 0.51 0.27 0.85 0.81 0.82 0.36 0.31 0.87 0.59\n",
            " 0.96 0.23 0.63 0.32 0.48 0.2  0.5  0.79 0.93]\n",
            "   1: [1.]\n",
            "Feature: dst_host_same_src_port_rate\n",
            "  78: [0.   0.09 0.01 1.   0.62 0.98 0.02 0.41 0.24 0.79 0.13 0.16 0.99 0.83\n",
            " 0.03 0.05 0.95 0.5  0.14 0.97 0.1  0.06 0.31 0.96 0.54 0.42 0.29 0.48\n",
            " 0.6  0.9  0.75 0.07 0.38 0.91 0.67 0.12 0.89 0.36 0.77 0.26 0.72 0.92\n",
            " 0.51 0.93 0.49 0.4  0.04 0.94 0.43 0.33 0.34 0.88 0.61 0.58 0.69 0.73\n",
            " 0.87 0.32 0.59 0.64 0.18 0.22 0.52 0.86 0.11 0.25 0.82 0.47 0.2  0.55\n",
            " 0.56 0.27 0.8  0.7  0.71 0.44 0.23 0.76]\n",
            "   1: [0.]\n",
            "Feature: dst_host_srv_diff_host_rate\n",
            "  18: [0.   0.02 0.52 0.03 0.56 0.57 0.51 0.14 0.53 1.   0.54 0.01 0.36 0.22\n",
            " 0.67 0.6  0.55 0.17]\n",
            "   1: [1.]\n",
            "Feature: dst_host_serror_rate\n",
            "  97: [0.33 0.04 0.   0.98 0.31 0.01 0.6  0.02 1.   0.57 0.64 0.55 0.44 0.78\n",
            " 0.77 0.18 0.34 0.83 0.99 0.16 0.5  0.62 0.28 0.14 0.61 0.05 0.15 0.47\n",
            " 0.87 0.58 0.25 0.09 0.27 0.45 0.12 0.7  0.1  0.56 0.3  0.81 0.13 0.79\n",
            " 0.35 0.17 0.46 0.65 0.82 0.89 0.29 0.2  0.53 0.49 0.73 0.38 0.11 0.97\n",
            " 0.24 0.37 0.95 0.51 0.32 0.23 0.07 0.06 0.86 0.63 0.03 0.08 0.71 0.19\n",
            " 0.75 0.43 0.4  0.39 0.52 0.76 0.59 0.21 0.22 0.91 0.48 0.41 0.8  0.54\n",
            " 0.85 0.69 0.26 0.68 0.84 0.67 0.42 0.66 0.96 0.36 0.74 0.88 0.72]\n",
            "   1: [0.]\n",
            "Feature: dst_host_srv_serror_rate\n",
            "  99: [0.37 0.04 0.   1.   0.52 0.97 0.01 0.6  0.02 0.57 0.64 0.43 0.35 0.56\n",
            " 0.78 0.83 0.19 0.34 0.61 0.59 0.89 0.74 0.14 0.05 0.45 0.92 0.25 0.09\n",
            " 0.28 0.67 0.8  0.5  0.36 0.55 0.65 0.95 0.91 0.11 0.3  0.84 0.17 0.81\n",
            " 0.51 0.72 0.46 0.63 0.82 0.94 0.39 0.4  0.18 0.48 0.29 0.69 0.98 0.76\n",
            " 0.33 0.03 0.1  0.42 0.49 0.38 0.62 0.07 0.23 0.13 0.06 0.44 0.58 0.47\n",
            " 0.15 0.41 0.2  0.75 0.73 0.77 0.21 0.26 0.71 0.27 0.9  0.32 0.08 0.31\n",
            " 0.16 0.22 0.79 0.53 0.66 0.68 0.54 0.12 0.7  0.24 0.96 0.93 0.85 0.88\n",
            " 0.87]\n",
            "   1: [0.]\n",
            "Feature: dst_host_rerror_rate\n",
            " 101: [0.11 0.68 1.   0.   0.33 0.36 0.73 0.21 0.4  0.31 0.01 0.02 0.04 0.07\n",
            " 0.18 0.69 0.52 0.23 0.56 0.35 0.65 0.49 0.54 0.7  0.05 0.15 0.38 0.26\n",
            " 0.03 0.93 0.99 0.06 0.27 0.85 0.29 0.13 0.6  0.63 0.44 0.09 0.22 0.64\n",
            " 0.37 0.48 0.41 0.58 0.19 0.95 0.98 0.55 0.32 0.72 0.67 0.42 0.2  0.1\n",
            " 0.12 0.71 0.16 0.81 0.79 0.47 0.45 0.61 0.39 0.51 0.96 0.76 0.46 0.28\n",
            " 0.94 0.17 0.14 0.97 0.3  0.75 0.83 0.91 0.88 0.9  0.82 0.34 0.87 0.43\n",
            " 0.08 0.8  0.24 0.53 0.86 0.25 0.5  0.57 0.78 0.59 0.66 0.62 0.89 0.77\n",
            " 0.84 0.92 0.74]\n",
            "   1: [0.]\n",
            "Feature: dst_host_srv_rerror_rate\n",
            "  91: [0.06 0.68 1.   0.   0.09 0.34 0.36 0.73 0.21 0.4  0.32 0.33 0.01 0.02\n",
            " 0.04 0.03 0.19 0.44 0.18 0.17 0.59 0.65 0.49 0.11 0.05 0.26 0.95 0.7\n",
            " 0.41 0.15 0.69 0.27 0.07 0.29 0.57 0.6  0.64 0.54 0.39 0.13 0.48 0.43\n",
            " 0.22 0.58 0.37 0.89 0.55 0.12 0.08 0.1  0.38 0.61 0.63 0.5  0.67 0.97\n",
            " 0.9  0.23 0.51 0.28 0.75 0.94 0.2  0.31 0.3  0.71 0.46 0.8  0.24 0.42\n",
            " 0.25 0.35 0.16 0.53 0.62 0.91 0.56 0.66 0.14 0.45 0.83 0.82 0.52 0.72\n",
            " 0.47 0.88 0.93 0.74 0.96 0.92 0.98]\n",
            "   1: [0.]\n"
          ],
          "name": "stdout"
        }
      ]
    },
    {
      "cell_type": "markdown",
      "metadata": {
        "id": "mwWugTozppL5",
        "colab_type": "text"
      },
      "source": [
        "The Saved Model stored in [Google Drive - GAN Model](https://drive.google.com/drive/u/1/folders/1VNFW-k5SbR0eGsJ_np3U-W3Rcz_n4I8N)\n",
        "\n",
        "The Result of Code stored in [Github - Thesis](https://github.com/thetinybug/thesis-IDSGAN)"
      ]
    }
  ]
}