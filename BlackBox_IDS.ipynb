{
  "nbformat": 4,
  "nbformat_minor": 0,
  "metadata": {
    "colab": {
      "name": "BlackBox_IDS",
      "provenance": [],
      "collapsed_sections": [],
      "toc_visible": true,
      "mount_file_id": "1KztrlmHWeZiT9ZoOMON8Hmn9p35uqjZR",
      "authorship_tag": "ABX9TyO757KqnZ5ejmbfY5shfN2M",
      "include_colab_link": true
    },
    "kernelspec": {
      "name": "python3",
      "display_name": "Python 3"
    },
    "accelerator": "GPU"
  },
  "cells": [
    {
      "cell_type": "markdown",
      "metadata": {
        "id": "view-in-github",
        "colab_type": "text"
      },
      "source": [
        "<a href=\"https://colab.research.google.com/github/thetinybug/Django-Project/blob/master/BlackBox_IDS.ipynb\" target=\"_parent\"><img src=\"https://colab.research.google.com/assets/colab-badge.svg\" alt=\"Open In Colab\"/></a>"
      ]
    },
    {
      "cell_type": "markdown",
      "metadata": {
        "id": "HfVbgm_IdnMH",
        "colab_type": "text"
      },
      "source": [
        "# **0. Một số biến toàn cục**"
      ]
    },
    {
      "cell_type": "markdown",
      "metadata": {
        "id": "7EEmgHXd3poX",
        "colab_type": "text"
      },
      "source": [
        "##**0.1 Paths**"
      ]
    },
    {
      "cell_type": "code",
      "metadata": {
        "id": "uW-RHzMwdsG5",
        "colab_type": "code",
        "colab": {}
      },
      "source": [
        "# Dataset Path\n",
        "DatasetPath = \"/content/drive/My Drive/Study/KLTN/Dataset/NSL-KDD-TM/\"\n",
        "\n",
        "# train_dataset_path = DatasetPath + \"Attack-type Labels/SEPARATED/\" + \"BlackboxTrain.csv\"\n",
        "train_dataset_path = DatasetPath + \"Attack-type Labels/PREPROCESSED/\" + \"KDDTrain+_label_normalized_all.csv\"\n",
        "test_dataset_path = DatasetPath + \"Attack-type Labels/PREPROCESSED/\" + \"KDDTest+_label_normalized_all.csv\"\n",
        "\n",
        "# Save Model Path\n",
        "SavedModelPath = \"/content/drive/My Drive/Study/KLTN/Saved Model/IDSModel/Separated Dataset/\""
      ],
      "execution_count": 0,
      "outputs": []
    },
    {
      "cell_type": "markdown",
      "metadata": {
        "id": "x1Qnuvco3scf",
        "colab_type": "text"
      },
      "source": [
        "##**0.2 Variables**"
      ]
    },
    {
      "cell_type": "code",
      "metadata": {
        "id": "ma4asTLD30Db",
        "colab_type": "code",
        "colab": {}
      },
      "source": [
        "# List Label of DoS Traffic\n",
        "DOS = ['back', 'land', 'neptune', 'pod', 'smurf', 'teardrop', 'mailbomb', 'processtable', 'udpstorm', 'apache2', 'worm']\n",
        "\n",
        "# List Label of U2R Traffic\n",
        "U2R = ['buffer_overflow', 'loadmodule', 'rootkit', 'perl', 'sqlattack', 'xterm', 'ps']\n",
        "\n",
        "# List Label of R2L Traffic\n",
        "R2L = ['guess_passwd', 'ftp_write', 'imap', 'phf', 'multihop', 'warezmaster', 'xlock', 'xsnoop', 'snmpguess', 'snmpgetattack', 'httptunnel', 'sendmail', 'named']\n",
        "\n",
        "# List Label of U2R and R2L Traffic\n",
        "U2R_AND_R2L = U2R + R2L"
      ],
      "execution_count": 0,
      "outputs": []
    },
    {
      "cell_type": "markdown",
      "metadata": {
        "id": "DZkqASdBS-QA",
        "colab_type": "text"
      },
      "source": [
        "#**1. Chuẩn bị**"
      ]
    },
    {
      "cell_type": "markdown",
      "metadata": {
        "id": "m27n3nFSTSv2",
        "colab_type": "text"
      },
      "source": [
        "##1.1 Import thư viện"
      ]
    },
    {
      "cell_type": "markdown",
      "metadata": {
        "id": "08Q42YHGbvLT",
        "colab_type": "text"
      },
      "source": [
        "###1.1.1. Cài đặt các thư viện cần thiết"
      ]
    },
    {
      "cell_type": "code",
      "metadata": {
        "id": "u7ZZvZaAbM1J",
        "colab_type": "code",
        "outputId": "9651dfb0-5f1f-4753-9f4e-01a476221c4e",
        "colab": {
          "base_uri": "https://localhost:8080/",
          "height": 190
        }
      },
      "source": [
        "!pip3 install numpy sklearn pandas"
      ],
      "execution_count": 88,
      "outputs": [
        {
          "output_type": "stream",
          "text": [
            "Requirement already satisfied: numpy in /usr/local/lib/python3.6/dist-packages (1.18.4)\n",
            "Requirement already satisfied: sklearn in /usr/local/lib/python3.6/dist-packages (0.0)\n",
            "Requirement already satisfied: pandas in /usr/local/lib/python3.6/dist-packages (1.0.3)\n",
            "Requirement already satisfied: scikit-learn in /usr/local/lib/python3.6/dist-packages (from sklearn) (0.22.2.post1)\n",
            "Requirement already satisfied: python-dateutil>=2.6.1 in /usr/local/lib/python3.6/dist-packages (from pandas) (2.8.1)\n",
            "Requirement already satisfied: pytz>=2017.2 in /usr/local/lib/python3.6/dist-packages (from pandas) (2018.9)\n",
            "Requirement already satisfied: joblib>=0.11 in /usr/local/lib/python3.6/dist-packages (from scikit-learn->sklearn) (0.15.1)\n",
            "Requirement already satisfied: scipy>=0.17.0 in /usr/local/lib/python3.6/dist-packages (from scikit-learn->sklearn) (1.4.1)\n",
            "Requirement already satisfied: six>=1.5 in /usr/local/lib/python3.6/dist-packages (from python-dateutil>=2.6.1->pandas) (1.12.0)\n"
          ],
          "name": "stdout"
        }
      ]
    },
    {
      "cell_type": "markdown",
      "metadata": {
        "id": "mt5O3Y-fb5Du",
        "colab_type": "text"
      },
      "source": [
        "###1.1.2. Import thư viện"
      ]
    },
    {
      "cell_type": "code",
      "metadata": {
        "id": "YIQ708lZS2lF",
        "colab_type": "code",
        "colab": {}
      },
      "source": [
        "import pandas as pd\n",
        "import numpy as np\n",
        "from sklearn.metrics import confusion_matrix\n",
        "from sklearn.utils import shuffle\n",
        "from datetime import datetime\n",
        "import pytz\n",
        "\n",
        "# Define HCM Timezone\n",
        "time_zone = pytz.timezone('Asia/Ho_Chi_Minh')"
      ],
      "execution_count": 0,
      "outputs": []
    },
    {
      "cell_type": "markdown",
      "metadata": {
        "id": "3Ljsym5CVV0f",
        "colab_type": "text"
      },
      "source": [
        "##1.2 Định nghĩa hàm tạo Batch, Tiền xử lý dữ liệu"
      ]
    },
    {
      "cell_type": "markdown",
      "metadata": {
        "id": "dVEgK0zN7jFq",
        "colab_type": "text"
      },
      "source": [
        "###1.2.1 Tạo Batch"
      ]
    },
    {
      "cell_type": "code",
      "metadata": {
        "id": "wA-LxbnzWXyS",
        "colab_type": "code",
        "colab": {}
      },
      "source": [
        "# Hàm tạo Batch\n",
        "def create_batch1(x,y,batch_size):\n",
        "    a = list(range(len(x)))\n",
        "    np.random.shuffle(a)\n",
        "    x = x[a]\n",
        "    y = y[a]\n",
        "\n",
        "    batch_x = [x[batch_size * i : (i+1)*batch_size,:].tolist() for i in range(len(x)//batch_size)]\n",
        "    batch_y = [y[batch_size * i : (i+1)*batch_size].tolist() for i in range(len(x)//batch_size)]\n",
        "    return batch_x, batch_y "
      ],
      "execution_count": 0,
      "outputs": []
    },
    {
      "cell_type": "markdown",
      "metadata": {
        "id": "IWGJRCNY7nV1",
        "colab_type": "text"
      },
      "source": [
        "###1.2.2 Tiền xử lý dữ liệu"
      ]
    },
    {
      "cell_type": "code",
      "metadata": {
        "id": "Dj37tVSB5ZmH",
        "colab_type": "code",
        "colab": {}
      },
      "source": [
        "# Hàm tiền xử lý dữ liệu\n",
        "# ratio: \n",
        "#   False - Lấy attack_category traffic và all normal traffic trong dataset\n",
        "#   True - Lấy attack_category traffic và 1 lượng normal traffic bằng số lượng attack_category\n",
        "def preprocess_data(dataset, attack_category, ratio = False):\n",
        "    if attack_category != 'DOS' and attack_category != 'U2R_AND_R2L':\n",
        "      print(f\"Preprocess Data Fail: Invalid Attack Category\")\n",
        "      return (np.array(0), np.array(0))\n",
        "    \n",
        "    if attack_category == 'DOS':\n",
        "      # DOS \n",
        "      attack_data = dataset[dataset['class'].isin(DOS)]\n",
        "    else:\n",
        "      # U2R_AND_R2L\n",
        "      attack_data = dataset[dataset['class'].isin(U2R_AND_R2L)]\n",
        "    \n",
        "    if ratio == False:\n",
        "      # Get all Normal Data\n",
        "      normal_data = dataset[dataset['class'] == 'normal']\n",
        "    else:\n",
        "      # Get n Normal Data. n = number record of attack data\n",
        "      normal_data = dataset[dataset['class'] == 'normal'].head(attack_data.shape[0])\n",
        "    \n",
        "    # Combine Data\n",
        "    combine_data = shuffle(pd.concat([attack_data, normal_data]))\n",
        "\n",
        "    # Convert class to Binary\n",
        "    combine_data[\"class\"] = combine_data[\"class\"].map(lambda x : 0 if x == \"normal\" else 1)\n",
        "\n",
        "    # separate data and label\n",
        "    data, label = np.array(combine_data[combine_data.columns[combine_data.columns != \"class\"]]), np.array(combine_data[\"class\"])\n",
        "    return data, label"
      ],
      "execution_count": 0,
      "outputs": []
    },
    {
      "cell_type": "markdown",
      "metadata": {
        "id": "wquWhjq3THhT",
        "colab_type": "text"
      },
      "source": [
        "##1.3 Chuẩn bị dataset"
      ]
    },
    {
      "cell_type": "code",
      "metadata": {
        "id": "mnVIF0OXG-W2",
        "colab_type": "code",
        "colab": {
          "base_uri": "https://localhost:8080/",
          "height": 153
        },
        "outputId": "85a99f70-24d5-4f02-9e18-7423f9d517f5"
      },
      "source": [
        "#Prepare Dataset\n",
        "\n",
        "# Load Dataset\n",
        "train = pd.read_csv(train_dataset_path)\n",
        "test = pd.read_csv(test_dataset_path)\n",
        "\n",
        "\n",
        "\n",
        "print(trainx)\n",
        "print(trainy)"
      ],
      "execution_count": 92,
      "outputs": [
        {
          "output_type": "stream",
          "text": [
            "[[0.e+00 1.e+00 4.e+00 ... 0.e+00 1.e+00 1.e+00]\n",
            " [0.e+00 1.e+00 9.e+00 ... 1.e+00 0.e+00 0.e+00]\n",
            " [0.e+00 3.e+00 2.e+01 ... 0.e+00 0.e+00 0.e+00]\n",
            " ...\n",
            " [0.e+00 1.e+00 3.e+00 ... 0.e+00 1.e+00 1.e+00]\n",
            " [0.e+00 1.e+00 4.e+00 ... 1.e-02 1.e-02 1.e-02]\n",
            " [0.e+00 1.e+00 4.e+00 ... 0.e+00 0.e+00 0.e+00]]\n",
            "[1 1 0 ... 1 0 0]\n"
          ],
          "name": "stdout"
        }
      ]
    },
    {
      "cell_type": "code",
      "metadata": {
        "id": "7RXVPU_HTk30",
        "colab_type": "code",
        "outputId": "43e183f8-5cd1-442c-fac5-46f1936b516a",
        "colab": {
          "base_uri": "https://localhost:8080/",
          "height": 51
        }
      },
      "source": [
        "#Prepare Dataset\n",
        "\n",
        "# Load Dataset\n",
        "train = pd.read_csv(train_dataset_path)\n",
        "test = pd.read_csv(test_dataset_path)\n",
        "\n",
        "# # Convert class to Binary\n",
        "# train[\"class\"] = train[\"class\"].map(lambda x : 0 if x == \"normal\" else 1)\n",
        "# test[\"class\"] = test[\"class\"].map(lambda x : 0 if x == \"normal\" else 1)\n",
        "\n",
        "# # separate data and class\n",
        "# trainx, trainy = np.array(train[train.columns[train.columns != \"class\"]]), np.array(train[\"class\"])\n",
        "# testx, testy= np.array(test[test.columns[test.columns != \"class\"]]),np.array(test[\"class\"])\n",
        "\n",
        "# Preprocess Data\n",
        "trainx, trainy = preprocess_data(train, 'DOS')\n",
        "testx, testy = preprocess_data(test, 'DOS')\n",
        "\n",
        "# batch_size, epoch\n",
        "batch_size = 1024\n",
        "max_epoch = 50\n",
        "\n",
        "# Amount of dataset\n",
        "n_Train = len(trainx)\n",
        "n_Test = len(testx)\n",
        "\n",
        "print(\"Amout of Train Set:\", n_Train)\n",
        "print(\"Amout of Test Set:\", n_Test)"
      ],
      "execution_count": 93,
      "outputs": [
        {
          "output_type": "stream",
          "text": [
            "Amout of Train Set: 113270\n",
            "Amout of Test Set: 17171\n"
          ],
          "name": "stdout"
        }
      ]
    },
    {
      "cell_type": "code",
      "metadata": {
        "id": "gJIlm4iQ78xK",
        "colab_type": "code",
        "colab": {
          "base_uri": "https://localhost:8080/",
          "height": 34
        },
        "outputId": "b9187b72-ae32-4396-e650-25c9dfc2ec91"
      },
      "source": [
        "from sklearn.utils import shuffle\n",
        "df = pd.read_csv(train_dataset_path)\n",
        "# print(df)\n",
        "\n",
        "df2 = df[df['class'] == 'normal'].head(10)\n",
        "\n",
        "df2 = shuffle(df2)\n",
        "\n",
        "print(df2.shape[0])"
      ],
      "execution_count": 94,
      "outputs": [
        {
          "output_type": "stream",
          "text": [
            "10\n"
          ],
          "name": "stdout"
        }
      ]
    },
    {
      "cell_type": "code",
      "metadata": {
        "id": "YkxX8CLQUEll",
        "colab_type": "code",
        "outputId": "2bae5000-99c3-4d8b-f249-db742143708f",
        "colab": {
          "base_uri": "https://localhost:8080/",
          "height": 34
        }
      },
      "source": [
        "print(trainx.shape)"
      ],
      "execution_count": 95,
      "outputs": [
        {
          "output_type": "stream",
          "text": [
            "(113270, 41)\n"
          ],
          "name": "stdout"
        }
      ]
    },
    {
      "cell_type": "markdown",
      "metadata": {
        "id": "otbVJEAzcTv4",
        "colab_type": "text"
      },
      "source": [
        "# **2. Định nghĩa Model**"
      ]
    },
    {
      "cell_type": "markdown",
      "metadata": {
        "id": "NsF64RDMaBFc",
        "colab_type": "text"
      },
      "source": [
        "##2.1. Tạo Model"
      ]
    },
    {
      "cell_type": "code",
      "metadata": {
        "id": "bGSsXJNlUFrb",
        "colab_type": "code",
        "colab": {}
      },
      "source": [
        "# Create BlackBoxIDS Model\n",
        "\n",
        "\n",
        "class Blackbox_IDS(nn.Module):\n",
        "    def __init__(self, input_dim, output_dim):\n",
        "        super(Blackbox_IDS, self).__init__()\n",
        "        # Linear part\n",
        "        self.linear = nn.Linear(input_dim, output_dim)\n",
        "        # There should be logistic function right?\n",
        "        # However logistic function in pytorch is in loss function\n",
        "        # So actually we do not forget to put it, it is only at next parts\n",
        "    \n",
        "    def forward(self, x):\n",
        "        out = self.linear(x)\n",
        "        return out\n",
        "\n",
        "\n",
        "# class Blackbox_IDS(nn.Module):\n",
        "#     def __init__(self,input_dim, output_dim):\n",
        "#         super().__init__()\n",
        "#         self.layer = nn.Sequential(\n",
        "#             #nn.BatchNorm1d(input_dim),\n",
        "#             nn.Linear(input_dim, input_dim*2),\n",
        "#             nn.Dropout(0.6),   \n",
        "#             #nn.ELU(),\n",
        "#             nn.LeakyReLU(True),\n",
        "#            # nn.BatchNorm1d(input_dim*2),\n",
        "#             nn.Linear(input_dim *2, input_dim *2),\n",
        "#             nn.Dropout(0.5),       \n",
        "#            # nn.ELU(),\n",
        "# #            nn.ReLU(True),\n",
        "#             nn.LeakyReLU(True),   \n",
        "#           # nn.BatchNorm1d(input_dim*2),\n",
        "#             nn.Linear(input_dim *2, input_dim//2),\n",
        "#             nn.Dropout(0.5),       \n",
        "# #            nn.ReLU(True),\n",
        "#         #  nn.ELU(),\n",
        "#             nn.LeakyReLU(True),\n",
        "#            #nn.BatchNorm1d(input_dim//2),\n",
        "#             nn.Linear(input_dim//2,input_dim//2),\n",
        "#             nn.Dropout(0.4),       \n",
        "#         #    nn.ELU(),\n",
        "# #            nn.ReLU(True),\n",
        "#             nn.LeakyReLU(True),\n",
        "            \n",
        "#              nn.Linear(input_dim//2,output_dim),\n",
        "#         )\n",
        "#         #nn.init.kaiming_normal_(self.layer.weight)\n",
        "#         self.output = nn.Sigmoid()\n",
        "#         #self.output = nn.Softmax()\n",
        "#     def forward(self,x):\n",
        "#         x = self.layer(x)\n",
        "#         return x\n",
        "\n",
        "# Instantiate Model Class\n",
        "input_dim = trainx.shape[1]     #Number of dimension from dataset\n",
        "output_dim = 2                  # Label: Anomaly (1), Normaly (0)\n",
        "\n",
        "# create BlackBoxIDS model\n",
        "ids_model = Blackbox_IDS(input_dim,output_dim)\n",
        "\n",
        "# Cross Entropy Loss  \n",
        "loss_f = nn.CrossEntropyLoss()\n",
        "\n",
        "# Adam Optimizer \n",
        "learning_rate = 0.001\n",
        "opt = optim.Adam(ids_model.parameters(),lr=learning_rate)"
      ],
      "execution_count": 0,
      "outputs": []
    },
    {
      "cell_type": "markdown",
      "metadata": {
        "id": "uxaOwvpkaExE",
        "colab_type": "text"
      },
      "source": [
        "##2.2. Hàm Train, Test"
      ]
    },
    {
      "cell_type": "code",
      "metadata": {
        "id": "i998wF8gaHNQ",
        "colab_type": "code",
        "colab": {}
      },
      "source": [
        "# Train Func\n",
        "def train(x,y):\n",
        "    ids_model.train()\n",
        "    batch_x, batch_y = create_batch1(x,y,batch_size)\n",
        "    run_loss = 0\n",
        "    for x,y in zip(batch_x,batch_y):\n",
        "\n",
        "        ids_model.zero_grad()\n",
        "        x = V(th.Tensor(x),requires_grad = True)\n",
        "        y = V(th.LongTensor(y))\n",
        "        out = ids_model(x)\n",
        "        loss = loss_f(out,y)\n",
        "\n",
        "        run_loss += loss.item()\n",
        "        loss.backward()\n",
        "        opt.step()\n",
        "    return run_loss/n_Train\n",
        "\n",
        "# Test Func\n",
        "def test(x,y):\n",
        "    ids_model.eval()\n",
        "    batch_x, batch_y = create_batch1(x,y,batch_size)\n",
        "    run_loss = 0\n",
        "    correct = 0\n",
        "    \n",
        "    with th.no_grad():\n",
        "        for x,y in zip(batch_x,batch_y):\n",
        "            x = th.Tensor(x)\n",
        "            y = th.LongTensor(y)\n",
        "            out = ids_model(x)\n",
        "            # Calc Loss\n",
        "            loss = loss_f(out,y)\n",
        "            run_loss += loss.item()\n",
        "            # Calc Accuracy\n",
        "            pred_label = th.argmax(nn.Sigmoid()(out),dim = 1).cpu().numpy()\n",
        "            tn, _, _, tp = confusion_matrix(y,pred_label).ravel()\n",
        "            correct = correct + tn + tp\n",
        "    return (run_loss/n_Test, 100*correct/n_Test)"
      ],
      "execution_count": 0,
      "outputs": []
    },
    {
      "cell_type": "markdown",
      "metadata": {
        "id": "nDp5Uy_HaShp",
        "colab_type": "text"
      },
      "source": [
        "# **3. Run Model**"
      ]
    },
    {
      "cell_type": "code",
      "metadata": {
        "id": "KY1qdqSGHnFe",
        "colab_type": "code",
        "colab": {}
      },
      "source": [
        "# train_loss = train(trainx,trainy)\n",
        "# test_loss = test(testx,testy)\n",
        "\n",
        "# x,y = testx,testy\n",
        "# ids_model.eval()\n",
        "# batch_x, batch_y = create_batch1(x,y,batch_size)\n",
        "# run_loss = 0\n",
        "# correct = 0\n",
        "\n",
        "# with th.no_grad():\n",
        "#     for x,y in zip(batch_x,batch_y):\n",
        "#         x = th.Tensor(x)\n",
        "#         y = th.LongTensor(y)\n",
        "#         out = ids_model(x)\n",
        "#         # Calc Loss\n",
        "#         loss = loss_f(out,y)\n",
        "#         run_loss += loss.item()\n",
        "        \n",
        "#         # Calc Accuracy\n",
        "#         pred_label = th.argmax(nn.Sigmoid()(out),dim = 1).cpu().numpy()\n",
        "#         tn, _, _, tp = confusion_matrix(y,pred_label).ravel()\n",
        "#         correct = correct + tn + tp\n",
        "\n",
        "# print(f\"Loss: {run_loss/n_Test}\\nAccuracy: {correct/n_Test}\")\n"
      ],
      "execution_count": 0,
      "outputs": []
    },
    {
      "cell_type": "code",
      "metadata": {
        "id": "NblNcYrJaYy-",
        "colab_type": "code",
        "outputId": "aa78abee-64a8-493b-9f17-aaf33c402297",
        "colab": {
          "base_uri": "https://localhost:8080/",
          "height": 1000
        }
      },
      "source": [
        "train_losses, test_losses = [],[]\n",
        "accuracies = []\n",
        "\n",
        "# Run Model \n",
        "print(\"IDS start training\")\n",
        "print(\"-\"*100)\n",
        "# print(\"Epoch \\t\\tTrain Loss \\t\\t\\tTest Loss\")\n",
        "print(\"Epoch \\t\\tTrain Loss \\t\\t\\tTest Loss \\t\\t\\tAccuracy\")\n",
        "for epoch in range(max_epoch):\n",
        "    train_loss = train(trainx,trainy)\n",
        "    test_loss, accuracy = test(testx,testy)\n",
        "    accuracies.append(accuracy)\n",
        "    train_losses.append(train_loss)\n",
        "    test_losses.append(test_loss)\n",
        "    # print(f\"{epoch+1} :\\t\\t{train_loss} \\t\\t{test_loss}\")    \n",
        "    print(f\"{epoch+1} :\\t\\t{train_loss} \\t\\t{test_loss} \\t\\t{accuracy}\")    \n",
        "print(\"IDS finished training\")\n",
        "\n",
        "# Save Model & Show Loss Graph\n",
        "TodayStr = datetime.now(time_zone).strftime(\"%Y.%m.%d-%H.%M\")\n",
        "# th.save(ids_model.state_dict(), (SavedModelPath + \"IDS_\" + TodayStr + \".pth\"))\n",
        "plt.plot(train_losses,label = \"Train Loss\")\n",
        "plt.plot(test_losses, label = \"Test Loss\")\n",
        "plt.legend()\n",
        "plt.show()\n",
        "\n",
        "plt.plot(accuracies, label = \"Accuracy (%)\")\n",
        "plt.legend()\n",
        "plt.show()"
      ],
      "execution_count": 99,
      "outputs": [
        {
          "output_type": "stream",
          "text": [
            "IDS start training\n",
            "----------------------------------------------------------------------------------------------------\n",
            "Epoch \t\tTrain Loss \t\t\tTest Loss \t\t\tAccuracy\n",
            "1 :\t\t0.0005142844903602745 \t\t0.00045245287407396365 \t\t81.89389086250073\n",
            "2 :\t\t0.0003246802875136218 \t\t0.00036516383131481646 \t\t82.0278376332188\n",
            "3 :\t\t0.00023834102807550572 \t\t0.00033295155265781004 \t\t82.01036631529905\n",
            "4 :\t\t0.00019268759842782783 \t\t0.0003189182185687944 \t\t82.1384893133772\n",
            "5 :\t\t0.00016506719504512398 \t\t0.00031620345974585 \t\t82.15013685865704\n",
            "6 :\t\t0.0001469607364576745 \t\t0.00031540335651380157 \t\t82.34814512841419\n",
            "7 :\t\t0.00013392096209570263 \t\t0.00031927189963871 \t\t82.63933376041\n",
            "8 :\t\t0.00012429399619595438 \t\t0.0003228024152459488 \t\t82.94799371032555\n",
            "9 :\t\t0.00011689326930384965 \t\t0.0003325130900466916 \t\t82.97128880088522\n",
            "10 :\t\t0.00011128443388239246 \t\t0.0003348290659914644 \t\t81.67258750218392\n",
            "11 :\t\t0.00010679154368641203 \t\t0.0003411081155770646 \t\t81.36392755226836\n",
            "12 :\t\t0.0001028576605479105 \t\t0.0003444622540597514 \t\t81.60270223050492\n",
            "13 :\t\t9.978368550794232e-05 \t\t0.00035064437797452635 \t\t81.57358336730535\n",
            "14 :\t\t9.700715399760902e-05 \t\t0.00035770700422332196 \t\t81.57940713994526\n",
            "15 :\t\t9.477018620652766e-05 \t\t0.00036304579062437136 \t\t81.61434977578476\n",
            "16 :\t\t9.298464256214045e-05 \t\t0.000367935230344435 \t\t81.68423504746374\n",
            "17 :\t\t9.128201190177347e-05 \t\t0.00036791137078320596 \t\t81.89389086250073\n",
            "18 :\t\t8.956637850814498e-05 \t\t0.000375086751552642 \t\t81.85312445402131\n",
            "19 :\t\t8.831876740773884e-05 \t\t0.00038228360367087883 \t\t81.90553840778055\n",
            "20 :\t\t8.72115374606001e-05 \t\t0.0003828149132470039 \t\t81.94048104362005\n",
            "21 :\t\t8.598541869030654e-05 \t\t0.00038811685938860415 \t\t81.96959990681964\n",
            "22 :\t\t8.505327396678242e-05 \t\t0.00039163038328096465 \t\t81.94630481625997\n",
            "23 :\t\t8.399391789727655e-05 \t\t0.00038994974994498356 \t\t82.08607535961796\n",
            "24 :\t\t8.324319116065432e-05 \t\t0.00039370340373726993 \t\t82.05695649641838\n",
            "25 :\t\t8.237790722517362e-05 \t\t0.000396633325573672 \t\t82.0278376332188\n",
            "26 :\t\t8.159570712992485e-05 \t\t0.00040128580810625073 \t\t81.98124745209947\n",
            "27 :\t\t8.098761365837165e-05 \t\t0.0003950322790697384 \t\t82.19672703977636\n",
            "28 :\t\t8.02312901721603e-05 \t\t0.0004013498403163637 \t\t82.04530895113855\n",
            "29 :\t\t7.965672592483405e-05 \t\t0.0003982331987988254 \t\t82.17925572185662\n",
            "30 :\t\t7.892593901255466e-05 \t\t0.00040144071735324097 \t\t82.18507949449653\n",
            "31 :\t\t7.83350433451443e-05 \t\t0.00040217585287626744 \t\t82.17925572185662\n",
            "32 :\t\t7.772330483144598e-05 \t\t0.00040262946744559704 \t\t82.19090326713645\n",
            "33 :\t\t7.709671573920126e-05 \t\t0.0004036060953298547 \t\t82.23166967561586\n",
            "34 :\t\t7.65180808714085e-05 \t\t0.0004058091518701348 \t\t82.19090326713645\n",
            "35 :\t\t7.602343122136344e-05 \t\t0.00040181577951974343 \t\t82.2840836293751\n",
            "36 :\t\t7.566225329280647e-05 \t\t0.0004019039055997175 \t\t82.21419835769612\n",
            "37 :\t\t7.488030732767279e-05 \t\t0.00040788457615944384 \t\t82.06860404169821\n",
            "38 :\t\t7.432371764714734e-05 \t\t0.000404971114938354 \t\t82.17925572185662\n",
            "39 :\t\t7.387405498030749e-05 \t\t0.00040692315577322126 \t\t82.10354667753771\n",
            "40 :\t\t7.332671528077456e-05 \t\t0.00040658799202772215 \t\t82.03948517849864\n",
            "41 :\t\t7.30027690749519e-05 \t\t0.00039958647173456705 \t\t82.12101799545746\n",
            "42 :\t\t7.247144092110172e-05 \t\t0.00040681211083778567 \t\t81.89389086250073\n",
            "43 :\t\t7.18009605947193e-05 \t\t0.0004018695941378759 \t\t81.97542367945955\n",
            "44 :\t\t7.152924968788606e-05 \t\t0.00040486071565337136 \t\t81.87641954458098\n",
            "45 :\t\t7.093435184115965e-05 \t\t0.0004044025294622859 \t\t81.76576786442257\n",
            "46 :\t\t7.037053045358663e-05 \t\t0.00040414398463949395 \t\t81.67841127482383\n",
            "47 :\t\t7.003751900196707e-05 \t\t0.00039861386528068453 \t\t81.69588259274357\n",
            "48 :\t\t6.974424706076212e-05 \t\t0.00040078018396306586 \t\t81.58523091258517\n",
            "49 :\t\t6.907352467437619e-05 \t\t0.00040125719815445766 \t\t81.57940713994526\n",
            "50 :\t\t6.863331550310788e-05 \t\t0.0004050173223362299 \t\t81.36975132490828\n",
            "IDS finished training\n"
          ],
          "name": "stdout"
        },
        {
          "output_type": "display_data",
          "data": {
            "image/png": "[encoded data removed]",
            "text/plain": [
              "<Figure size 432x288 with 1 Axes>"
            ]
          },
          "metadata": {
            "tags": [],
            "needs_background": "light"
          }
        },
        {
          "output_type": "display_data",
          "data": {
            "image/png": "[encoded data removed]",
            "text/plain": [
              "<Figure size 432x288 with 1 Axes>"
            ]
          },
          "metadata": {
            "tags": [],
            "needs_background": "light"
          }
        }
      ]
    },
    {
      "cell_type": "markdown",
      "metadata": {
        "id": "mwWugTozppL5",
        "colab_type": "text"
      },
      "source": [
        "The Saved Model stored in [Google Drive - BlackBox IDS Model](https://drive.google.com/drive/u/1/folders/1M-xotvruMlkFNaQWPf9bpBpzgPhPLpiH)  \n",
        "The Result of Code stored in [Github - Thesis](https://github.com/thetinybug/thesis-IDSGAN)"
      ]
    }
  ]
}