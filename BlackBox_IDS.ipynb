{
  "nbformat": 4,
  "nbformat_minor": 0,
  "metadata": {
    "colab": {
      "name": "BlackBox_IDS",
      "provenance": [],
      "collapsed_sections": [],
      "toc_visible": true,
      "mount_file_id": "1KztrlmHWeZiT9ZoOMON8Hmn9p35uqjZR",
      "authorship_tag": "ABX9TyPw+GpxjE9ITMLWPz4b2Xgv",
      "include_colab_link": true
    },
    "kernelspec": {
      "name": "python3",
      "display_name": "Python 3"
    },
    "accelerator": "GPU"
  },
  "cells": [
    {
      "cell_type": "markdown",
      "metadata": {
        "id": "view-in-github",
        "colab_type": "text"
      },
      "source": [
        "<a href=\"https://colab.research.google.com/github/thetinybug/Django-Project/blob/master/BlackBox_IDS.ipynb\" target=\"_parent\"><img src=\"https://colab.research.google.com/assets/colab-badge.svg\" alt=\"Open In Colab\"/></a>"
      ]
    },
    {
      "cell_type": "markdown",
      "metadata": {
        "id": "HfVbgm_IdnMH",
        "colab_type": "text"
      },
      "source": [
        "# **0. Một số biến toàn cục**"
      ]
    },
    {
      "cell_type": "code",
      "metadata": {
        "id": "uW-RHzMwdsG5",
        "colab_type": "code",
        "colab": {}
      },
      "source": [
        "# Dataset Path\n",
        "DatasetPath = \"/content/drive/My Drive/Study/KLTN/Dataset/NSL-KDD-TM/\"\n",
        "\n",
        "# train_dataset_path = DatasetPath + \"Attack-type Labels/SEPARATED/\" + \"BlackboxTrain.csv\"\n",
        "train_dataset_path = DatasetPath + \"Attack-type Labels/PREPROCESSED/\" + \"KDDTrain+_label_normalized_all.csv\"\n",
        "test_dataset_path = DatasetPath + \"Attack-type Labels/PREPROCESSED/\" + \"KDDTest+_label_normalized_all.csv\"\n",
        "\n",
        "# Save Model Path\n",
        "SavedModelPath = \"/content/drive/My Drive/Study/KLTN/Saved Model/IDSModel/Separated Dataset/\""
      ],
      "execution_count": 0,
      "outputs": []
    },
    {
      "cell_type": "markdown",
      "metadata": {
        "id": "DZkqASdBS-QA",
        "colab_type": "text"
      },
      "source": [
        "#**1. Chuẩn bị**"
      ]
    },
    {
      "cell_type": "markdown",
      "metadata": {
        "id": "m27n3nFSTSv2",
        "colab_type": "text"
      },
      "source": [
        "##1.1 Import thư viện"
      ]
    },
    {
      "cell_type": "markdown",
      "metadata": {
        "id": "08Q42YHGbvLT",
        "colab_type": "text"
      },
      "source": [
        "###1.1.1. Cài đặt các thư viện cần thiết"
      ]
    },
    {
      "cell_type": "code",
      "metadata": {
        "id": "u7ZZvZaAbM1J",
        "colab_type": "code",
        "outputId": "752e1aae-bcaf-4f68-a877-d6f33281824b",
        "colab": {
          "base_uri": "https://localhost:8080/",
          "height": 306
        }
      },
      "source": [
        "!pip3 install numpy adabound torc sklearn matplotlib pandas"
      ],
      "execution_count": 35,
      "outputs": [
        {
          "output_type": "stream",
          "text": [
            "Requirement already satisfied: numpy in /usr/local/lib/python3.6/dist-packages (1.18.4)\n",
            "Requirement already satisfied: adabound in /usr/local/lib/python3.6/dist-packages (0.0.5)\n",
            "Requirement already satisfied: torc in /usr/local/lib/python3.6/dist-packages (0.1.0)\n",
            "Requirement already satisfied: sklearn in /usr/local/lib/python3.6/dist-packages (0.0)\n",
            "Requirement already satisfied: matplotlib in /usr/local/lib/python3.6/dist-packages (3.2.1)\n",
            "Requirement already satisfied: pandas in /usr/local/lib/python3.6/dist-packages (1.0.3)\n",
            "Requirement already satisfied: torch>=0.4.0 in /usr/local/lib/python3.6/dist-packages (from adabound) (1.5.0+cu101)\n",
            "Requirement already satisfied: scikit-learn in /usr/local/lib/python3.6/dist-packages (from sklearn) (0.22.2.post1)\n",
            "Requirement already satisfied: cycler>=0.10 in /usr/local/lib/python3.6/dist-packages (from matplotlib) (0.10.0)\n",
            "Requirement already satisfied: kiwisolver>=1.0.1 in /usr/local/lib/python3.6/dist-packages (from matplotlib) (1.2.0)\n",
            "Requirement already satisfied: pyparsing!=2.0.4,!=2.1.2,!=2.1.6,>=2.0.1 in /usr/local/lib/python3.6/dist-packages (from matplotlib) (2.4.7)\n",
            "Requirement already satisfied: python-dateutil>=2.1 in /usr/local/lib/python3.6/dist-packages (from matplotlib) (2.8.1)\n",
            "Requirement already satisfied: pytz>=2017.2 in /usr/local/lib/python3.6/dist-packages (from pandas) (2018.9)\n",
            "Requirement already satisfied: future in /usr/local/lib/python3.6/dist-packages (from torch>=0.4.0->adabound) (0.16.0)\n",
            "Requirement already satisfied: scipy>=0.17.0 in /usr/local/lib/python3.6/dist-packages (from scikit-learn->sklearn) (1.4.1)\n",
            "Requirement already satisfied: joblib>=0.11 in /usr/local/lib/python3.6/dist-packages (from scikit-learn->sklearn) (0.15.1)\n",
            "Requirement already satisfied: six in /usr/local/lib/python3.6/dist-packages (from cycler>=0.10->matplotlib) (1.12.0)\n"
          ],
          "name": "stdout"
        }
      ]
    },
    {
      "cell_type": "markdown",
      "metadata": {
        "id": "mt5O3Y-fb5Du",
        "colab_type": "text"
      },
      "source": [
        "###1.1.2. Import thư viện"
      ]
    },
    {
      "cell_type": "code",
      "metadata": {
        "id": "YIQ708lZS2lF",
        "colab_type": "code",
        "colab": {}
      },
      "source": [
        "import pandas as pd\n",
        "import numpy as np\n",
        "import adabound\n",
        "import torch as th\n",
        "from torch.autograd import Variable as V\n",
        "from torch import nn,optim\n",
        "from sklearn.metrics import confusion_matrix\n",
        "import matplotlib.pyplot as plt\n",
        "from datetime import datetime\n",
        "import pytz\n",
        "\n",
        "# Define HCM Timezone\n",
        "time_zone = pytz.timezone('Asia/Ho_Chi_Minh')"
      ],
      "execution_count": 0,
      "outputs": []
    },
    {
      "cell_type": "markdown",
      "metadata": {
        "id": "3Ljsym5CVV0f",
        "colab_type": "text"
      },
      "source": [
        "##1.2 Định nghĩa hàm tạo Batch"
      ]
    },
    {
      "cell_type": "code",
      "metadata": {
        "id": "wA-LxbnzWXyS",
        "colab_type": "code",
        "colab": {}
      },
      "source": [
        "# Hàm tạo Batch\n",
        "def create_batch1(x,y,batch_size):\n",
        "    a = list(range(len(x)))\n",
        "    np.random.shuffle(a)\n",
        "    x = x[a]\n",
        "    y = y[a]\n",
        "\n",
        "    batch_x = [x[batch_size * i : (i+1)*batch_size,:].tolist() for i in range(len(x)//batch_size)]\n",
        "    batch_y = [y[batch_size * i : (i+1)*batch_size].tolist() for i in range(len(x)//batch_size)]\n",
        "    return batch_x, batch_y"
      ],
      "execution_count": 0,
      "outputs": []
    },
    {
      "cell_type": "markdown",
      "metadata": {
        "id": "wquWhjq3THhT",
        "colab_type": "text"
      },
      "source": [
        "##1.3 Chuẩn bị dataset"
      ]
    },
    {
      "cell_type": "code",
      "metadata": {
        "id": "7RXVPU_HTk30",
        "colab_type": "code",
        "outputId": "095f207c-7ec0-436a-f278-1699f20d0bb5",
        "colab": {
          "base_uri": "https://localhost:8080/",
          "height": 51
        }
      },
      "source": [
        "#Prepare Dataset\n",
        "\n",
        "# Load Dataset\n",
        "train = pd.read_csv(train_dataset_path)\n",
        "test = pd.read_csv(test_dataset_path)\n",
        "\n",
        "# Convert class to Binary\n",
        "train[\"class\"] = train[\"class\"].map(lambda x : 0 if x == \"normal\" else 1)\n",
        "test[\"class\"] = test[\"class\"].map(lambda x : 0 if x == \"normal\" else 1)\n",
        "\n",
        "trainx, trainy = np.array(train[train.columns[train.columns != \"class\"]]), np.array(train[\"class\"])\n",
        "testx, testy= np.array(test[test.columns[test.columns != \"class\"]]),np.array(test[\"class\"])\n",
        "\n",
        "\n",
        "# batch_size, epoch\n",
        "batch_size = 1024\n",
        "max_epoch = 50\n",
        "\n",
        "# Amount of dataset\n",
        "n_Train = len(trainx)\n",
        "n_Test = len(testx)\n",
        "\n",
        "print(\"Amout of Train Set:\", n_Train)\n",
        "print(\"Amout of Test Set:\", n_Test)"
      ],
      "execution_count": 38,
      "outputs": [
        {
          "output_type": "stream",
          "text": [
            "Amout of Train Set: 125973\n",
            "Amout of Test Set: 22544\n"
          ],
          "name": "stdout"
        }
      ]
    },
    {
      "cell_type": "code",
      "metadata": {
        "id": "YkxX8CLQUEll",
        "colab_type": "code",
        "colab": {
          "base_uri": "https://localhost:8080/",
          "height": 34
        },
        "outputId": "efdca26f-1576-444a-b231-e127ad94517d"
      },
      "source": [
        "print(trainx.shape)"
      ],
      "execution_count": 39,
      "outputs": [
        {
          "output_type": "stream",
          "text": [
            "(125973, 41)\n"
          ],
          "name": "stdout"
        }
      ]
    },
    {
      "cell_type": "markdown",
      "metadata": {
        "id": "otbVJEAzcTv4",
        "colab_type": "text"
      },
      "source": [
        "# **2. Định nghĩa Model**"
      ]
    },
    {
      "cell_type": "markdown",
      "metadata": {
        "id": "NsF64RDMaBFc",
        "colab_type": "text"
      },
      "source": [
        "##2.1. Tạo Model"
      ]
    },
    {
      "cell_type": "code",
      "metadata": {
        "id": "bGSsXJNlUFrb",
        "colab_type": "code",
        "colab": {}
      },
      "source": [
        "# Create BlackBoxIDS Model\n",
        "class Blackbox_IDS(nn.Module):\n",
        "    def __init__(self,input_dim, output_dim):\n",
        "        super().__init__()\n",
        "        self.layer = nn.Sequential(\n",
        "            #nn.BatchNorm1d(input_dim),\n",
        "            nn.Linear(input_dim, input_dim*2),\n",
        "            nn.Dropout(0.6),   \n",
        "            #nn.ELU(),\n",
        "            nn.LeakyReLU(True),\n",
        "           # nn.BatchNorm1d(input_dim*2),\n",
        "            nn.Linear(input_dim *2, input_dim *2),\n",
        "            nn.Dropout(0.5),       \n",
        "           # nn.ELU(),\n",
        "#            nn.ReLU(True),\n",
        "            nn.LeakyReLU(True),   \n",
        "          # nn.BatchNorm1d(input_dim*2),\n",
        "            nn.Linear(input_dim *2, input_dim//2),\n",
        "            nn.Dropout(0.5),       \n",
        "#            nn.ReLU(True),\n",
        "        #  nn.ELU(),\n",
        "            nn.LeakyReLU(True),\n",
        "           #nn.BatchNorm1d(input_dim//2),\n",
        "            nn.Linear(input_dim//2,input_dim//2),\n",
        "            nn.Dropout(0.4),       \n",
        "        #    nn.ELU(),\n",
        "#            nn.ReLU(True),\n",
        "            nn.LeakyReLU(True),\n",
        "            \n",
        "             nn.Linear(input_dim//2,output_dim),\n",
        "        )\n",
        "        #nn.init.kaiming_normal_(self.layer.weight)\n",
        "        self.output = nn.Sigmoid()\n",
        "        #self.output = nn.Softmax()\n",
        "    def forward(self,x):\n",
        "        x = self.layer(x)\n",
        "        return x\n",
        "\n",
        "# Instantiate Model Class\n",
        "input_dim = trainx.shape[1]     #Number of dimension from dataset\n",
        "output_dim = 2                  # Label: Anomaly (1), Normaly (0)\n",
        "\n",
        "# create BlackBoxIDS model\n",
        "ids_model = Blackbox_IDS(input_dim,output_dim)\n",
        "\n",
        "# Cross Entropy Loss  \n",
        "loss_f = nn.CrossEntropyLoss()\n",
        "\n",
        "# Adam Optimizer \n",
        "learning_rate = 0.001\n",
        "opt = optim.Adam(ids_model.parameters(),lr=learning_rate)"
      ],
      "execution_count": 0,
      "outputs": []
    },
    {
      "cell_type": "markdown",
      "metadata": {
        "id": "uxaOwvpkaExE",
        "colab_type": "text"
      },
      "source": [
        "##2.2. Hàm Train, Test"
      ]
    },
    {
      "cell_type": "code",
      "metadata": {
        "id": "i998wF8gaHNQ",
        "colab_type": "code",
        "colab": {}
      },
      "source": [
        "# Train Func\n",
        "def train(x,y):\n",
        "    ids_model.train()\n",
        "    batch_x, batch_y = create_batch1(x,y,batch_size)\n",
        "    run_loss = 0\n",
        "    for x,y in zip(batch_x,batch_y):\n",
        "\n",
        "        ids_model.zero_grad()\n",
        "        x = V(th.Tensor(x),requires_grad = True)\n",
        "        y = V(th.LongTensor(y))\n",
        "        out = ids_model(x)\n",
        "        loss = loss_f(out,y)\n",
        "\n",
        "        run_loss += loss.item()\n",
        "        loss.backward()\n",
        "        opt.step()\n",
        "    return run_loss/n_Train\n",
        "\n",
        "# Test Func\n",
        "def test(x,y):\n",
        "    ids_model.eval()\n",
        "    batch_x, batch_y = create_batch1(x,y,batch_size)\n",
        "    run_loss = 0\n",
        "    correct = 0\n",
        "    \n",
        "    with th.no_grad():\n",
        "        for x,y in zip(batch_x,batch_y):\n",
        "            x = th.Tensor(x)\n",
        "            y = th.LongTensor(y)\n",
        "            out = ids_model(x)\n",
        "            # Calc Loss\n",
        "            loss = loss_f(out,y)\n",
        "            run_loss += loss.item()\n",
        "    return run_loss/n_Test"
      ],
      "execution_count": 0,
      "outputs": []
    },
    {
      "cell_type": "markdown",
      "metadata": {
        "id": "nDp5Uy_HaShp",
        "colab_type": "text"
      },
      "source": [
        "# **3. Run Model**"
      ]
    },
    {
      "cell_type": "code",
      "metadata": {
        "id": "NblNcYrJaYy-",
        "colab_type": "code",
        "outputId": "17667d75-00c2-46a4-ab19-c54007025635",
        "colab": {
          "base_uri": "https://localhost:8080/",
          "height": 1000
        }
      },
      "source": [
        "train_losses, test_losses = [],[]\n",
        "\n",
        "# Run Model \n",
        "print(\"IDS start training\")\n",
        "print(\"-\"*100)\n",
        "print(\"Epoch \\t\\tTrain Loss \\t\\t\\tTest Loss\")\n",
        "for epoch in range(max_epoch):\n",
        "    train_loss = train(trainx,trainy)\n",
        "    test_loss = test(testx,testy)\n",
        "    train_losses.append(train_loss)\n",
        "    test_losses.append(test_loss)\n",
        "    print(f\"{epoch+1} :\\t\\t{train_loss} \\t\\t{test_loss}\")    \n",
        "print(\"IDS finished training\")\n",
        "\n",
        "# Save Model & Show Loss Graph\n",
        "TodayStr = datetime.now(time_zone).strftime(\"%Y.%m.%d-%H.%M\")\n",
        "th.save(ids_model.state_dict(), (SavedModelPath + \"IDS_\" + TodayStr + \".pth\"))\n",
        "plt.plot(train_losses,label = \"Train Loss\")\n",
        "plt.plot(test_losses, label = \"Test Loss\")\n",
        "plt.legend()\n",
        "plt.show()"
      ],
      "execution_count": 42,
      "outputs": [
        {
          "output_type": "stream",
          "text": [
            "IDS start training\n",
            "----------------------------------------------------------------------------------------------------\n",
            "Epoch \t\tTrain Loss \t\t\tTest Loss\n",
            "1 :\t\t0.00024866689993932747 \t\t0.0008450238955536999\n",
            "2 :\t\t0.00015183104174190846 \t\t0.0008648025219621516\n",
            "3 :\t\t0.00014461035248127446 \t\t0.0008738567593928513\n",
            "4 :\t\t0.0001403645883261503 \t\t0.0009633294069403194\n",
            "5 :\t\t0.00013801173894148898 \t\t0.0009648527730602674\n",
            "6 :\t\t0.00013614573138160242 \t\t0.000987240834448505\n",
            "7 :\t\t0.00013496633474905905 \t\t0.0010079044539341273\n",
            "8 :\t\t0.00013420834266645367 \t\t0.000964255938722869\n",
            "9 :\t\t0.0001336590660846402 \t\t0.0009797005005302455\n",
            "10 :\t\t0.00013325840478904 \t\t0.0010318662297057293\n",
            "11 :\t\t0.0001330682381720358 \t\t0.0009877350051788847\n",
            "12 :\t\t0.00013163568036497365 \t\t0.0010440804598346681\n",
            "13 :\t\t0.00013217032642975362 \t\t0.0010698567718965438\n",
            "14 :\t\t0.00013239377476715887 \t\t0.0010060294880944842\n",
            "15 :\t\t0.0001322052646627515 \t\t0.0009743448576874729\n",
            "16 :\t\t0.00013137392682980648 \t\t0.001008261632335533\n",
            "17 :\t\t0.0001311079314678954 \t\t0.0010047305118876877\n",
            "18 :\t\t0.00013090747333463035 \t\t0.0009961888442613115\n",
            "19 :\t\t0.00013043153097002467 \t\t0.000937688241747781\n",
            "20 :\t\t0.00013077933426639473 \t\t0.001001097854144866\n",
            "21 :\t\t0.00012919517663517797 \t\t0.0010353767513340462\n",
            "22 :\t\t0.0001304654661162744 \t\t0.0010874602438669158\n",
            "23 :\t\t0.00013019118121235587 \t\t0.0010040367724118797\n",
            "24 :\t\t0.00012954762104123044 \t\t0.0010178738146110829\n",
            "25 :\t\t0.0001302403426358286 \t\t0.0010457823093983196\n",
            "26 :\t\t0.00012993031342171347 \t\t0.0009803408459410589\n",
            "27 :\t\t0.0001295657472209504 \t\t0.0010341942796815448\n",
            "28 :\t\t0.00012985756532417984 \t\t0.0010759476902765784\n",
            "29 :\t\t0.0001293686222810736 \t\t0.001069827532730177\n",
            "30 :\t\t0.00012967370319018971 \t\t0.0011180677974029498\n",
            "31 :\t\t0.00012954494192427777 \t\t0.0010292987220882946\n",
            "32 :\t\t0.00012989014565273265 \t\t0.0010275692752356898\n",
            "33 :\t\t0.0001292866415862142 \t\t0.0011248569684387353\n",
            "34 :\t\t0.00013011813733434892 \t\t0.0011227847843029721\n",
            "35 :\t\t0.00012959233126725827 \t\t0.0010011098126175557\n",
            "36 :\t\t0.00012922701955302466 \t\t0.0010511568695243324\n",
            "37 :\t\t0.00012976547048671274 \t\t0.001058850757317648\n",
            "38 :\t\t0.00012883654733581693 \t\t0.001047221667445916\n",
            "39 :\t\t0.00012987427304697287 \t\t0.001072814583651473\n",
            "40 :\t\t0.0001288558788756741 \t\t0.0011353623505345974\n",
            "41 :\t\t0.00012954159737519046 \t\t0.0010970815952743005\n",
            "42 :\t\t0.00012877136402645751 \t\t0.001021356805048571\n",
            "43 :\t\t0.00012909902225359418 \t\t0.0011836624128586692\n",
            "44 :\t\t0.00012867447625597767 \t\t0.0011999732884132245\n",
            "45 :\t\t0.00012902190658860754 \t\t0.0011169115852133614\n",
            "46 :\t\t0.0001295926915741256 \t\t0.0010892095307325792\n",
            "47 :\t\t0.00012920741855189247 \t\t0.0011080311303277486\n",
            "48 :\t\t0.0001286734455488574 \t\t0.0010814531802115837\n",
            "49 :\t\t0.0001285198205658972 \t\t0.0011823142543593733\n",
            "50 :\t\t0.00012837016416317285 \t\t0.0011352319627302263\n",
            "IDS finished training\n"
          ],
          "name": "stdout"
        },
        {
          "output_type": "display_data",
          "data": {
            "image/png": "[encoded data removed]",
            "text/plain": [
              "<Figure size 432x288 with 1 Axes>"
            ]
          },
          "metadata": {
            "tags": [],
            "needs_background": "light"
          }
        }
      ]
    },
    {
      "cell_type": "markdown",
      "metadata": {
        "id": "mwWugTozppL5",
        "colab_type": "text"
      },
      "source": [
        "The Saved Model stored in [Google Drive - BlackBox IDS Model](https://drive.google.com/drive/u/1/folders/1M-xotvruMlkFNaQWPf9bpBpzgPhPLpiH)  \n",
        "The Result of Code stored in [Github - Thesis](https://github.com/thetinybug/thesis-IDSGAN)"
      ]
    }
  ]
}