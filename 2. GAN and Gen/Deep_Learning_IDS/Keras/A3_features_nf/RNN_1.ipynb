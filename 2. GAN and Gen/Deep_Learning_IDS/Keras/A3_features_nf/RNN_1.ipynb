{
  "nbformat": 4,
  "nbformat_minor": 0,
  "metadata": {
    "colab": {
      "name": "2.GG-DL-A3: RNN_1.ipynb",
      "provenance": [],
      "collapsed_sections": [],
      "toc_visible": true,
      "include_colab_link": true
    },
    "kernelspec": {
      "name": "python3",
      "display_name": "Python 3"
    }
  },
  "cells": [
    {
      "cell_type": "markdown",
      "metadata": {
        "id": "view-in-github",
        "colab_type": "text"
      },
      "source": [
        "<a href=\"https://colab.research.google.com/github/thetinybug/Django-Project/blob/master/2.%20GAN%20and%20Gen/Deep_Learning_IDS/Keras/A3_features_nf/RNN_1.ipynb\" target=\"_parent\"><img src=\"https://colab.research.google.com/assets/colab-badge.svg\" alt=\"Open In Colab\"/></a>"
      ]
    },
    {
      "cell_type": "code",
      "metadata": {
        "id": "fJtMb15yfVmA",
        "colab_type": "code",
        "colab": {
          "base_uri": "https://localhost:8080/",
          "height": 34
        },
        "outputId": "b2af1dc8-ac1a-4979-bd93-86f2ff31285d"
      },
      "source": [
        "from google.colab import drive\n",
        "drive.mount('/content/drive')"
      ],
      "execution_count": null,
      "outputs": [
        {
          "output_type": "stream",
          "text": [
            "Drive already mounted at /content/drive; to attempt to forcibly remount, call drive.mount(\"/content/drive\", force_remount=True).\n"
          ],
          "name": "stdout"
        }
      ]
    },
    {
      "cell_type": "markdown",
      "metadata": {
        "id": "m27n3nFSTSv2",
        "colab_type": "text"
      },
      "source": [
        "#**0. Thư viện**"
      ]
    },
    {
      "cell_type": "markdown",
      "metadata": {
        "id": "08Q42YHGbvLT",
        "colab_type": "text"
      },
      "source": [
        "##Cài đặt "
      ]
    },
    {
      "cell_type": "code",
      "metadata": {
        "id": "u7ZZvZaAbM1J",
        "colab_type": "code",
        "colab": {}
      },
      "source": [
        "# !pip3 numpy torc sklearn matplotlib pandas"
      ],
      "execution_count": null,
      "outputs": []
    },
    {
      "cell_type": "markdown",
      "metadata": {
        "id": "mt5O3Y-fb5Du",
        "colab_type": "text"
      },
      "source": [
        "##Import"
      ]
    },
    {
      "cell_type": "code",
      "metadata": {
        "id": "ONDkO5xKdjqa",
        "colab_type": "code",
        "colab": {}
      },
      "source": [
        "# Add Module Path - To Import Custom Modules\n",
        "# Modules Path\n",
        "ModulePath = \"/content/drive/My Drive/Study/KLTN/Google Colab/0.0 Python Modules/\"\n",
        "\n",
        "import sys\n",
        "sys.path.append(ModulePath)"
      ],
      "execution_count": null,
      "outputs": []
    },
    {
      "cell_type": "code",
      "metadata": {
        "id": "YIQ708lZS2lF",
        "colab_type": "code",
        "colab": {
          "base_uri": "https://localhost:8080/",
          "height": 34
        },
        "outputId": "74070638-0735-430c-b305-fa4ed6b133a4"
      },
      "source": [
        "import numpy as np\n",
        "import pandas as pd\n",
        "import torch as th\n",
        "from torch.autograd import Variable as V\n",
        "import torch.autograd as autograd\n",
        "import torch.nn as nn\n",
        "import torch.nn.functional as F\n",
        "import torch.optim as optim\n",
        "from sklearn.utils import shuffle\n",
        "from sklearn.metrics import confusion_matrix\n",
        "\n",
        "# Libs for Keras\n",
        "from keras.models import load_model\n",
        "\n",
        "\n",
        "# Own Custom Module to import models and constants\n",
        "from models import *\n",
        "from constants import *\n",
        "\n",
        "import matplotlib.pyplot as plt\n",
        "import math\n",
        "import os\n",
        "from datetime import date\n",
        "import timeit"
      ],
      "execution_count": null,
      "outputs": [
        {
          "output_type": "stream",
          "text": [
            "Using TensorFlow backend.\n"
          ],
          "name": "stderr"
        }
      ]
    },
    {
      "cell_type": "markdown",
      "metadata": {
        "id": "DZkqASdBS-QA",
        "colab_type": "text"
      },
      "source": [
        "#**1. Chuẩn bị**"
      ]
    },
    {
      "cell_type": "markdown",
      "metadata": {
        "id": "3rFWSSBQF99E",
        "colab_type": "text"
      },
      "source": [
        "##Paths"
      ]
    },
    {
      "cell_type": "code",
      "metadata": {
        "id": "uW-RHzMwdsG5",
        "colab_type": "code",
        "colab": {}
      },
      "source": [
        "# Base Path\n",
        "base_path = \"/content/drive/My Drive/Study/KLTN/\"\n",
        "Dataset_Path = base_path + \"Dataset/NSL-KDD Processed/Final - For Using/\"\n",
        "SavedModelPath = base_path + \"Saved Model/\"\n",
        "\n",
        "# Dataset Path\n",
        "Trainsets_Path = Dataset_Path + 'Trainset/'\n",
        "g_trainset_path = Trainsets_Path + \"GAN-G.csv\"\n",
        "d_trainset_path = Trainsets_Path + \"GAN-D.csv\"\n",
        "testset_path = Dataset_Path + \"Testset/\" + \"KDDTest+.csv\"\n",
        "\n",
        "\n",
        "# GAN Saved Models Paths\n",
        "GAN_Model_Path = SavedModelPath + 'GANModel/'\n",
        "\n",
        "# IDS Pytorch Saved Models Paths\n",
        "IDS_Model_Path = SavedModelPath + 'IDSModel/'"
      ],
      "execution_count": null,
      "outputs": []
    },
    {
      "cell_type": "markdown",
      "metadata": {
        "id": "XwTYqTdfF-wS",
        "colab_type": "text"
      },
      "source": [
        "##Global Variables"
      ]
    },
    {
      "cell_type": "code",
      "metadata": {
        "id": "8rBB0NLwGAce",
        "colab_type": "code",
        "colab": {}
      },
      "source": [
        "# Global Variables\n",
        "N_FEATURES = 41\n",
        "# IDS\n",
        "IDS_INPUT_DIM = N_FEATURES\n",
        "IDS_OUTPUT_DIM = 2\n",
        "# ATTACK_CATEGORIES = ['DOS', 'U2R_AND_R2L']\n",
        "\n",
        "POS_FUNCTIONAL_FEATURES = {'DOS': DOS_FEATURES, 'U2R_AND_R2L': U2R_AND_R2L_FEATURES}\n",
        "POS_NONFUNCTIONAL_FEATURES = {}\n",
        "for attack_category, pos_functional_feature in POS_FUNCTIONAL_FEATURES.items():\n",
        "    pos_nonfunctional_feature = []\n",
        "    for i in range(N_FEATURES):\n",
        "        if i not in pos_functional_feature:\n",
        "            pos_nonfunctional_feature.append(i)\n",
        "    POS_NONFUNCTIONAL_FEATURES[attack_category] = pos_nonfunctional_feature\n",
        "\n",
        "IDS_MODELS = {'MLP': MLP, 'CNN': None, 'RNN': None}"
      ],
      "execution_count": null,
      "outputs": []
    },
    {
      "cell_type": "code",
      "metadata": {
        "id": "hlE7gDk07ybi",
        "colab_type": "code",
        "colab": {
          "base_uri": "https://localhost:8080/",
          "height": 106
        },
        "outputId": "730d41a2-9f63-4b6c-eeb2-201c38b31e6b"
      },
      "source": [
        "print('Position of Functional Features\\n  ', POS_FUNCTIONAL_FEATURES)\n",
        "print('Position of Functional Features:\\n  ', POS_NONFUNCTIONAL_FEATURES)"
      ],
      "execution_count": null,
      "outputs": [
        {
          "output_type": "stream",
          "text": [
            "Position of Functional Features\n",
            "   {'DOS': [0, 1, 2, 3, 4, 5, 6, 7, 8, 23, 24, 25, 26, 27, 28, 29, 30], 'U2R_AND_R2L': [0, 1, 2, 3, 4, 5, 6, 7, 8, 9, 10, 11, 12, 13, 14, 15, 16, 17, 18, 19, 20, 21, 22]}\n",
            "Position of Functional Features:\n",
            "   {'DOS': [9, 10, 11, 12, 13, 14, 15, 16, 17, 18, 19, 20, 21, 22, 31, 32, 33, 34, 35, 36, 37, 38, 39, 40], 'U2R_AND_R2L': [23, 24, 25, 26, 27, 28, 29, 30, 31, 32, 33, 34, 35, 36, 37, 38, 39, 40]}\n"
          ],
          "name": "stdout"
        }
      ]
    },
    {
      "cell_type": "markdown",
      "metadata": {
        "id": "otbVJEAzcTv4",
        "colab_type": "text"
      },
      "source": [
        "# **2. Định nghĩa Model**"
      ]
    },
    {
      "cell_type": "markdown",
      "metadata": {
        "id": "FVn0MzP1HW_0",
        "colab_type": "text"
      },
      "source": [
        "##Models"
      ]
    },
    {
      "cell_type": "code",
      "metadata": {
        "id": "sqogk9lIw_Uk",
        "colab_type": "code",
        "colab": {}
      },
      "source": [
        "# Load from model.py module"
      ],
      "execution_count": null,
      "outputs": []
    },
    {
      "cell_type": "markdown",
      "metadata": {
        "id": "MdPRWEuxBAcd",
        "colab_type": "text"
      },
      "source": [
        "##Functions"
      ]
    },
    {
      "cell_type": "markdown",
      "metadata": {
        "id": "TcJBwwXf924F",
        "colab_type": "text"
      },
      "source": [
        "### Processing Data Functions"
      ]
    },
    {
      "cell_type": "code",
      "metadata": {
        "id": "r81eRs5hx8Lf",
        "colab_type": "code",
        "colab": {}
      },
      "source": [
        "# Processing Data Functions\n",
        "# create_batch2 - Hàm tạo Batch\n",
        "def create_batch2(x,batch_size):\n",
        "    a = list(range(len(x)))\n",
        "    np.random.shuffle(a)\n",
        "    x = x[a]\n",
        "    batch_x = [x[batch_size * i : (i+1)*batch_size,:] for i in range(len(x)//batch_size)]\n",
        "    return np.array(batch_x)\n",
        "    \n",
        "# preprocess_malicious_data - Hàm tiền xử lý dữ liệu tấn công\n",
        "def preprocess_malicious_data(dataset, attack_category):\n",
        "    if attack_category != 'DOS' and attack_category != 'U2R_AND_R2L':\n",
        "      raise ValueError(\"Preprocess Data Fail: Invalid Attack Category\")\n",
        "    attack_data = dataset[dataset['class'] == attack_category]\n",
        "    del attack_data[\"class\"]\n",
        "    return np.array(attack_data)"
      ],
      "execution_count": null,
      "outputs": []
    },
    {
      "cell_type": "markdown",
      "metadata": {
        "id": "fM7pjZa999Ht",
        "colab_type": "text"
      },
      "source": [
        "### IDS Functions"
      ]
    },
    {
      "cell_type": "code",
      "metadata": {
        "id": "Ukp0y2LiyGmy",
        "colab_type": "code",
        "colab": {}
      },
      "source": [
        "# IDS Functions\n",
        "# get_keras_ids_path - Get path for Keras IDS Models\n",
        "def get_keras_ids_path(model_name, attack_category, created_date):\n",
        "    if attack_category != 'DOS' and attack_category != 'U2R_AND_R2L':\n",
        "        raise ValueError(\"Preprocess Data Fail: Invalid Attack Category\")\n",
        "\n",
        "    ids_path = str(f\"{IDS_Model_Path}{attack_category}/Deep_Learning/created_date_{created_date}_{model_name}.h5\")\n",
        "\n",
        "    if not os.path.exists(ids_path):\n",
        "        raise ValueError(f\"Invalid path: {ids_path}\\nNot exist file!\")\n",
        "    return ids_path\n",
        "\n",
        "# load_keras_ids_model - Load Keras IDS Models\n",
        "def load_keras_ids_model(model_name, attack_category, created_date):\n",
        "    ids_model_path = get_keras_ids_path(model_name, attack_category, created_date)\n",
        "    ids_model = load_model(ids_model_path)\n",
        "    print(f\"{4*' '}Loaded IDS Model From: {ids_model_path}\")\n",
        "    return ids_model"
      ],
      "execution_count": null,
      "outputs": []
    },
    {
      "cell_type": "markdown",
      "metadata": {
        "id": "J9Q5DryD-Dl0",
        "colab_type": "text"
      },
      "source": [
        "### GAN Functions"
      ]
    },
    {
      "cell_type": "code",
      "metadata": {
        "id": "tV5MHCxUA-8G",
        "colab_type": "code",
        "colab": {}
      },
      "source": [
        "# GAN Functions\n",
        "# init_generator - Khoi tao model GAN-G\n",
        "def init_generator(input_dim, output_dim, adversarial_attack_type = 1):\n",
        "    if adversarial_attack_type == 1:\n",
        "        generator = Generator_A1(input_dim, output_dim)\n",
        "    elif adversarial_attack_type == 2:\n",
        "        generator = Generator_A2(input_dim, output_dim)\n",
        "    elif adversarial_attack_type == 3:\n",
        "        '''\n",
        "            adversarial_attack_type 3: G-input is nonfunctional feature, G-out is adversarial nonfuncitonal feature.\n",
        "            --> input_dim = output_dim = len(nonfunctional_features)\n",
        "        ''' \n",
        "        generator = Generator_A2(output_dim, output_dim)\n",
        "    elif adversarial_attack_type == 4:\n",
        "        '''\n",
        "            adversarial_attack_type 4: G-input in random noise nf-dim (num. of nonfunctional features)\n",
        "            --> input_dim = output_dim = len(nonfunctional_features)\n",
        "        '''\n",
        "        generator = Generator_A1(output_dim, output_dim)\n",
        "    else:\n",
        "        raise ValueError(\"Init GAN - Generator: Invalid Adversarial Attack Type\")\n",
        "    return generator\n",
        "\n",
        "# gen_adversarial_attack - Tao luu luong tan cong doi khang\n",
        "def gen_adversarial_attack(generator, noise_dim, raw_attack, attack_category, adversarial_attack_type = 1):\n",
        "    if adversarial_attack_type == 1 or adversarial_attack_type == 4:\n",
        "        adversarial_attack = generator(noise_dim, raw_attack, attack_category, POS_NONFUNCTIONAL_FEATURES)\n",
        "    elif adversarial_attack_type == 2:\n",
        "        batch_size = len(raw_attack)\n",
        "        noise = V(th.Tensor(np.random.uniform(0,1,(batch_size, noise_dim))))\n",
        "        generator_out = generator(noise)\n",
        "        adversarial_attack = gen_adversarial_attack_a2(generator_out, raw_attack, attack_category, POS_NONFUNCTIONAL_FEATURES)\n",
        "    elif  adversarial_attack_type == 3:\n",
        "        pos_nonfunctional_feature = POS_NONFUNCTIONAL_FEATURES[attack_category]\n",
        "        # get nonfunctional features val\n",
        "        nonfunctional_feature = raw_attack[:, pos_nonfunctional_feature]\n",
        "        generator_out = generator(nonfunctional_feature)\n",
        "        adversarial_attack = gen_adversarial_attack_a2(generator_out, raw_attack, attack_category, POS_NONFUNCTIONAL_FEATURES)\n",
        "    else:\n",
        "        raise ValueError(\"Init GAN - Generator: Invalid Adversarial Attack Type\")\n",
        "    return adversarial_attack\n",
        "\n",
        "# train_generator - Train Generator\n",
        "def train_generator(generator, discriminator, optimizer_G, noise_dim, attack_traffic, attack_category, adversarial_attack_type):\n",
        "    for p in discriminator.parameters():  \n",
        "        p.requires_grad = False\n",
        "    optimizer_G.zero_grad()        \n",
        "    # GAN-G Generate Adversarial Attack\n",
        "    adversarial_attack = gen_adversarial_attack(generator, noise_dim, attack_traffic, attack_category, adversarial_attack_type)\n",
        "    # GAN-D predict, GAN-G update parameter\n",
        "    D_pred = discriminator(adversarial_attack)\n",
        "    g_loss = -th.mean(D_pred)\n",
        "    g_loss.backward()\n",
        "    optimizer_G.step()\n",
        "    return g_loss\n",
        "\n",
        "# train_discriminator - Train Discriminator\n",
        "def train_discriminator(discriminator, ids_model, generator, critic_iters, clamp, optimizer_D, normal_b, noise_dim, attack_traffic, attack_category, adversarial_attack_type):\n",
        "    run_d_loss = 0\n",
        "    cnt = 0\n",
        "    for p in discriminator.parameters(): \n",
        "        p.requires_grad = True\n",
        "    for c in range(critic_iters):\n",
        "        optimizer_D.zero_grad()\n",
        "        for p in discriminator.parameters():\n",
        "            p.data.clamp_(-clamp, clamp)\n",
        "        # GAN-G Generate Adversarial Attack\n",
        "        adversarial_attack = gen_adversarial_attack(generator, noise_dim, attack_traffic, attack_category, adversarial_attack_type)\n",
        "        # Make data to feed IDS\n",
        "        ids_input = th.cat((adversarial_attack,normal_b))\n",
        "        l = list(range(len(ids_input)))\n",
        "        np.random.shuffle(l)\n",
        "        ids_input = V(th.Tensor(ids_input[l]))\n",
        "        ids_input_keras = ids_input.reshape(ids_input.shape[0], N_FEATURES, 1)      # Keras Format\n",
        "        # IDS Predict\n",
        "        ids_pred = V(th.Tensor(ids_model.predict(ids_input_keras)))\n",
        "        ids_pred_label = th.argmax(nn.Sigmoid()(ids_pred),dim = 1).detach().numpy()\n",
        "        pred_normal = ids_input.numpy()[ids_pred_label==0]\n",
        "        pred_attack = ids_input.numpy()[ids_pred_label==1]\n",
        "        if len(pred_attack) == 0:\n",
        "            cnt += 1\n",
        "            break\n",
        "        # Make GAN-D input\n",
        "        D_noraml = discriminator(V(th.Tensor(pred_normal)))\n",
        "        D_attack= discriminator(V(th.Tensor(pred_attack)))\n",
        "        # Loss and Update Parameter\n",
        "        loss_normal = th.mean(D_noraml)\n",
        "        loss_attack = th.mean(D_attack)\n",
        "        if GAN_variant == 'WGAN':\n",
        "            d_loss = loss_attack - loss_normal #+ LAMBDA * gradient_penalty\n",
        "        elif GAN_variant == 'WGAN-GP':\n",
        "            gradient_penalty = compute_gradient_penalty(discriminator, normal_b.data, adversarial_attack.data)\n",
        "            d_loss = loss_attack - loss_normal + LAMBDA * gradient_penalty\n",
        "        d_loss.backward()\n",
        "        optimizer_D.step()\n",
        "        run_d_loss += d_loss.item()\n",
        "    return run_d_loss, cnt\n",
        "\n",
        "# compute_gradient_penalty - Compute Gradient Penalty\n",
        "def compute_gradient_penalty(D, normal_t, attack_t):\n",
        "    alpha = th.Tensor(np.random.random((normal_t.shape[0], 1)))\n",
        "    between_n_a = (alpha * normal_t + ((1 - alpha) * attack_t)).requires_grad_(True)\n",
        "    d_between_n_a = D(between_n_a)\n",
        "    adv = V(th.Tensor(normal_t.shape[0], 1).fill_(1.0), requires_grad=False)\n",
        "\n",
        "    gradients = autograd.grad(\n",
        "        outputs=d_between_n_a,\n",
        "        inputs=between_n_a,\n",
        "        grad_outputs=adv,\n",
        "        create_graph=True,\n",
        "        retain_graph=True,\n",
        "        only_inputs=True,\n",
        "    )[0]\n",
        "    gradients = gradients.view(gradients.size(0), -1)\n",
        "    gradient_penalty = ((gradients.norm(2, dim=1) - 1) ** 2).mean()\n",
        "    return gradient_penalty"
      ],
      "execution_count": null,
      "outputs": []
    },
    {
      "cell_type": "markdown",
      "metadata": {
        "id": "jRhNLI_jSKIg",
        "colab_type": "text"
      },
      "source": [
        "### Generate Adversarial Attack Functions"
      ]
    },
    {
      "cell_type": "code",
      "metadata": {
        "id": "RyrR7KLNSPtu",
        "colab_type": "code",
        "colab": {}
      },
      "source": [
        "# cal_dr - Tinh DR\n",
        "def cal_dr(ids_model, normal, raw_attack, adversarial_attack):\n",
        "    # Make data to feed IDS contain: Attack & Normal\n",
        "    o_ids_input = th.cat((raw_attack, normal))\n",
        "    a_ids_input = th.cat((adversarial_attack,normal))\n",
        "    # Shuffle Input\n",
        "    l = list(range(len(a_ids_input)))\n",
        "    np.random.shuffle(l)\n",
        "    o_ids_input = o_ids_input[l]\n",
        "    o_ids_input = o_ids_input.reshape(o_ids_input.shape[0], N_FEATURES, 1)      # Keras Format\n",
        "    a_ids_input = a_ids_input[l].detach()\n",
        "    a_ids_input = a_ids_input.reshape(a_ids_input.shape[0], N_FEATURES, 1)      # Keras Format\n",
        "    # IDS Predict Label\n",
        "    o_ids_pred = th.Tensor(ids_model.predict(o_ids_input))\n",
        "    o_pred_label = th.argmax(nn.Sigmoid()(o_ids_pred),dim = 1).detach().numpy()\n",
        "    a_ids_pred = th.Tensor(ids_model.predict(a_ids_input))\n",
        "    a_pred_label = th.argmax(nn.Sigmoid()(a_ids_pred),dim = 1).detach().numpy()\n",
        "    # True Label\n",
        "    ids_true_label = np.r_[np.ones(BATCH_SIZE),np.zeros(BATCH_SIZE)][l]\n",
        "    # Calc DR\n",
        "    tn1, fn1, fp1, tp1 = confusion_matrix(ids_true_label,o_pred_label).ravel()\n",
        "    tn2, fn2, fp2, tp2 = confusion_matrix(ids_true_label,a_pred_label).ravel()\n",
        "    origin_dr = tp1/(tp1 + fp1)\n",
        "    adversarial_dr = tp2/(tp2 + fp2)\n",
        "    return origin_dr, adversarial_dr"
      ],
      "execution_count": null,
      "outputs": []
    },
    {
      "cell_type": "markdown",
      "metadata": {
        "id": "nDp5Uy_HaShp",
        "colab_type": "text"
      },
      "source": [
        "# **3. Run Model**"
      ]
    },
    {
      "cell_type": "code",
      "metadata": {
        "id": "MuYLEzAXmico",
        "colab_type": "code",
        "colab": {}
      },
      "source": [
        "IDS_Model_Created_Auto = {'CNN': '2020-07-17',\n",
        "                          'RNN_1': '2020-07-22'\n",
        "                          }"
      ],
      "execution_count": null,
      "outputs": []
    },
    {
      "cell_type": "code",
      "metadata": {
        "id": "7hTHJcBcRKjg",
        "colab_type": "code",
        "cellView": "both",
        "colab": {
          "base_uri": "https://localhost:8080/",
          "height": 69
        },
        "outputId": "79aebd48-76ef-4eea-ab79-45ad498c5002"
      },
      "source": [
        "#@title **CONSTS**\n",
        "ids_dl_model_name = \"RNN_1\" #@param [\"CNN\", \"RNN_1\"]\n",
        "ids_created_date = 'Auto' #@param ['Auto', '2020-07-17']\n",
        "if ids_created_date == 'Auto':\n",
        "    ids_created_date = IDS_Model_Created_Auto[ids_dl_model_name]\n",
        "    print(f\"IDS: {ids_dl_model_name} - created on: \\t{ids_created_date}\")\n",
        "GAN_variant = 'WGAN' #@param ['WGAN', 'WGANGP']\n",
        "MAX_EPOCH = 100 #@param [100, 10, 2, 1] {type:\"raw\"}\n",
        "ATTACK_CATEGORIES = 'ALL' #@param ['ALL', 'DOS', 'U2R_AND_R2L']\n",
        "if ATTACK_CATEGORIES == 'ALL':\n",
        "    ATTACK_CATEGORIES = ['DOS', 'U2R_AND_R2L']\n",
        "else:\n",
        "    ATTACK_CATEGORIES = [ATTACK_CATEGORIES]\n",
        "print(f\"ATTACK_CATEGORIES: \\t\\t{ATTACK_CATEGORIES}\")\n",
        "\n",
        "ADVERSARIAL_ATTACK_TYPES = 3 #@param [0, 1, 2, 3, 4] {type:\"raw\"}\n",
        "if ADVERSARIAL_ATTACK_TYPES == 0:\n",
        "    ADVERSARIAL_ATTACK_TYPES = [1, 2, 3, 4]\n",
        "else:\n",
        "    ADVERSARIAL_ATTACK_TYPES = [ADVERSARIAL_ATTACK_TYPES]\n",
        "print(f\"ADVERSARIAL_ATTACK_TYPES: \\t{ADVERSARIAL_ATTACK_TYPES}\")\n",
        "\n",
        "NOISE_DIM = 9 #@param[9, 41] {type:\"raw\"}"
      ],
      "execution_count": null,
      "outputs": [
        {
          "output_type": "stream",
          "text": [
            "IDS: RNN_1 - created on: \t2020-07-22\n",
            "ATTACK_CATEGORIES: \t\t['DOS', 'U2R_AND_R2L']\n",
            "ADVERSARIAL_ATTACK_TYPES: \t[3]\n"
          ],
          "name": "stdout"
        }
      ]
    },
    {
      "cell_type": "markdown",
      "metadata": {
        "id": "s8tEzhBNxvGM",
        "colab_type": "text"
      },
      "source": [
        "##**3.1 Run IDSGAN**"
      ]
    },
    {
      "cell_type": "code",
      "metadata": {
        "id": "j01YlgClq7yq",
        "colab_type": "code",
        "colab": {}
      },
      "source": [
        "# Hyber Parameters\n",
        "BATCH_SIZE = 64\n",
        "learning_rate = 0.0001\n",
        "LAMBDA = 10\n",
        "CLAMP = 0.01\n",
        "CRITIC_ITERS = 5          # For WGAN and WGAN-GP, number of critic iters per gen iter\n",
        "\n",
        "# GAN-D\n",
        "D_INPUT_DIM = N_FEATURES\n",
        "D_OUTPUT_DIM = 1\n",
        "discriminator = Discriminator(D_INPUT_DIM,D_OUTPUT_DIM)\n",
        "optimizer_D = optim.RMSprop(discriminator.parameters(), lr=learning_rate)"
      ],
      "execution_count": null,
      "outputs": []
    },
    {
      "cell_type": "code",
      "metadata": {
        "id": "xG09yA2D9bzg",
        "colab_type": "code",
        "colab": {
          "base_uri": "https://localhost:8080/",
          "height": 52
        },
        "outputId": "69fcd27e-3537-429e-a4de-c992920ff8f0"
      },
      "source": [
        "# Get today to set created time for GAN models\n",
        "today = str(date.today())\n",
        "\n",
        "## Prepare Dataset\n",
        "g_train_data = pd.read_csv(g_trainset_path)\n",
        "d_train_data = pd.read_csv(d_trainset_path)\n",
        "\n",
        "# All normal record in train_data\n",
        "del d_train_data[\"class\"]\n",
        "normal = np.array(d_train_data)\n",
        "\n",
        "print(\"Amout of Generator Trainset:\", g_train_data.shape[0])\n",
        "print(\"Amout of Discriminator Trainset:\", d_train_data.shape[0])"
      ],
      "execution_count": null,
      "outputs": [
        {
          "output_type": "stream",
          "text": [
            "Amout of Generator Trainset: 23488\n",
            "Amout of Discriminator Trainset: 33672\n"
          ],
          "name": "stdout"
        }
      ]
    },
    {
      "cell_type": "code",
      "metadata": {
        "id": "m9C1uFo0vnv7",
        "colab_type": "code",
        "colab": {
          "base_uri": "https://localhost:8080/",
          "height": 1000
        },
        "outputId": "f909a325-dd4b-4b53-8ff9-c7938e61cd00"
      },
      "source": [
        "print(f\"{40*'='} TRAINING GAN {40*'='}\")\n",
        "print(f\"{80*'='}\\n IDS Model: {ids_dl_model_name}\")\n",
        "\n",
        "for adversarial_attack_type in ADVERSARIAL_ATTACK_TYPES:\n",
        "    print(f\"{80*'*'}\\n  Adversarial Attack Type : {adversarial_attack_type}\")\n",
        "    for attack_category in ATTACK_CATEGORIES:\n",
        "        print(f\"{80*'-'}\\n    Attack Category: {attack_category}\")\n",
        "        total_time_start = timeit.default_timer()\n",
        "\n",
        "        # Load Keras IDS Model\n",
        "        ids_model = load_keras_ids_model(ids_dl_model_name, attack_category, ids_created_date)\n",
        "        # Init GAN-G model\n",
        "        G_OUTPUT_DIM = len(POS_NONFUNCTIONAL_FEATURES[attack_category])     # Generator output is number of nonfunctional feature\n",
        "        print(f\"    nf              : {G_OUTPUT_DIM} (num. of nonfunctional features)\")\n",
        "        if adversarial_attack_type == 4 or adversarial_attack_type == 3:\n",
        "            NOISE_DIM = G_OUTPUT_DIM                                        # Adversarial Attack Type 3,4: Noise dim = nonfunctional feature\n",
        "        G_INPUT_DIM = NOISE_DIM                                             # G_INPUT_DIM = NOISE_DIM\n",
        "        print(f\"    GAN-G NOISE DIM : {NOISE_DIM}\")\n",
        "        print(f\"    GAN-G INPUT DIM : {G_INPUT_DIM}\")\n",
        "        print(f\"    GAN-G OUTPUT DIM: {G_OUTPUT_DIM}\")\n",
        "        \n",
        "        G_INPUT_DIM = NOISE_DIM                                             # Generator input dimension is dimention of noise\n",
        "        generator = init_generator(G_INPUT_DIM,G_OUTPUT_DIM, adversarial_attack_type)\n",
        "        optimizer_G = optim.RMSprop(generator.parameters(), lr=learning_rate)\n",
        "        # Load Raw Attack Dataset\n",
        "        raw_attack = preprocess_malicious_data(g_train_data, attack_category)\n",
        "        # Prepare Save Folder\n",
        "        GAN_4IDS_Model_Path = str(f\"{GAN_Model_Path}Deep_Learning/{ids_dl_model_name}/\")\n",
        "        if not os.path.exists(GAN_4IDS_Model_Path):\n",
        "                os.makedirs(GAN_4IDS_Model_Path)\n",
        "        GAN_Save_Path = str(f\"{GAN_4IDS_Model_Path}{attack_category}/{adversarial_attack_type}/\")\n",
        "        if not os.path.exists(GAN_Save_Path):\n",
        "            os.makedirs(GAN_Save_Path)\n",
        "        \n",
        "        # Create batch of attack traffic\n",
        "        batch_attack = create_batch2(raw_attack,BATCH_SIZE)\n",
        "        # Declare Loss, DR List and Train GAN-G, GAN-D\n",
        "        d_losses,g_losses = [],[]\n",
        "        o_dr, a_dr = [],[]\n",
        "        generator.train()\n",
        "        discriminator.train()\n",
        "\n",
        "        # Start Training\n",
        "        print(f\"==>IDSGAN start training\")\n",
        "        print(f\"{4*' '}Folder for saving GAN Models : {GAN_Save_Path}\")\n",
        "        labels = ['Epoch', 'G-Loss', 'D-Loss', 'O-DR(%)', 'A-DR(%)', 'Runtime(s)']\n",
        "        print(\"{: >10} {: >15} {: >15} {: >15} {: >15} {: >15}\".format(*labels))\n",
        "        for epoch in range(MAX_EPOCH):\n",
        "            batch_normal = create_batch2(normal,BATCH_SIZE)\n",
        "            epoch_time_start = timeit.default_timer()\n",
        "            cnt = 0\n",
        "            run_g_loss = 0.\n",
        "            run_d_loss = 0.\n",
        "            epoch_o_drs, epoch_a_drs = [], []\n",
        "\n",
        "            for idx, bn in enumerate(batch_normal):\n",
        "                normal_b = th.Tensor(bn.astype(\"float64\"))\n",
        "                attack_traffic  = V(th.Tensor(batch_attack[idx % len(batch_attack)]))\n",
        "                #  Train Generator\n",
        "                g_loss = train_generator(generator, discriminator, optimizer_G, NOISE_DIM, attack_traffic, attack_category, adversarial_attack_type)\n",
        "                run_g_loss += g_loss.item()\n",
        "\n",
        "                # Train Discriminator\n",
        "                d_loss, current_cnt = train_discriminator(discriminator, ids_model, generator, CRITIC_ITERS, CLAMP, optimizer_D, normal_b, NOISE_DIM, attack_traffic, attack_category, adversarial_attack_type)\n",
        "                run_d_loss += d_loss\n",
        "                cnt += current_cnt\n",
        "                \n",
        "                # CALC Epoch DR\n",
        "                adversarial_attack = gen_adversarial_attack(generator, NOISE_DIM, attack_traffic, attack_category, adversarial_attack_type)\n",
        "                origin_dr, adversarial_dr = cal_dr(ids_model, normal_b, attack_traffic, adversarial_attack)\n",
        "                epoch_o_drs.append(origin_dr)\n",
        "                epoch_a_drs.append(adversarial_dr)\n",
        "\n",
        "            if cnt >= (len(normal)/BATCH_SIZE):\n",
        "                print(\"Not exist predicted attack traffic\")\n",
        "                break\n",
        "            d_losses.append(run_d_loss/CRITIC_ITERS)\n",
        "            g_losses.append(run_g_loss)\n",
        "            epoch_o_dr = np.mean(epoch_o_drs)\n",
        "            epoch_a_dr = np.mean(epoch_a_drs)\n",
        "            o_dr.append(epoch_o_dr)\n",
        "            a_dr.append(epoch_a_dr)\n",
        "            \n",
        "            runtime = timeit.default_timer() - epoch_time_start\n",
        "            print_vals = [(epoch + 1), run_g_loss, (run_d_loss/CRITIC_ITERS), (epoch_o_dr*100), (epoch_a_dr*100), runtime]\n",
        "            print_string = []\n",
        "            for val in print_vals:\n",
        "                if isinstance(val, float):\n",
        "                    print_string.append(str(f\"{val:.2f}\"))\n",
        "                else:\n",
        "                    print_string.append(str(val))\n",
        "            print(\"{: >10} {: >15} {: >15} {: >15} {: >15} {: >15}\".format(*print_string))\n",
        "            # Save Adversarial Dataset each 10 epoch\n",
        "            if (epoch == 0 or (epoch + 1) % 10 == 0):\n",
        "                model_g_save_name = f\"time_created_{today}_GAN_G_{epoch+1}epoch.pth\"\n",
        "                path = GAN_Save_Path + model_g_save_name\n",
        "                th.save(generator.state_dict(), path)\n",
        "                print(f\"{6*' '}-> GAN-G - {attack_category} - A{adversarial_attack_type} Saved: {model_g_save_name}\")\n",
        "        total_runtime = timeit.default_timer() - total_time_start\n",
        "        print(f\"Training Runtime: {total_runtime:.2f}\")\n",
        "        print(\"IDSGAN finish training!\")\n",
        "        \n",
        "        # Show Graph\n",
        "        # Loss-Graph\n",
        "        plt.plot(d_losses,label = \"D_loss\")\n",
        "        plt.plot(g_losses, label = \"G_loss\")\n",
        "        plt.legend()\n",
        "        plt.show()\n",
        "        # DR-Graph\n",
        "        plt.plot(o_dr,label = \"Origin DR\")\n",
        "        plt.plot(a_dr, label = \"Adversarial DR\")\n",
        "        plt.legend()\n",
        "        plt.show()\n",
        "\n",
        "        # Save Model\n",
        "        model_d_save_name = f\"time_created_{today}_GAN_D_{MAX_EPOCH}epoch.pth\"\n",
        "        path = GAN_Save_Path + model_d_save_name\n",
        "        th.save(discriminator.state_dict(), path)\n",
        "        print(f\"{6*' '}-> GAN-D - {attack_category} - A{adversarial_attack_type}Saved: {model_d_save_name}\")"
      ],
      "execution_count": null,
      "outputs": [
        {
          "output_type": "stream",
          "text": [
            "======================================== TRAINING GAN ========================================\n",
            "================================================================================\n",
            " IDS Model: RNN_1\n",
            "********************************************************************************\n",
            "  Adversarial Attack Type : 3\n",
            "--------------------------------------------------------------------------------\n",
            "    Attack Category: DOS\n",
            "    Loaded IDS Model From: /content/drive/My Drive/Study/KLTN/Saved Model/IDSModel/DOS/Deep_Learning/created_date_2020-07-22_RNN_1.h5\n",
            "    nf              : 24 (num. of nonfunctional features)\n",
            "    GAN-G NOISE DIM : 24\n",
            "    GAN-G INPUT DIM : 24\n",
            "    GAN-G OUTPUT DIM: 24\n",
            "==>IDSGAN start training\n",
            "    Folder for saving GAN Models : /content/drive/My Drive/Study/KLTN/Saved Model/GANModel/Deep_Learning/RNN_1/DOS/3/\n",
            "     Epoch          G-Loss          D-Loss         O-DR(%)         A-DR(%)      Runtime(s)\n",
            "         1           -4.72           -3.37           97.82           92.33           79.22\n",
            "      -> GAN-G - DOS - A3 Saved: time_created_2020-07-22_GAN_G_1epoch.pth\n",
            "         2           -5.45           -2.74           97.82           97.30           76.23\n",
            "         3           -5.35           -2.65           97.82           97.36           76.73\n",
            "         4           -5.22           -2.63           97.82           97.32           78.07\n",
            "         5           -5.10           -2.63           97.82           97.37           82.01\n",
            "         6           -5.03           -2.63           97.82           97.40           77.96\n",
            "         7           -4.95           -2.62           97.82           97.38           78.00\n",
            "         8           -4.93           -2.63           97.82           97.38           78.33\n",
            "         9           -4.88           -2.63           97.82           97.40           82.27\n",
            "        10           -4.81           -2.62           97.82           97.37           77.31\n",
            "      -> GAN-G - DOS - A3 Saved: time_created_2020-07-22_GAN_G_10epoch.pth\n",
            "        11           -4.79           -2.63           97.82           97.39           77.23\n",
            "        12           -4.74           -2.63           97.82           97.31           76.56\n",
            "        13           -4.68           -2.63           97.82           97.40           78.17\n",
            "        14           -4.67           -2.63           97.82           97.42           76.37\n",
            "        15           -4.68           -2.62           97.82           97.38           75.55\n",
            "        16           -4.65           -2.62           97.82           97.40           75.18\n",
            "        17           -4.65           -2.63           97.82           97.41           77.00\n",
            "        18           -4.65           -2.62           97.82           97.38           76.67\n",
            "        19           -4.64           -2.63           97.82           97.37           76.08\n",
            "        20           -4.64           -2.63           97.82           97.32           76.19\n",
            "      -> GAN-G - DOS - A3 Saved: time_created_2020-07-22_GAN_G_20epoch.pth\n",
            "        21           -4.67           -2.63           97.82           97.41           76.08\n",
            "        22           -4.64           -2.62           97.82           97.40           76.47\n",
            "        23           -4.67           -2.63           97.82           97.32           75.17\n",
            "        24           -4.66           -2.62           97.82           97.40           75.23\n",
            "        25           -4.69           -2.63           97.82           97.34           76.06\n",
            "        26           -4.65           -2.63           97.82           97.37           74.94\n",
            "        27           -4.63           -2.63           97.82           97.32           73.60\n",
            "        28           -4.63           -2.61           97.82           97.32           73.40\n",
            "        29           -4.30           -2.26           97.82           90.67           74.36\n",
            "        30           -4.81           -2.04           97.82           83.78           73.91\n",
            "      -> GAN-G - DOS - A3 Saved: time_created_2020-07-22_GAN_G_30epoch.pth\n",
            "        31           -5.17           -2.04           97.82           83.43           73.17\n",
            "        32           -5.22           -2.05           97.82           84.24           73.29\n",
            "        33           -5.24           -2.04           97.82           83.57           73.67\n",
            "        34           -5.22           -2.04           97.82           83.52           74.54\n",
            "        35           -5.26           -2.04           97.82           83.70           75.15\n",
            "        36           -5.21           -2.04           97.82           83.63           73.43\n",
            "        37           -5.21           -2.04           97.82           83.53           72.90\n",
            "        38           -5.22           -2.02           97.82           82.70           73.75\n",
            "        39           -5.16           -2.03           97.82           83.48           74.94\n",
            "        40           -5.23           -2.03           97.82           83.25           74.08\n",
            "      -> GAN-G - DOS - A3 Saved: time_created_2020-07-22_GAN_G_40epoch.pth\n",
            "        41           -5.20           -2.03           97.82           83.03           73.71\n",
            "        42           -5.24           -2.03           97.82           83.27           73.87\n",
            "        43           -5.24           -2.03           97.82           83.16           74.44\n",
            "        44           -5.23           -2.03           97.82           83.26           74.80\n",
            "        45           -5.22           -2.03           97.82           83.13           73.44\n",
            "        46           -5.21           -2.04           97.82           83.48           73.96\n",
            "        47           -5.24           -2.03           97.82           83.04           74.06\n",
            "        48           -5.21           -2.04           97.82           83.43           76.02\n",
            "        49           -5.28           -2.04           97.82           83.35           74.68\n",
            "        50           -5.23           -2.03           97.82           83.29           73.89\n",
            "      -> GAN-G - DOS - A3 Saved: time_created_2020-07-22_GAN_G_50epoch.pth\n",
            "        51           -5.24           -2.03           97.82           83.38           75.00\n",
            "        52           -5.20           -2.02           97.82           82.88           74.05\n",
            "        53           -5.19           -2.02           97.82           83.29           72.88\n",
            "        54           -5.24           -2.02           97.82           83.38           73.38\n",
            "        55           -5.24           -2.03           97.82           83.23           72.99\n",
            "        56           -5.22           -2.02           97.82           82.98           72.99\n",
            "        57           -5.23           -2.03           97.82           83.34           74.36\n",
            "        58           -5.24           -2.02           97.82           83.51           73.46\n",
            "        59           -5.20           -2.02           97.82           82.91           73.47\n",
            "        60           -5.24           -2.02           97.82           83.10           73.40\n",
            "      -> GAN-G - DOS - A3 Saved: time_created_2020-07-22_GAN_G_60epoch.pth\n",
            "        61           -5.29           -2.03           97.82           83.17           74.08\n",
            "        62           -5.21           -2.02           97.82           82.83           75.14\n",
            "        63           -5.24           -2.02           97.82           83.05           74.94\n",
            "        64           -5.25           -2.03           97.82           83.24           72.81\n",
            "        65           -5.23           -2.03           97.82           83.28           73.09\n",
            "        66           -5.25           -2.02           97.82           82.98           73.17\n",
            "        67           -5.20           -2.02           97.82           82.98           73.26\n",
            "        68           -5.25           -2.02           97.82           83.26           73.13\n",
            "        69           -5.20           -2.03           97.82           83.50           72.80\n",
            "        70           -5.22           -2.02           97.82           82.99           77.61\n",
            "      -> GAN-G - DOS - A3 Saved: time_created_2020-07-22_GAN_G_70epoch.pth\n",
            "        71           -5.18           -2.02           97.82           83.47           72.99\n",
            "        72           -5.18           -2.02           97.82           82.95           73.22\n",
            "        73           -5.20           -2.02           97.82           83.50           73.27\n",
            "        74           -5.22           -2.02           97.82           83.37           74.35\n",
            "        75           -5.21           -2.02           97.82           83.23           73.60\n",
            "        76           -5.19           -2.02           97.82           83.37           73.49\n",
            "        77           -5.22           -2.02           97.82           83.31           73.08\n",
            "        78           -5.23           -2.02           97.82           83.14           73.08\n",
            "        79           -5.21           -2.01           97.82           83.11           74.40\n",
            "        80           -5.22           -2.02           97.82           83.38           73.14\n",
            "      -> GAN-G - DOS - A3 Saved: time_created_2020-07-22_GAN_G_80epoch.pth\n",
            "        81           -5.23           -2.02           97.82           82.76           72.82\n",
            "        82           -5.23           -2.02           97.82           83.45           72.95\n",
            "        83           -5.25           -2.02           97.82           83.39           74.28\n",
            "        84           -5.22           -2.02           97.82           83.16           75.48\n",
            "        85           -5.23           -2.03           97.82           83.26           73.57\n",
            "        86           -5.27           -2.03           97.82           83.54           73.84\n",
            "        87           -5.24           -2.02           97.82           83.22           77.34\n",
            "        88           -5.22           -2.03           97.82           83.60           79.62\n",
            "        89           -5.21           -2.02           97.82           82.95           74.44\n",
            "        90           -5.23           -2.03           97.82           83.87           74.62\n",
            "      -> GAN-G - DOS - A3 Saved: time_created_2020-07-22_GAN_G_90epoch.pth\n",
            "        91           -5.22           -2.03           97.82           83.14           74.89\n",
            "        92           -5.25           -2.03           97.82           83.50           77.08\n",
            "        93           -5.20           -2.03           97.82           83.56           75.04\n",
            "        94           -5.20           -2.03           97.82           83.44           74.80\n",
            "        95           -5.20           -2.02           97.82           83.09           74.55\n",
            "        96           -5.20           -2.03           97.82           83.43           78.87\n",
            "        97           -5.26           -2.03           97.82           83.64           76.19\n",
            "        98           -5.23           -2.03           97.82           83.48           76.09\n",
            "        99           -5.23           -2.03           97.82           83.63           73.56\n",
            "       100           -5.25           -2.04           97.82           84.12           75.44\n",
            "      -> GAN-G - DOS - A3 Saved: time_created_2020-07-22_GAN_G_100epoch.pth\n",
            "Training Runtime: 7501.77\n",
            "IDSGAN finish training!\n"
          ],
          "name": "stdout"
        },
        {
          "output_type": "display_data",
          "data": {
            "image/png": "[encoded data removed]",
            "text/plain": [
              "<Figure size 432x288 with 1 Axes>"
            ]
          },
          "metadata": {
            "tags": [],
            "needs_background": "light"
          }
        },
        {
          "output_type": "display_data",
          "data": {
            "image/png": "[encoded data removed]",
            "text/plain": [
              "<Figure size 432x288 with 1 Axes>"
            ]
          },
          "metadata": {
            "tags": [],
            "needs_background": "light"
          }
        },
        {
          "output_type": "stream",
          "text": [
            "      -> GAN-D - DOS - A3Saved: time_created_2020-07-22_GAN_D_100epoch.pth\n",
            "--------------------------------------------------------------------------------\n",
            "    Attack Category: U2R_AND_R2L\n",
            "    Loaded IDS Model From: /content/drive/My Drive/Study/KLTN/Saved Model/IDSModel/U2R_AND_R2L/Deep_Learning/created_date_2020-07-22_RNN_1.h5\n",
            "    nf              : 18 (num. of nonfunctional features)\n",
            "    GAN-G NOISE DIM : 18\n",
            "    GAN-G INPUT DIM : 18\n",
            "    GAN-G OUTPUT DIM: 18\n",
            "==>IDSGAN start training\n",
            "    Folder for saving GAN Models : /content/drive/My Drive/Study/KLTN/Saved Model/GANModel/Deep_Learning/RNN_1/U2R_AND_R2L/3/\n",
            "     Epoch          G-Loss          D-Loss         O-DR(%)         A-DR(%)      Runtime(s)\n",
            "         1           -4.99           -0.17           45.88            0.00           35.82\n",
            "      -> GAN-G - U2R_AND_R2L - A3 Saved: time_created_2020-07-22_GAN_G_1epoch.pth\n",
            "         2           -1.92           -0.29           45.88            0.00           35.29\n",
            "         3           -3.18           -0.40           45.88            0.00           35.06\n",
            "         4           -1.92           -2.98           45.88           20.06           67.41\n",
            "         5           -6.03           -0.13           45.88            0.22           39.27\n",
            "         6           -6.25           -0.27           45.88            0.76           40.01\n",
            "         7           -7.23           -0.25           45.88            0.35           40.46\n",
            "         8           -6.49           -0.22           45.88            0.18           39.77\n",
            "         9           -6.51           -0.26           45.88            0.18           40.50\n",
            "        10           -5.62           -0.26           45.88            0.17           39.63\n",
            "      -> GAN-G - U2R_AND_R2L - A3 Saved: time_created_2020-07-22_GAN_G_10epoch.pth\n",
            "        11           -7.37           -0.25           45.88            0.14           37.97\n",
            "        12           -7.49           -0.25           45.88            0.16           39.71\n",
            "        13           -8.02           -0.27           45.88            0.16           39.98\n",
            "        14           -7.16           -0.25           45.88            0.17           38.86\n",
            "        15           -8.09           -0.26           45.88            0.15           39.81\n",
            "        16           -6.99           -0.24           45.88            0.23           43.35\n",
            "        17           -7.53           -0.27           45.88            0.15           38.93\n",
            "        18           -3.61           -0.26           45.88            0.11           37.98\n",
            "        19           -6.02           -0.25           45.88            0.20           40.27\n",
            "        20           -8.03           -0.27           45.88            0.16           38.95\n",
            "      -> GAN-G - U2R_AND_R2L - A3 Saved: time_created_2020-07-22_GAN_G_20epoch.pth\n",
            "        21           -4.37           -0.28           45.88            0.23           41.38\n",
            "        22            0.79           -0.29           45.88            0.12           38.78\n",
            "        23            0.62           -0.29           45.88            0.14           39.36\n",
            "        24           -0.37           -0.24           45.88            0.19           40.79\n",
            "        25           -2.66           -0.27           45.88            0.17           38.89\n",
            "        26           -4.10           -0.23           45.88            0.20           39.62\n",
            "        27           -6.14           -0.25           45.88            0.20           39.67\n",
            "        28           -8.11           -0.31           45.88            0.11           37.73\n",
            "        29           -6.37           -0.25           45.88            0.17           39.39\n",
            "        30           -3.87           -0.29           45.88            0.13           42.12\n",
            "      -> GAN-G - U2R_AND_R2L - A3 Saved: time_created_2020-07-22_GAN_G_30epoch.pth\n",
            "        31           -3.01           -0.27           45.88            0.15           38.40\n",
            "        32           -0.73           -0.26           45.88            0.22           42.52\n",
            "        33           -0.37           -0.29           45.88            0.10           37.82\n",
            "        34           -1.12           -0.31           45.88            0.12           38.00\n",
            "        35            2.10           -0.29           45.88            0.16           40.31\n",
            "        36            1.15           -0.30           45.88            0.23           42.25\n",
            "        37            1.57           -0.36           45.88            0.00           36.05\n",
            "        38           -0.24           -0.40           45.88            0.00           35.68\n",
            "        39           -1.32           -0.38           45.88            0.00           35.84\n",
            "        40           -1.32           -0.42           45.88            0.00           36.98\n",
            "      -> GAN-G - U2R_AND_R2L - A3 Saved: time_created_2020-07-22_GAN_G_40epoch.pth\n",
            "        41            0.05           -0.39           45.88            0.00           35.21\n",
            "        42           -0.18           -0.41           45.88            0.00           34.94\n",
            "        43            0.43           -0.42           45.88            0.00           35.00\n",
            "        44           -0.43           -0.41           45.88            0.00           34.76\n",
            "        45           -2.07           -0.40           45.88            0.00           34.85\n",
            "        46           -2.24           -0.41           45.88            0.00           35.70\n",
            "        47           -0.98           -0.40           45.88            0.00           36.06\n",
            "        48           -2.41           -0.41           45.88            0.00           35.96\n",
            "        49            0.38           -0.42           45.88            0.00           37.10\n",
            "        50            0.76           -0.42           45.88            0.00           35.74\n",
            "      -> GAN-G - U2R_AND_R2L - A3 Saved: time_created_2020-07-22_GAN_G_50epoch.pth\n",
            "        51           -0.66           -0.40           45.88            0.00           34.90\n",
            "        52           -1.59           -0.39           45.88            0.00           34.81\n",
            "        53           -1.60           -0.40           45.88            0.00           35.30\n",
            "        54           -1.02           -0.41           45.88            0.00           36.19\n",
            "        55           -0.19           -0.41           45.88            0.00           37.07\n",
            "        56            0.60           -0.40           45.88            0.00           34.99\n",
            "        57           -0.16           -0.39           45.88            0.00           35.07\n",
            "        58            0.80           -0.43           45.88            0.00           37.32\n",
            "        59            1.04           -0.43           45.88            0.00           34.82\n",
            "        60            0.81           -0.42           45.88            0.00           34.92\n",
            "      -> GAN-G - U2R_AND_R2L - A3 Saved: time_created_2020-07-22_GAN_G_60epoch.pth\n",
            "        61            0.36           -0.41           45.88            0.00           35.38\n",
            "        62            0.60           -0.41           45.88            0.00           34.86\n",
            "        63            0.79           -0.42           45.88            0.00           34.74\n",
            "        64           -0.12           -0.39           45.88            0.00           34.71\n",
            "        65            0.05           -0.41           45.88            0.00           34.50\n",
            "        66            0.22           -0.40           45.88            0.00           34.11\n",
            "        67           -1.04           -0.40           45.88            0.00           35.58\n",
            "        68           -1.63           -0.39           45.88            0.00           35.21\n",
            "        69           -3.20           -0.40           45.88            0.00           35.13\n",
            "        70           -2.86           -0.41           45.88            0.00           35.47\n",
            "      -> GAN-G - U2R_AND_R2L - A3 Saved: time_created_2020-07-22_GAN_G_70epoch.pth\n",
            "        71           -1.08           -0.41           45.88            0.00           35.16\n",
            "        72           -0.27           -0.38           45.88            0.00           35.53\n",
            "        73           -0.11           -0.43           45.88            0.00           36.49\n",
            "        74            0.40           -0.41           45.88            0.00           34.47\n",
            "        75            1.03           -0.43           45.88            0.00           34.48\n",
            "        76            0.11           -0.41           45.88            0.00           34.83\n",
            "        77            0.84           -0.40           45.88            0.00           34.24\n",
            "        78            0.74           -0.41           45.88            0.00           34.16\n",
            "        79            0.00           -0.42           45.88            0.00           34.27\n",
            "        80            0.95           -0.43           45.88            0.00           34.57\n",
            "      -> GAN-G - U2R_AND_R2L - A3 Saved: time_created_2020-07-22_GAN_G_80epoch.pth\n",
            "        81            0.14           -0.41           45.88            0.00           34.47\n",
            "        82           -0.57           -0.40           45.88            0.00           35.21\n",
            "        83            0.78           -0.42           45.88            0.00           34.74\n",
            "        84            0.56           -0.41           45.88            0.00           34.20\n",
            "        85            0.58           -0.42           45.88            0.00           35.09\n",
            "        86            0.38           -0.40           45.88            0.00           35.99\n",
            "        87           -0.08           -0.41           45.88            0.00           34.70\n",
            "        88            0.52           -0.40           45.88            0.00           34.82\n",
            "        89           -0.92           -0.39           45.88            0.00           35.02\n",
            "        90           -3.45           -0.39           45.88            0.00           35.63\n",
            "      -> GAN-G - U2R_AND_R2L - A3 Saved: time_created_2020-07-22_GAN_G_90epoch.pth\n",
            "        91           -3.50           -0.42           45.88            0.00           38.63\n",
            "        92           -0.00           -0.40           45.88            0.00           36.10\n",
            "        93            0.28           -0.41           45.88            0.00           36.25\n",
            "        94           -0.88           -0.40           45.88            0.00           37.82\n",
            "        95            0.79           -0.43           45.88            0.00           37.86\n",
            "        96            0.91           -0.41           45.88            0.00           36.38\n",
            "        97           -0.61           -0.41           45.88            0.00           36.37\n",
            "        98           -0.85           -0.41           45.88            0.00           35.97\n",
            "        99            0.84           -0.42           45.88            0.00           36.28\n",
            "       100            0.98           -0.41           45.88            0.00           35.17\n",
            "      -> GAN-G - U2R_AND_R2L - A3 Saved: time_created_2020-07-22_GAN_G_100epoch.pth\n",
            "Training Runtime: 3719.51\n",
            "IDSGAN finish training!\n"
          ],
          "name": "stdout"
        },
        {
          "output_type": "display_data",
          "data": {
            "image/png": "[encoded data removed]",
            "text/plain": [
              "<Figure size 432x288 with 1 Axes>"
            ]
          },
          "metadata": {
            "tags": [],
            "needs_background": "light"
          }
        },
        {
          "output_type": "display_data",
          "data": {
            "image/png": "[encoded data removed]",
            "text/plain": [
              "<Figure size 432x288 with 1 Axes>"
            ]
          },
          "metadata": {
            "tags": [],
            "needs_background": "light"
          }
        },
        {
          "output_type": "stream",
          "text": [
            "      -> GAN-D - U2R_AND_R2L - A3Saved: time_created_2020-07-22_GAN_D_100epoch.pth\n"
          ],
          "name": "stdout"
        }
      ]
    },
    {
      "cell_type": "markdown",
      "metadata": {
        "id": "jQNXCNMEx1bn",
        "colab_type": "text"
      },
      "source": [
        "## **3.2 Run Generate Adversarial Traffic**"
      ]
    },
    {
      "cell_type": "code",
      "metadata": {
        "id": "I0w_F6zKcgrF",
        "colab_type": "code",
        "colab": {}
      },
      "source": [
        "# Hyber Parameters\n",
        "BATCH_SIZE = 256 # Batch size"
      ],
      "execution_count": null,
      "outputs": []
    },
    {
      "cell_type": "code",
      "metadata": {
        "id": "HPx41fPd6CiW",
        "colab_type": "code",
        "colab": {
          "base_uri": "https://localhost:8080/",
          "height": 52
        },
        "outputId": "dbcc8796-b06a-4d2e-ca7b-9fdd7d9158e8"
      },
      "source": [
        "gan_model_time_created = str(date.today())\n",
        "\n",
        "# Load Testset\n",
        "testset = pd.read_csv(testset_path)\n",
        "print(f\"Amount of KDDTest+: \\t\\t{len(testset)}\")\n",
        "# test_normal\n",
        "test_normal = np.array(testset[testset[\"class\"] == 'Normal'])[:,:-1]\n",
        "# Create batch of normal traffic\n",
        "test_batch_normal = create_batch2(test_normal,BATCH_SIZE).astype('float64')\n",
        "print(f\"Amount of Normal:\\t\\t{len(test_normal)} ({len(test_batch_normal)} batchs - {BATCH_SIZE} records/batch)\")"
      ],
      "execution_count": null,
      "outputs": [
        {
          "output_type": "stream",
          "text": [
            "Amount of KDDTest+: \t\t20123\n",
            "Amount of Normal:\t\t9711 (37 batchs - 256 records/batch)\n"
          ],
          "name": "stdout"
        }
      ]
    },
    {
      "cell_type": "code",
      "metadata": {
        "id": "ZhPpd8MCx10u",
        "colab_type": "code",
        "colab": {
          "base_uri": "https://localhost:8080/",
          "height": 799
        },
        "outputId": "d83b20c3-56d4-482d-ab12-b27106e647a5"
      },
      "source": [
        "# Adversarial Traffic Evaluating\n",
        "print(f\"{40*'='} ADVERSARIAL TRAFFIC EVALUATING {40*'='}\")\n",
        "print(f\"{80*'='}\\n IDS Model: {ids_dl_model_name}\")\n",
        "\n",
        "for adversarial_attack_type in ADVERSARIAL_ATTACK_TYPES:\n",
        "    print(f\"{80*'*'}\\n Adversarial Attack Type : {adversarial_attack_type}\")\n",
        "    for attack_category in ATTACK_CATEGORIES:\n",
        "        print(f\"{80*'-'}\\n - Attack Category: {attack_category}\")\n",
        "        \n",
        "        # Load PyTorch IDS Model\n",
        "        ids_model = load_keras_ids_model(ids_dl_model_name, attack_category, ids_created_date)\n",
        "        # Init GAN-G model\n",
        "        G_OUTPUT_DIM = len(POS_NONFUNCTIONAL_FEATURES[attack_category])     # Generator output is number of nonfunctional feature\n",
        "        print(f\"    nf              : {G_OUTPUT_DIM} (num. of nonfunctional features)\")\n",
        "        if adversarial_attack_type == 4 or adversarial_attack_type == 3:\n",
        "            NOISE_DIM = G_OUTPUT_DIM                                        # Adversarial Attack Type 3,4: Noise dim = nonfunctional feature\n",
        "        G_INPUT_DIM = NOISE_DIM                                             # G_INPUT_DIM = NOISE_DIM\n",
        "        print(f\"    GAN-G NOISE DIM : {NOISE_DIM}\")\n",
        "        print(f\"    GAN-G INPUT DIM : {G_INPUT_DIM}\")\n",
        "        print(f\"    GAN-G OUTPUT DIM: {G_OUTPUT_DIM}\")\n",
        "        generator = init_generator(G_INPUT_DIM,G_OUTPUT_DIM, adversarial_attack_type)\n",
        "        # Load Attack Dataset\n",
        "        test_raw_attack = preprocess_malicious_data(testset, attack_category)\n",
        "        # Create batch of attack traffic\n",
        "        batch_attack = create_batch2(test_raw_attack, BATCH_SIZE)\n",
        "        n_batch_attack = len(batch_attack)\n",
        "        print(f\"{4*' '}Amout of {attack_category}:\\t{len(test_raw_attack)} ({n_batch_attack} batchs - {BATCH_SIZE} records/batch)\")\n",
        "        \n",
        "        # Calc DR through each epoch\n",
        "        gan_g_folder_path = str(f\"{GAN_Model_Path}Deep_Learning/{ids_dl_model_name}/{attack_category}/{adversarial_attack_type}/\")\n",
        "        print(f\"{4*' '}GAN Models Folder: {gan_g_folder_path}\")\n",
        "        for epoch in range(0, MAX_EPOCH + 1, 10):\n",
        "            # Load GAN-G Model\n",
        "            model_g_save_name = f\"time_created_{gan_model_time_created}_GAN_G_{1 if epoch == 0 else epoch}epoch.pth\"\n",
        "            gan_g_model_path = gan_g_folder_path + model_g_save_name\n",
        "            param = th.load(gan_g_model_path,map_location=lambda x,y:x)\n",
        "            generator.load_state_dict(param)\n",
        "\n",
        "            generator.eval()\n",
        "\n",
        "            o_dr,a_dr =[],[]\n",
        "            with th.no_grad():\n",
        "                for idx, bn in enumerate(test_batch_normal):\n",
        "                    normal_b = th.Tensor(bn)\n",
        "                    attack_b = th.Tensor(batch_attack[idx % n_batch_attack])\n",
        "                    # Generate Adversarial Traffic\n",
        "                    adversarial_attack_b = gen_adversarial_attack(generator, NOISE_DIM, attack_b, attack_category, adversarial_attack_type)\n",
        "\n",
        "                    # Calc DR\n",
        "                    origin_dr, adversarial_dr = cal_dr(ids_model, normal_b, attack_b, adversarial_attack_b)\n",
        "                    o_dr.append(origin_dr)\n",
        "                    a_dr.append(adversarial_dr)\n",
        "            eir = 1 - (np.mean(a_dr)/np.mean(o_dr))\n",
        "            print(f\"\\t {epoch:3d} epochs:\\tOrigin DR : {np.mean(o_dr)*100:.2f}% \\t Adversarial DR : {np.mean(a_dr)*100:.2f}% \\t EIR : {eir*100:.2f}%\")"
      ],
      "execution_count": null,
      "outputs": [
        {
          "output_type": "stream",
          "text": [
            "======================================== ADVERSARIAL TRAFFIC EVALUATING ========================================\n",
            "================================================================================\n",
            " IDS Model: RNN_1\n",
            "********************************************************************************\n",
            " Adversarial Attack Type : 3\n",
            "--------------------------------------------------------------------------------\n",
            " - Attack Category: DOS\n",
            "    Loaded IDS Model From: /content/drive/My Drive/Study/KLTN/Saved Model/IDSModel/DOS/Deep_Learning/created_date_2020-07-22_RNN_1.h5\n",
            "    nf              : 24 (num. of nonfunctional features)\n",
            "    GAN-G NOISE DIM : 24\n",
            "    GAN-G INPUT DIM : 24\n",
            "    GAN-G OUTPUT DIM: 24\n",
            "    Amout of DOS:\t7460 (29 batchs - 256 records/batch)\n",
            "    GAN Models Folder: /content/drive/My Drive/Study/KLTN/Saved Model/GANModel/Deep_Learning/RNN_1/DOS/3/\n",
            "\t   0 epochs:\tOrigin DR : 72.55% \t Adversarial DR : 71.30% \t EIR : 1.72%\n",
            "\t  10 epochs:\tOrigin DR : 72.55% \t Adversarial DR : 75.13% \t EIR : -3.55%\n",
            "\t  20 epochs:\tOrigin DR : 72.55% \t Adversarial DR : 75.02% \t EIR : -3.41%\n",
            "\t  30 epochs:\tOrigin DR : 72.55% \t Adversarial DR : 62.56% \t EIR : 13.77%\n",
            "\t  40 epochs:\tOrigin DR : 72.55% \t Adversarial DR : 59.71% \t EIR : 17.69%\n",
            "\t  50 epochs:\tOrigin DR : 72.55% \t Adversarial DR : 55.86% \t EIR : 23.01%\n",
            "\t  60 epochs:\tOrigin DR : 72.55% \t Adversarial DR : 55.69% \t EIR : 23.24%\n",
            "\t  70 epochs:\tOrigin DR : 72.55% \t Adversarial DR : 61.47% \t EIR : 15.28%\n",
            "\t  80 epochs:\tOrigin DR : 72.55% \t Adversarial DR : 56.41% \t EIR : 22.25%\n",
            "\t  90 epochs:\tOrigin DR : 72.55% \t Adversarial DR : 58.06% \t EIR : 19.98%\n",
            "\t 100 epochs:\tOrigin DR : 72.55% \t Adversarial DR : 58.61% \t EIR : 19.21%\n",
            "--------------------------------------------------------------------------------\n",
            " - Attack Category: U2R_AND_R2L\n",
            "    Loaded IDS Model From: /content/drive/My Drive/Study/KLTN/Saved Model/IDSModel/U2R_AND_R2L/Deep_Learning/created_date_2020-07-22_RNN_1.h5\n",
            "    nf              : 18 (num. of nonfunctional features)\n",
            "    GAN-G NOISE DIM : 18\n",
            "    GAN-G INPUT DIM : 18\n",
            "    GAN-G OUTPUT DIM: 18\n",
            "    Amout of U2R_AND_R2L:\t2952 (11 batchs - 256 records/batch)\n",
            "    GAN Models Folder: /content/drive/My Drive/Study/KLTN/Saved Model/GANModel/Deep_Learning/RNN_1/U2R_AND_R2L/3/\n",
            "\t   0 epochs:\tOrigin DR : 0.15% \t Adversarial DR : 0.00% \t EIR : 100.00%\n",
            "\t  10 epochs:\tOrigin DR : 0.15% \t Adversarial DR : 25.62% \t EIR : -17235.71%\n",
            "\t  20 epochs:\tOrigin DR : 0.15% \t Adversarial DR : 25.62% \t EIR : -17235.71%\n",
            "\t  30 epochs:\tOrigin DR : 0.15% \t Adversarial DR : 0.14% \t EIR : 7.14%\n",
            "\t  40 epochs:\tOrigin DR : 0.15% \t Adversarial DR : 0.00% \t EIR : 100.00%\n",
            "\t  50 epochs:\tOrigin DR : 0.15% \t Adversarial DR : 0.00% \t EIR : 100.00%\n",
            "\t  60 epochs:\tOrigin DR : 0.15% \t Adversarial DR : 0.00% \t EIR : 100.00%\n",
            "\t  70 epochs:\tOrigin DR : 0.15% \t Adversarial DR : 0.00% \t EIR : 100.00%\n",
            "\t  80 epochs:\tOrigin DR : 0.15% \t Adversarial DR : 0.00% \t EIR : 100.00%\n",
            "\t  90 epochs:\tOrigin DR : 0.15% \t Adversarial DR : 0.00% \t EIR : 100.00%\n",
            "\t 100 epochs:\tOrigin DR : 0.15% \t Adversarial DR : 0.00% \t EIR : 100.00%\n"
          ],
          "name": "stdout"
        }
      ]
    },
    {
      "cell_type": "markdown",
      "metadata": {
        "id": "mwWugTozppL5",
        "colab_type": "text"
      },
      "source": [
        "The Saved Model stored in [Google Drive - GAN Model](https://drive.google.com/drive/u/1/folders/1VNFW-k5SbR0eGsJ_np3U-W3Rcz_n4I8N)\n",
        "\n",
        "The Result of Code stored in [Github - Thesis](https://github.com/thetinybug/thesis-IDSGAN)"
      ]
    }
  ]
}