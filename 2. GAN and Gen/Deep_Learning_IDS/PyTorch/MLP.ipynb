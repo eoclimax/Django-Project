{
  "nbformat": 4,
  "nbformat_minor": 0,
  "metadata": {
    "colab": {
      "name": "2. GAN and Gen/Deep_Learning_IDS/PyTorch/MLP.ipynb",
      "provenance": [],
      "collapsed_sections": [],
      "toc_visible": true,
      "include_colab_link": true
    },
    "kernelspec": {
      "name": "python3",
      "display_name": "Python 3"
    }
  },
  "cells": [
    {
      "cell_type": "markdown",
      "metadata": {
        "id": "view-in-github",
        "colab_type": "text"
      },
      "source": [
        "<a href=\"https://colab.research.google.com/github/thetinybug/Django-Project/blob/master/2.%20GAN%20and%20Gen/Deep_Learning_IDS/PyTorch/MLP.ipynb\" target=\"_parent\"><img src=\"https://colab.research.google.com/assets/colab-badge.svg\" alt=\"Open In Colab\"/></a>"
      ]
    },
    {
      "cell_type": "code",
      "metadata": {
        "id": "fJtMb15yfVmA",
        "colab_type": "code",
        "colab": {
          "base_uri": "https://localhost:8080/",
          "height": 34
        },
        "outputId": "22529c24-28bf-41b3-ecde-6e7448ed0590"
      },
      "source": [
        "from google.colab import drive\n",
        "drive.mount('/content/drive')"
      ],
      "execution_count": null,
      "outputs": [
        {
          "output_type": "stream",
          "text": [
            "Drive already mounted at /content/drive; to attempt to forcibly remount, call drive.mount(\"/content/drive\", force_remount=True).\n"
          ],
          "name": "stdout"
        }
      ]
    },
    {
      "cell_type": "markdown",
      "metadata": {
        "id": "m27n3nFSTSv2",
        "colab_type": "text"
      },
      "source": [
        "#**0. Thư viện**"
      ]
    },
    {
      "cell_type": "markdown",
      "metadata": {
        "id": "08Q42YHGbvLT",
        "colab_type": "text"
      },
      "source": [
        "##Cài đặt "
      ]
    },
    {
      "cell_type": "code",
      "metadata": {
        "id": "u7ZZvZaAbM1J",
        "colab_type": "code",
        "colab": {
          "base_uri": "https://localhost:8080/",
          "height": 138
        },
        "outputId": "acc3fe0c-731c-4758-861f-a941f05cfada"
      },
      "source": [
        "!pip3 install adabound\n",
        "# !pip3 numpy torc sklearn matplotlib pandas"
      ],
      "execution_count": null,
      "outputs": [
        {
          "output_type": "stream",
          "text": [
            "Collecting adabound\n",
            "  Downloading https://files.pythonhosted.org/packages/cd/44/0c2c414effb3d9750d780b230dbb67ea48ddc5d9a6d7a9b7e6fcc6bdcff9/adabound-0.0.5-py3-none-any.whl\n",
            "Requirement already satisfied: torch>=0.4.0 in /usr/local/lib/python3.6/dist-packages (from adabound) (1.5.1+cu101)\n",
            "Requirement already satisfied: numpy in /usr/local/lib/python3.6/dist-packages (from torch>=0.4.0->adabound) (1.18.5)\n",
            "Requirement already satisfied: future in /usr/local/lib/python3.6/dist-packages (from torch>=0.4.0->adabound) (0.16.0)\n",
            "Installing collected packages: adabound\n",
            "Successfully installed adabound-0.0.5\n"
          ],
          "name": "stdout"
        }
      ]
    },
    {
      "cell_type": "code",
      "metadata": {
        "id": "zSLjr5W9rI-8",
        "colab_type": "code",
        "colab": {
          "base_uri": "https://localhost:8080/",
          "height": 34
        },
        "outputId": "171ae2d4-ac04-4036-bc8e-0b98a4cef31f"
      },
      "source": [
        "# Lib for print table\n",
        "!pip3 install prettytable"
      ],
      "execution_count": null,
      "outputs": [
        {
          "output_type": "stream",
          "text": [
            "Requirement already satisfied: prettytable in /usr/local/lib/python3.6/dist-packages (0.7.2)\n"
          ],
          "name": "stdout"
        }
      ]
    },
    {
      "cell_type": "markdown",
      "metadata": {
        "id": "mt5O3Y-fb5Du",
        "colab_type": "text"
      },
      "source": [
        "##Import"
      ]
    },
    {
      "cell_type": "code",
      "metadata": {
        "id": "ONDkO5xKdjqa",
        "colab_type": "code",
        "colab": {}
      },
      "source": [
        "# Add Module Path - To Import Custom Modules\n",
        "# Modules Path\n",
        "ModulePath = \"/content/drive/My Drive/Study/KLTN/Google Colab/0.0 Python Modules/\"\n",
        "\n",
        "import sys\n",
        "sys.path.append(ModulePath)"
      ],
      "execution_count": null,
      "outputs": []
    },
    {
      "cell_type": "code",
      "metadata": {
        "id": "YIQ708lZS2lF",
        "colab_type": "code",
        "colab": {
          "base_uri": "https://localhost:8080/",
          "height": 34
        },
        "outputId": "a91cb777-d7be-49c5-c2b7-7eb30b7ccca5"
      },
      "source": [
        "import numpy as np\n",
        "import pandas as pd\n",
        "import torch as th\n",
        "from torch.autograd import Variable as V\n",
        "import torch.autograd as autograd\n",
        "import torch.nn as nn\n",
        "import torch.nn.functional as F\n",
        "import torch.optim as optim\n",
        "from sklearn.utils import shuffle\n",
        "from sklearn.metrics import confusion_matrix\n",
        "\n",
        "# Libs for Keras\n",
        "from keras.models import load_model\n",
        "\n",
        "\n",
        "# Own Custom Module to import models and constants\n",
        "from models import *\n",
        "from constants import *\n",
        "\n",
        "import matplotlib.pyplot as plt\n",
        "import adabound \n",
        "import math\n",
        "from prettytable import PrettyTable\n",
        "import os\n",
        "from datetime import date\n",
        "import timeit"
      ],
      "execution_count": null,
      "outputs": [
        {
          "output_type": "stream",
          "text": [
            "Using TensorFlow backend.\n"
          ],
          "name": "stderr"
        }
      ]
    },
    {
      "cell_type": "markdown",
      "metadata": {
        "id": "DZkqASdBS-QA",
        "colab_type": "text"
      },
      "source": [
        "#**1. Chuẩn bị**"
      ]
    },
    {
      "cell_type": "markdown",
      "metadata": {
        "id": "3rFWSSBQF99E",
        "colab_type": "text"
      },
      "source": [
        "##Paths"
      ]
    },
    {
      "cell_type": "code",
      "metadata": {
        "id": "uW-RHzMwdsG5",
        "colab_type": "code",
        "colab": {}
      },
      "source": [
        "# Base Path\n",
        "base_path = \"/content/drive/My Drive/Study/KLTN/\"\n",
        "Dataset_Path = base_path + \"Dataset/NSL-KDD Processed/Final - For Using/\"\n",
        "SavedModelPath = base_path + \"Saved Model/\"\n",
        "\n",
        "# Dataset Path\n",
        "Trainsets_Path = Dataset_Path + 'Trainset/'\n",
        "g_trainset_path = Trainsets_Path + \"GAN-G.csv\"\n",
        "d_trainset_path = Trainsets_Path + \"GAN-D.csv\"\n",
        "testset_path = Dataset_Path + \"Testset/\" + \"KDDTest+.csv\"\n",
        "\n",
        "\n",
        "# GAN Saved Models Paths\n",
        "GAN_Model_Path = SavedModelPath + 'GANModel/'\n",
        "\n",
        "# IDS Pytorch Saved Models Paths\n",
        "IDS_Model_Path = SavedModelPath + 'IDSModel/'"
      ],
      "execution_count": null,
      "outputs": []
    },
    {
      "cell_type": "markdown",
      "metadata": {
        "id": "XwTYqTdfF-wS",
        "colab_type": "text"
      },
      "source": [
        "##Global Variables"
      ]
    },
    {
      "cell_type": "code",
      "metadata": {
        "id": "8rBB0NLwGAce",
        "colab_type": "code",
        "colab": {}
      },
      "source": [
        "# Global Variables\n",
        "N_FEATURES = 41\n",
        "# IDS\n",
        "IDS_INPUT_DIM = N_FEATURES\n",
        "IDS_OUTPUT_DIM = 2\n",
        "# ATTACK_CATEGORIES = ['DOS', 'U2R_AND_R2L']\n",
        "\n",
        "POS_FUNCTIONAL_FEATURES = {'DOS': DOS_FEATURES, 'U2R_AND_R2L': U2R_AND_R2L_FEATURES}\n",
        "POS_NONFUNCTIONAL_FEATURES = {}\n",
        "for attack_category, pos_functional_feature in POS_FUNCTIONAL_FEATURES.items():\n",
        "    pos_nonfunctional_feature = []\n",
        "    for i in range(N_FEATURES):\n",
        "        if i not in pos_functional_feature:\n",
        "            pos_nonfunctional_feature.append(i)\n",
        "    POS_NONFUNCTIONAL_FEATURES[attack_category] = pos_nonfunctional_feature\n",
        "\n",
        "IDS_MODELS = {'MLP': MLP, 'CNN': None, 'RNN': None}"
      ],
      "execution_count": null,
      "outputs": []
    },
    {
      "cell_type": "code",
      "metadata": {
        "id": "hlE7gDk07ybi",
        "colab_type": "code",
        "colab": {
          "base_uri": "https://localhost:8080/",
          "height": 106
        },
        "outputId": "965809d5-e270-4871-dd4a-ff22ad67642d"
      },
      "source": [
        "print('Position of Functional Features\\n  ', POS_FUNCTIONAL_FEATURES)\n",
        "print('Position of Functional Features:\\n  ', POS_NONFUNCTIONAL_FEATURES)"
      ],
      "execution_count": null,
      "outputs": [
        {
          "output_type": "stream",
          "text": [
            "Position of Functional Features\n",
            "   {'DOS': [0, 1, 2, 3, 4, 5, 6, 7, 8, 23, 24, 25, 26, 27, 28, 29, 30], 'U2R_AND_R2L': [0, 1, 2, 3, 4, 5, 6, 7, 8, 9, 10, 11, 12, 13, 14, 15, 16, 17, 18, 19, 20, 21, 22]}\n",
            "Position of Functional Features:\n",
            "   {'DOS': [9, 10, 11, 12, 13, 14, 15, 16, 17, 18, 19, 20, 21, 22, 31, 32, 33, 34, 35, 36, 37, 38, 39, 40], 'U2R_AND_R2L': [23, 24, 25, 26, 27, 28, 29, 30, 31, 32, 33, 34, 35, 36, 37, 38, 39, 40]}\n"
          ],
          "name": "stdout"
        }
      ]
    },
    {
      "cell_type": "markdown",
      "metadata": {
        "id": "otbVJEAzcTv4",
        "colab_type": "text"
      },
      "source": [
        "# **2. Định nghĩa Model**"
      ]
    },
    {
      "cell_type": "markdown",
      "metadata": {
        "id": "FVn0MzP1HW_0",
        "colab_type": "text"
      },
      "source": [
        "##Models"
      ]
    },
    {
      "cell_type": "code",
      "metadata": {
        "id": "sqogk9lIw_Uk",
        "colab_type": "code",
        "colab": {}
      },
      "source": [
        "# Load from model.py module"
      ],
      "execution_count": null,
      "outputs": []
    },
    {
      "cell_type": "markdown",
      "metadata": {
        "id": "MdPRWEuxBAcd",
        "colab_type": "text"
      },
      "source": [
        "##Functions"
      ]
    },
    {
      "cell_type": "markdown",
      "metadata": {
        "id": "TcJBwwXf924F",
        "colab_type": "text"
      },
      "source": [
        "### Processing Data Functions"
      ]
    },
    {
      "cell_type": "code",
      "metadata": {
        "id": "r81eRs5hx8Lf",
        "colab_type": "code",
        "colab": {}
      },
      "source": [
        "# Processing Data Functions\n",
        "# create_batch2 - Hàm tạo Batch\n",
        "def create_batch2(x,batch_size):\n",
        "    a = list(range(len(x)))\n",
        "    np.random.shuffle(a)\n",
        "    x = x[a]\n",
        "    batch_x = [x[batch_size * i : (i+1)*batch_size,:] for i in range(len(x)//batch_size)]\n",
        "    return np.array(batch_x)\n",
        "    \n",
        "# preprocess_malicious_data - Hàm tiền xử lý dữ liệu tấn công\n",
        "def preprocess_malicious_data(dataset, attack_category):\n",
        "    if attack_category != 'DOS' and attack_category != 'U2R_AND_R2L':\n",
        "      raise ValueError(\"Preprocess Data Fail: Invalid Attack Category\")\n",
        "    attack_data = dataset[dataset['class'] == attack_category]\n",
        "    del attack_data[\"class\"]\n",
        "    return np.array(attack_data)"
      ],
      "execution_count": null,
      "outputs": []
    },
    {
      "cell_type": "markdown",
      "metadata": {
        "id": "fM7pjZa999Ht",
        "colab_type": "text"
      },
      "source": [
        "### IDS Functions"
      ]
    },
    {
      "cell_type": "code",
      "metadata": {
        "id": "Ukp0y2LiyGmy",
        "colab_type": "code",
        "colab": {}
      },
      "source": [
        "# IDS Functions\n",
        "# get_pytoch_ids_path - Get path for PyTorch IDS Models\n",
        "def get_pytorch_ids_path(model_name, attack_category, created_date):\n",
        "    if attack_category != 'DOS' and attack_category != 'U2R_AND_R2L':\n",
        "        raise ValueError(\"Preprocess Data Fail: Invalid Attack Category\")\n",
        "    ids_path = str(f\"{IDS_Model_Path}{attack_category}/Deep_Learning/created_date_{created_date}_{model_name}.pth\")\n",
        "    if not os.path.exists(ids_path):\n",
        "        raise ValueError(f\"Invalid path: {ids_path}\\nNot exist file!\")\n",
        "    return ids_path\n",
        "\n",
        "# load_pytorch_ids_model - Load PyTorch IDS Models\n",
        "def load_pytorch_ids_model(model_name, input_dim, output_dim, attack_category, created_date):\n",
        "    ids_model = IDS_MODELS[model_name](input_dim, output_dim)\n",
        "    ids_model_path = get_pytorch_ids_path(model_name, attack_category, created_date)\n",
        "    param = th.load(ids_model_path)\n",
        "    ids_model.load_state_dict(param)\n",
        "    ids_model.eval()\n",
        "    print(f\"{4*' '}Loaded IDS Model From: {ids_model_path}\")\n",
        "    return ids_model"
      ],
      "execution_count": null,
      "outputs": []
    },
    {
      "cell_type": "markdown",
      "metadata": {
        "id": "J9Q5DryD-Dl0",
        "colab_type": "text"
      },
      "source": [
        "### GAN Functions"
      ]
    },
    {
      "cell_type": "code",
      "metadata": {
        "id": "tV5MHCxUA-8G",
        "colab_type": "code",
        "colab": {}
      },
      "source": [
        "# GAN Functions\n",
        "# init_generator - Khoi tao model GAN-G\n",
        "def init_generator(input_dim, output_dim, adversarial_attack_type = 1):\n",
        "    if adversarial_attack_type == 1:\n",
        "        generator = Generator_A1(input_dim, output_dim)\n",
        "    elif adversarial_attack_type == 2:\n",
        "        generator = Generator_A2(input_dim, output_dim)\n",
        "    elif adversarial_attack_type == 3:\n",
        "        '''\n",
        "            adversarial_attack_type 3: G-input is nonfunctional feature, G-out is adversarial nonfuncitonal feature.\n",
        "            --> input_dim = output_dim = len(nonfunctional_features)\n",
        "        ''' \n",
        "        generator = Generator_A2(output_dim, output_dim)\n",
        "    else:\n",
        "        raise ValueError(\"Init GAN - Generator: Invalid Adversarial Attack Type\")\n",
        "    return generator\n",
        "\n",
        "# gen_adversarial_attack - Tao luu luong tan cong doi khang\n",
        "def gen_adversarial_attack(generator, noise_dim, raw_attack, attack_category, adversarial_attack_type = 1):\n",
        "    if adversarial_attack_type == 1:\n",
        "        adversarial_attack = generator(noise_dim, raw_attack, attack_category, POS_NONFUNCTIONAL_FEATURES)\n",
        "    elif adversarial_attack_type == 2:\n",
        "        batch_size = len(raw_attack)\n",
        "        noise = V(th.Tensor(np.random.uniform(0,1,(batch_size, noise_dim))))\n",
        "        generator_out = generator(noise)\n",
        "        adversarial_attack = gen_adversarial_attack_a2(generator_out, raw_attack, attack_category, POS_NONFUNCTIONAL_FEATURES)\n",
        "    elif  adversarial_attack_type == 3:\n",
        "        pos_nonfunctional_feature = POS_NONFUNCTIONAL_FEATURES[attack_category]\n",
        "        # get nonfunctional features val\n",
        "        nonfunctional_feature = raw_attack[:, pos_nonfunctional_feature]\n",
        "        generator_out = generator(nonfunctional_feature)\n",
        "        adversarial_attack = gen_adversarial_attack_a2(generator_out, raw_attack, attack_category, POS_NONFUNCTIONAL_FEATURES)\n",
        "    else:\n",
        "        raise ValueError(\"Init GAN - Generator: Invalid Adversarial Attack Type\")\n",
        "    return adversarial_attack\n",
        "\n",
        "# train_generator - Train Generator\n",
        "def train_generator(generator, discriminator, optimizer_G, noise_dim, attack_traffic, attack_category, adversarial_attack_type):\n",
        "    for p in discriminator.parameters():  \n",
        "        p.requires_grad = False\n",
        "    optimizer_G.zero_grad()        \n",
        "    # GAN-G Generate Adversarial Attack\n",
        "    adversarial_attack = gen_adversarial_attack(generator, noise_dim, attack_traffic, attack_category, adversarial_attack_type)\n",
        "    # GAN-D predict, GAN-G update parameter\n",
        "    D_pred = discriminator(adversarial_attack)\n",
        "    g_loss = -th.mean(D_pred)\n",
        "    g_loss.backward()\n",
        "    optimizer_G.step()\n",
        "    return g_loss\n",
        "\n",
        "# train_discriminator - Train Discriminator\n",
        "def train_discriminator(discriminator, ids_model, generator, critic_iters, clamp, optimizer_D, normal_b, noise_dim, attack_traffic, attack_category, adversarial_attack_type):\n",
        "    run_d_loss = 0\n",
        "    cnt = 0\n",
        "    for p in discriminator.parameters(): \n",
        "        p.requires_grad = True\n",
        "    for c in range(critic_iters):\n",
        "        optimizer_D.zero_grad()\n",
        "        for p in discriminator.parameters():\n",
        "            p.data.clamp_(-clamp, clamp)\n",
        "        # GAN-G Generate Adversarial Attack\n",
        "        adversarial_attack = gen_adversarial_attack(generator, noise_dim, attack_traffic, attack_category, adversarial_attack_type)\n",
        "        # Make data to feed IDS\n",
        "        ids_input = th.cat((adversarial_attack,normal_b))\n",
        "        l = list(range(len(ids_input)))\n",
        "        np.random.shuffle(l)\n",
        "        ids_input = V(th.Tensor(ids_input[l]))\n",
        "        # IDS Predict\n",
        "        ids_pred = V(th.Tensor(ids_model(ids_input)))\n",
        "        ids_pred_label = th.argmax(nn.Sigmoid()(ids_pred),dim = 1).detach().numpy()\n",
        "        pred_normal = ids_input.numpy()[ids_pred_label==0]\n",
        "        pred_attack = ids_input.numpy()[ids_pred_label==1]\n",
        "        if len(pred_attack) == 0:\n",
        "            cnt += 1\n",
        "            break\n",
        "        # Make GAN-D input\n",
        "        D_noraml = discriminator(V(th.Tensor(pred_normal)))\n",
        "        D_attack= discriminator(V(th.Tensor(pred_attack)))\n",
        "        # Loss and Update Parameter\n",
        "        loss_normal = th.mean(D_noraml)\n",
        "        loss_attack = th.mean(D_attack)\n",
        "        if GAN_variant == 'WGAN':\n",
        "            d_loss = loss_attack - loss_normal #+ LAMBDA * gradient_penalty\n",
        "        elif GAN_variant == 'WGAN-GP':\n",
        "            gradient_penalty = compute_gradient_penalty(discriminator, normal_b.data, adversarial_attack.data)\n",
        "            d_loss = loss_attack - loss_normal + LAMBDA * gradient_penalty\n",
        "        d_loss.backward()\n",
        "        optimizer_D.step()\n",
        "        run_d_loss += d_loss.item()\n",
        "    return run_d_loss, cnt\n",
        "\n",
        "# compute_gradient_penalty - Compute Gradient Penalty\n",
        "def compute_gradient_penalty(D, normal_t, attack_t):\n",
        "    alpha = th.Tensor(np.random.random((normal_t.shape[0], 1)))\n",
        "    between_n_a = (alpha * normal_t + ((1 - alpha) * attack_t)).requires_grad_(True)\n",
        "    d_between_n_a = D(between_n_a)\n",
        "    adv = V(th.Tensor(normal_t.shape[0], 1).fill_(1.0), requires_grad=False)\n",
        "\n",
        "    gradients = autograd.grad(\n",
        "        outputs=d_between_n_a,\n",
        "        inputs=between_n_a,\n",
        "        grad_outputs=adv,\n",
        "        create_graph=True,\n",
        "        retain_graph=True,\n",
        "        only_inputs=True,\n",
        "    )[0]\n",
        "    gradients = gradients.view(gradients.size(0), -1)\n",
        "    gradient_penalty = ((gradients.norm(2, dim=1) - 1) ** 2).mean()\n",
        "    return gradient_penalty"
      ],
      "execution_count": null,
      "outputs": []
    },
    {
      "cell_type": "markdown",
      "metadata": {
        "id": "jRhNLI_jSKIg",
        "colab_type": "text"
      },
      "source": [
        "### Generate Adversarial Attack Functions"
      ]
    },
    {
      "cell_type": "code",
      "metadata": {
        "id": "RyrR7KLNSPtu",
        "colab_type": "code",
        "colab": {}
      },
      "source": [
        "# cal_dr - Tinh DR\n",
        "def cal_dr(ids_model, normal, raw_attack, adversarial_attack):\n",
        "    # Make data to feed IDS contain: Attack & Normal\n",
        "    o_ids_input = th.cat((raw_attack, normal))\n",
        "    a_ids_input = th.cat((adversarial_attack,normal))\n",
        "    # Shuffle Input\n",
        "    l = list(range(len(a_ids_input)))\n",
        "    np.random.shuffle(l)\n",
        "    o_ids_input = o_ids_input[l]\n",
        "    a_ids_input = a_ids_input[l]\n",
        "    # IDS Predict Label\n",
        "    o_ids_pred = th.Tensor(ids_model(o_ids_input))\n",
        "    o_pred_label = th.argmax(nn.Sigmoid()(o_ids_pred),dim = 1).detach().numpy()\n",
        "    a_ids_pred = th.Tensor(ids_model(a_ids_input))\n",
        "    a_pred_label = th.argmax(nn.Sigmoid()(a_ids_pred),dim = 1).detach().numpy()\n",
        "    # True Label\n",
        "    ids_true_label = np.r_[np.ones(BATCH_SIZE),np.zeros(BATCH_SIZE)][l]\n",
        "    # Calc DR\n",
        "    tn1, fn1, fp1, tp1 = confusion_matrix(ids_true_label,o_pred_label).ravel()\n",
        "    tn2, fn2, fp2, tp2 = confusion_matrix(ids_true_label,a_pred_label).ravel()\n",
        "    origin_dr = tp1/(tp1 + fp1)\n",
        "    adversarial_dr = tp2/(tp2 + fp2)\n",
        "    return origin_dr, adversarial_dr"
      ],
      "execution_count": null,
      "outputs": []
    },
    {
      "cell_type": "markdown",
      "metadata": {
        "id": "nDp5Uy_HaShp",
        "colab_type": "text"
      },
      "source": [
        "# **3. Run Model**"
      ]
    },
    {
      "cell_type": "code",
      "metadata": {
        "id": "7hTHJcBcRKjg",
        "colab_type": "code",
        "cellView": "both",
        "colab": {
          "base_uri": "https://localhost:8080/",
          "height": 52
        },
        "outputId": "58edb37c-f328-41eb-a601-da762472c809"
      },
      "source": [
        "ids_dl_model_name = \"MLP\" #@param [\"MLP\", \"CNN\", \"RNN\"]\n",
        "ids_created_date = '2020-07-08' #@param ['2020-07-08']\n",
        "GAN_variant = 'WGAN' #@param ['WGAN', 'WGANGP']\n",
        "MAX_EPOCH = 100 #@param [100, 10, 2] {type:\"raw\"}\n",
        "ATTACK_CATEGORIES = 'ALL' #@param ['ALL', 'DOS', 'U2R_AND_R2L']\n",
        "if ATTACK_CATEGORIES == 'ALL':\n",
        "    ATTACK_CATEGORIES = ['DOS', 'U2R_AND_R2L']\n",
        "else:\n",
        "    ATTACK_CATEGORIES = [ATTACK_CATEGORIES]\n",
        "print(f\"ATTACK_CATEGORIES: \\t\\t{ATTACK_CATEGORIES}\")\n",
        "\n",
        "ADVERSARIAL_ATTACK_TYPES = 3 #@param [0, 1, 2, 3] {type:\"raw\"}\n",
        "if ADVERSARIAL_ATTACK_TYPES == 0:\n",
        "    ADVERSARIAL_ATTACK_TYPES = [1, 2, 3]\n",
        "else:\n",
        "    ADVERSARIAL_ATTACK_TYPES = [ADVERSARIAL_ATTACK_TYPES]\n",
        "print(f\"ADVERSARIAL_ATTACK_TYPES: \\t{ADVERSARIAL_ATTACK_TYPES}\")\n",
        "\n",
        "NOISE_DIM = 9 #@param[9, 41] {type:\"raw\"}"
      ],
      "execution_count": null,
      "outputs": [
        {
          "output_type": "stream",
          "text": [
            "ATTACK_CATEGORIES: \t\t['DOS', 'U2R_AND_R2L']\n",
            "ADVERSARIAL_ATTACK_TYPES: \t[3]\n"
          ],
          "name": "stdout"
        }
      ]
    },
    {
      "cell_type": "markdown",
      "metadata": {
        "id": "s8tEzhBNxvGM",
        "colab_type": "text"
      },
      "source": [
        "##**3.1 Run IDSGAN**"
      ]
    },
    {
      "cell_type": "code",
      "metadata": {
        "id": "j01YlgClq7yq",
        "colab_type": "code",
        "colab": {}
      },
      "source": [
        "# Hyber Parameters\n",
        "BATCH_SIZE = 64\n",
        "learning_rate = 0.0001\n",
        "LAMBDA = 10\n",
        "CLAMP = 0.01\n",
        "CRITIC_ITERS = 5          # For WGAN and WGAN-GP, number of critic iters per gen iter\n",
        "\n",
        "# GAN-D\n",
        "D_INPUT_DIM = N_FEATURES\n",
        "D_OUTPUT_DIM = 1\n",
        "discriminator = Discriminator(D_INPUT_DIM,D_OUTPUT_DIM)\n",
        "optimizer_D = optim.RMSprop(discriminator.parameters(), lr=learning_rate)"
      ],
      "execution_count": null,
      "outputs": []
    },
    {
      "cell_type": "code",
      "metadata": {
        "id": "xG09yA2D9bzg",
        "colab_type": "code",
        "colab": {
          "base_uri": "https://localhost:8080/",
          "height": 51
        },
        "outputId": "80783d41-f933-400c-975e-45c9b4746b91"
      },
      "source": [
        "# Get today to set created time for GAN models\n",
        "today = str(date.today())\n",
        "\n",
        "## Prepare Dataset\n",
        "g_train_data = pd.read_csv(g_trainset_path)\n",
        "d_train_data = pd.read_csv(d_trainset_path)\n",
        "\n",
        "# All normal record in train_data\n",
        "del d_train_data[\"class\"]\n",
        "normal = np.array(d_train_data)\n",
        "\n",
        "print(\"Amout of Generator Trainset:\", g_train_data.shape[0])\n",
        "print(\"Amout of Discriminator Trainset:\", d_train_data.shape[0])"
      ],
      "execution_count": null,
      "outputs": [
        {
          "output_type": "stream",
          "text": [
            "Amout of Generator Trainset: 23488\n",
            "Amout of Discriminator Trainset: 33672\n"
          ],
          "name": "stdout"
        }
      ]
    },
    {
      "cell_type": "code",
      "metadata": {
        "id": "m9C1uFo0vnv7",
        "colab_type": "code",
        "colab": {
          "base_uri": "https://localhost:8080/",
          "height": 1000
        },
        "outputId": "5d756924-039a-457e-9197-718e7a089533"
      },
      "source": [
        "print(f\"{40*'='} TRAINING GAN {40*'='}\")\n",
        "print(f\"{80*'='}\\n IDS Model: {ids_dl_model_name}\")\n",
        "\n",
        "for adversarial_attack_type in ADVERSARIAL_ATTACK_TYPES:\n",
        "    print(f\"{80*'*'}\\n  Adversarial Attack Type : {adversarial_attack_type}\")\n",
        "    for attack_category in ATTACK_CATEGORIES:\n",
        "        print(f\"{80*'-'}\\n    Attack Category: {attack_category}\")\n",
        "        total_time_start = timeit.default_timer()\n",
        "\n",
        "        # Load PyTorch IDS Model\n",
        "        ids_model = load_pytorch_ids_model(ids_dl_model_name, IDS_INPUT_DIM, IDS_OUTPUT_DIM, attack_category, ids_created_date)\n",
        "        # Init GAN-G model\n",
        "        G_INPUT_DIM = NOISE_DIM                                             # Generator input dimension is dimention of noise\n",
        "        G_OUTPUT_DIM = len(POS_NONFUNCTIONAL_FEATURES[attack_category])     # Generator output is number of nonfunctional feature\n",
        "        generator = init_generator(G_INPUT_DIM,G_OUTPUT_DIM, adversarial_attack_type)\n",
        "        optimizer_G = optim.RMSprop(generator.parameters(), lr=learning_rate)\n",
        "        # Load Raw Attack Dataset\n",
        "        raw_attack = preprocess_malicious_data(g_train_data, attack_category)\n",
        "        # Prepare Save Folder\n",
        "        GAN_4IDS_Model_Path = str(f\"{GAN_Model_Path}Deep_Learning/{ids_dl_model_name}/\")\n",
        "        if not os.path.exists(GAN_4IDS_Model_Path):\n",
        "                os.makedirs(GAN_4IDS_Model_Path)\n",
        "        GAN_Save_Path = str(f\"{GAN_4IDS_Model_Path}{attack_category}/{adversarial_attack_type}/\")\n",
        "        if not os.path.exists(GAN_Save_Path):\n",
        "            os.makedirs(GAN_Save_Path)\n",
        "        \n",
        "        # Create batch of attack traffic\n",
        "        batch_attack = create_batch2(raw_attack,BATCH_SIZE)\n",
        "        # Declare Loss, DR List and Train GAN-G, GAN-D\n",
        "        d_losses,g_losses = [],[]\n",
        "        o_dr, a_dr = [],[]\n",
        "        generator.train()\n",
        "        discriminator.train()\n",
        "\n",
        "        # Start Training\n",
        "        print(f\"==>IDSGAN start training\")\n",
        "        print(f\"{4*' '}Folder for saving GAN Models : {GAN_Save_Path}\")\n",
        "        labels = ['Epoch', 'G-Loss', 'D-Loss', 'O-DR(%)', 'A-DR(%)', 'Runtime(s)']\n",
        "        print(\"{: >10} {: >15} {: >15} {: >15} {: >15} {: >15}\".format(*labels))\n",
        "        for epoch in range(MAX_EPOCH):\n",
        "            batch_normal = create_batch2(normal,BATCH_SIZE)\n",
        "            epoch_time_start = timeit.default_timer()\n",
        "            cnt = 0\n",
        "            run_g_loss = 0.\n",
        "            run_d_loss = 0.\n",
        "            epoch_o_drs, epoch_a_drs = [], []\n",
        "\n",
        "            for idx, bn in enumerate(batch_normal):\n",
        "                normal_b = th.Tensor(bn.astype(\"float64\"))\n",
        "                attack_traffic  = V(th.Tensor(batch_attack[idx % len(batch_attack)]))\n",
        "                #  Train Generator\n",
        "                g_loss = train_generator(generator, discriminator, optimizer_G, NOISE_DIM, attack_traffic, attack_category, adversarial_attack_type)\n",
        "                run_g_loss += g_loss.item()\n",
        "\n",
        "                # Train Discriminator\n",
        "                d_loss, current_cnt = train_discriminator(discriminator, ids_model, generator, CRITIC_ITERS, CLAMP, optimizer_D, normal_b, NOISE_DIM, attack_traffic, attack_category, adversarial_attack_type)\n",
        "                run_d_loss += d_loss\n",
        "                cnt += current_cnt\n",
        "                \n",
        "                # CALC Epoch DR\n",
        "                adversarial_attack = gen_adversarial_attack(generator, NOISE_DIM, attack_traffic, attack_category, adversarial_attack_type)\n",
        "                origin_dr, adversarial_dr = cal_dr(ids_model, normal_b, attack_traffic, adversarial_attack)\n",
        "                epoch_o_drs.append(origin_dr)\n",
        "                epoch_a_drs.append(adversarial_dr)\n",
        "\n",
        "            if cnt >= (len(normal)/BATCH_SIZE):\n",
        "                print(\"Not exist predicted attack traffic\")\n",
        "                break\n",
        "            d_losses.append(run_d_loss/CRITIC_ITERS)\n",
        "            g_losses.append(run_g_loss)\n",
        "            epoch_o_dr = np.mean(epoch_o_drs)\n",
        "            epoch_a_dr = np.mean(epoch_a_drs)\n",
        "            o_dr.append(epoch_o_dr)\n",
        "            a_dr.append(epoch_a_dr)\n",
        "            \n",
        "            runtime = timeit.default_timer() - epoch_time_start\n",
        "            print_vals = [(epoch + 1), run_g_loss, (run_d_loss/CRITIC_ITERS), (epoch_o_dr*100), (epoch_a_dr*100), runtime]\n",
        "            print_string = []\n",
        "            for val in print_vals:\n",
        "                if isinstance(val, float):\n",
        "                    print_string.append(str(f\"{val:.2f}\"))\n",
        "                else:\n",
        "                    print_string.append(str(val))\n",
        "            print(\"{: >10} {: >15} {: >15} {: >15} {: >15} {: >15}\".format(*print_string))\n",
        "            # Save Adversarial Dataset each 10 epoch\n",
        "            if (epoch == 0 or (epoch + 1) % 10 == 0):\n",
        "                model_g_save_name = f\"time_created_{today}_GAN_G_{epoch+1}epoch.pth\"\n",
        "                path = GAN_Save_Path + model_g_save_name\n",
        "                th.save(generator.state_dict(), path)\n",
        "                print(f\"{6*' '}-> GAN-G - {attack_category} - A{adversarial_attack_type} Saved: {model_g_save_name}\")\n",
        "        total_runtime = timeit.default_timer() - total_time_start\n",
        "        print(f\"Training Runtime: {total_runtime:.2f}\")\n",
        "        print(\"IDSGAN finish training!\")\n",
        "        \n",
        "        # Show Graph\n",
        "        # Loss-Graph\n",
        "        plt.plot(d_losses,label = \"D_loss\")\n",
        "        plt.plot(g_losses, label = \"G_loss\")\n",
        "        plt.legend()\n",
        "        plt.show()\n",
        "        # DR-Graph\n",
        "        plt.plot(o_dr,label = \"Origin DR\")\n",
        "        plt.plot(a_dr, label = \"Adversarial DR\")\n",
        "        plt.legend()\n",
        "        plt.show()\n",
        "\n",
        "        # Save Model\n",
        "        model_d_save_name = f\"time_created_{today}_GAN_D_{MAX_EPOCH}epoch.pth\"\n",
        "        path = GAN_Save_Path + model_d_save_name\n",
        "        th.save(discriminator.state_dict(), path)\n",
        "        print(f\"{6*' '}-> GAN-D - {attack_category} - A{adversarial_attack_type}Saved: {model_d_save_name}\")"
      ],
      "execution_count": null,
      "outputs": [
        {
          "output_type": "stream",
          "text": [
            "======================================== TRAINING GAN ========================================\n",
            "================================================================================\n",
            " IDS Model: MLP\n",
            "********************************************************************************\n",
            "  Adversarial Attack Type : 3\n",
            "--------------------------------------------------------------------------------\n",
            "    Attack Category: DOS\n",
            "    Loaded IDS Model From: /content/drive/My Drive/Study/KLTN/Saved Model/IDSModel/DOS/Deep_Learning/created_date_2020-07-08_MLP.pth\n",
            "==>IDSGAN start training\n",
            "    Folder for saving GAN Models : /content/drive/My Drive/Study/KLTN/Saved Model/GANModel/Deep_Learning/MLP/DOS/3/\n",
            "     Epoch          G-Loss          D-Loss         O-DR(%)         A-DR(%)      Runtime(s)\n",
            "         1            3.73           -2.58           98.28           28.75           19.43\n",
            "      -> GAN-G Saved: 1epoch_time_created_2020-07-11.pth\n",
            "         2           -4.31           -1.95           98.28           12.58           18.95\n",
            "         3           -7.49           -1.81           98.28            2.54           17.12\n",
            "         4           -8.14           -1.79           98.28            2.46           17.00\n",
            "         5           -8.30           -1.81           98.28            2.50           17.19\n",
            "         6           -8.29           -1.80           98.28            2.46           17.25\n",
            "         7           -8.38           -1.80           98.28            2.49           17.08\n",
            "         8           -8.38           -1.81           98.28            2.46           17.00\n",
            "         9           -8.39           -1.81           98.28            2.45           17.32\n",
            "        10           -8.29           -1.81           98.28            2.45           17.52\n",
            "      -> GAN-G Saved: 10epoch_time_created_2020-07-11.pth\n",
            "        11           -8.34           -1.81           98.28            2.52           17.32\n",
            "        12           -8.26           -1.80           98.28            2.44           16.94\n",
            "        13           -8.39           -1.82           98.28            2.49           17.30\n",
            "        14           -8.49           -1.78           98.28            2.45           17.31\n",
            "        15           -8.20           -1.81           98.28            2.49           17.21\n",
            "        16           -8.44           -1.79           98.28            2.42           17.09\n",
            "        17           -8.44           -1.74           98.28            2.51           17.77\n",
            "        18           -8.23           -1.78           98.28            2.39           22.70\n",
            "        19           -8.16           -1.70           98.28            3.01           17.30\n",
            "        20           -7.57           -1.60           98.28            3.17           17.52\n",
            "      -> GAN-G Saved: 20epoch_time_created_2020-07-11.pth\n",
            "        21           -8.03           -1.63           98.28            3.21           17.62\n",
            "        22           -7.39           -1.56           98.28            3.49           17.76\n",
            "        23           -8.06           -1.65           98.28            3.36           17.27\n",
            "        24           -7.96           -1.56           98.28            3.62           17.68\n",
            "        25           -8.35           -1.78           98.28            2.50           17.26\n",
            "        26           -7.73           -1.64           98.28            3.10           17.58\n",
            "        27           -8.39           -1.81           98.28            2.50           17.12\n",
            "        28           -7.76           -1.63           98.28            3.09           17.12\n",
            "        29           -8.20           -1.67           98.28            2.93           17.05\n",
            "        30           -8.21           -1.70           98.28            2.85           16.96\n",
            "      -> GAN-G Saved: 30epoch_time_created_2020-07-11.pth\n",
            "        31           -7.88           -1.63           98.28            3.06           17.31\n",
            "        32           -8.23           -1.67           98.28            3.06           16.90\n",
            "        33           -8.04           -1.65           98.28            2.80           17.17\n",
            "        34           -8.49           -1.70           98.28            2.64           16.83\n",
            "        35           -7.89           -1.72           98.28            3.26           17.07\n",
            "        36           -7.81           -1.66           98.28            3.04           19.55\n",
            "        37           -7.99           -1.67           98.28            3.03           17.98\n",
            "        38           -8.08           -1.66           98.28            3.85           17.21\n",
            "        39           -8.41           -1.76           98.28            2.42           16.83\n",
            "        40           -8.16           -1.62           98.28            3.20           17.27\n",
            "      -> GAN-G Saved: 40epoch_time_created_2020-07-11.pth\n",
            "        41           -8.49           -1.80           98.28            2.37           17.16\n",
            "        42           -8.09           -1.61           98.28            3.64           17.47\n",
            "        43           -7.98           -1.65           98.28            3.92           17.39\n",
            "        44           -8.34           -1.75           98.28            2.38           17.04\n",
            "        45           -7.95           -1.70           98.28            3.01           17.27\n",
            "        46           -8.32           -1.72           98.28            2.71           17.01\n",
            "        47           -8.21           -1.65           98.28            3.16           16.96\n",
            "        48           -7.97           -1.63           98.28            3.29           16.94\n",
            "        49           -8.19           -1.71           98.28            3.05           16.94\n",
            "        50           -8.19           -1.62           98.28            3.17           16.96\n",
            "      -> GAN-G Saved: 50epoch_time_created_2020-07-11.pth\n",
            "        51           -8.37           -1.73           98.28            2.63           16.93\n",
            "        52           -7.92           -1.65           98.28            3.53           17.08\n",
            "        53           -7.62           -1.66           98.28            3.01           17.01\n",
            "        54           -8.24           -1.70           98.28            2.68           17.38\n",
            "        55           -8.33           -1.68           98.28            3.12           17.78\n",
            "        56           -8.30           -1.77           98.28            2.39           17.16\n",
            "        57           -8.33           -1.72           98.28            2.65           16.76\n",
            "        58           -8.23           -1.69           98.28            2.59           16.67\n",
            "        59           -8.08           -1.69           98.28            2.78           17.07\n",
            "        60           -8.51           -1.77           98.28            2.35           16.71\n",
            "      -> GAN-G Saved: 60epoch_time_created_2020-07-11.pth\n",
            "        61           -8.10           -1.70           98.28            2.76           16.83\n",
            "        62           -8.54           -1.80           98.28            2.36           16.90\n",
            "        63           -8.27           -1.74           98.28            2.41           16.58\n",
            "        64           -8.09           -1.65           98.28            2.83           16.93\n",
            "        65           -8.41           -1.77           98.28            2.47           16.84\n",
            "        66           -8.23           -1.70           98.28            3.25           16.90\n",
            "        67           -8.27           -1.65           98.28            2.76           16.57\n",
            "        68           -8.41           -1.77           98.28            2.32           16.89\n",
            "        69           -5.37           -1.71           98.28           11.59           19.05\n",
            "        70           -3.58           -1.76           98.28           15.22           19.41\n",
            "      -> GAN-G Saved: 70epoch_time_created_2020-07-11.pth\n",
            "        71           -3.62           -1.76           98.28           14.95           19.84\n",
            "        72           -3.77           -1.76           98.28           15.57           19.43\n",
            "        73           -3.57           -1.74           98.28           14.66           20.13\n",
            "        74           -3.78           -1.74           98.28           14.94           20.04\n",
            "        75           -1.52           -1.76           98.28           14.85           18.63\n",
            "        76           -3.09           -1.76           98.28           14.98           18.89\n",
            "        77           -2.44           -1.76           98.28           15.03           18.96\n",
            "        78           -3.65           -1.76           98.28           15.18           18.78\n",
            "        79           -4.52           -1.63           98.28           14.76           18.14\n",
            "        80           -4.28           -1.78           98.28           16.89           18.50\n",
            "      -> GAN-G Saved: 80epoch_time_created_2020-07-11.pth\n",
            "        81           -5.02           -1.51           98.28           12.35           17.99\n",
            "        82           -2.63           -1.74           98.28           15.71           18.27\n",
            "        83           -3.57           -1.61           98.28           14.07           18.07\n",
            "        84           -3.70           -1.77           98.28           15.92           18.51\n",
            "        85           -5.34           -1.53           98.28           13.22           17.70\n",
            "        86           -4.20           -1.64           98.28           12.95           18.18\n",
            "        87           -3.08           -1.70           98.28           16.47           18.55\n",
            "        88           -4.05           -1.55           98.28           11.29           18.40\n",
            "        89           -4.56           -1.58           98.28           12.56           17.98\n",
            "        90           -4.27           -1.55           98.28           10.63           17.87\n",
            "      -> GAN-G Saved: 90epoch_time_created_2020-07-11.pth\n",
            "        91           -2.96           -1.59           98.28           11.85           19.20\n",
            "        92           -3.66           -1.57           98.28           10.65           18.17\n",
            "        93           -3.23           -1.60           98.28           14.87           18.22\n",
            "        94           -1.05           -1.62           98.28           12.03           18.40\n",
            "        95           -1.97           -1.65           98.28           13.68           18.57\n",
            "        96           -3.60           -1.53           98.28           10.80           17.63\n",
            "        97           -3.47           -1.68           98.28           14.63           18.17\n",
            "        98           -2.94           -1.51           98.28           10.17           18.05\n",
            "        99           -2.95           -1.51           98.28           10.75           18.25\n",
            "       100           -1.74           -1.56           98.28           11.39           18.23\n",
            "      -> GAN-G Saved: 100epoch_time_created_2020-07-11.pth\n",
            "Training Runtime: 1777.25\n",
            "IDSGAN finish training!\n"
          ],
          "name": "stdout"
        },
        {
          "output_type": "display_data",
          "data": {
            "image/png": "[encoded data removed]",
            "text/plain": [
              "<Figure size 432x288 with 1 Axes>"
            ]
          },
          "metadata": {
            "tags": [],
            "needs_background": "light"
          }
        },
        {
          "output_type": "display_data",
          "data": {
            "image/png": "[encoded data removed]",
            "text/plain": [
              "<Figure size 432x288 with 1 Axes>"
            ]
          },
          "metadata": {
            "tags": [],
            "needs_background": "light"
          }
        },
        {
          "output_type": "stream",
          "text": [
            "      -> GAN-D Saved: 100epoch_time_created_2020-07-11.pth\n",
            "--------------------------------------------------------------------------------\n",
            "    Attack Category: U2R_AND_R2L\n",
            "    Loaded IDS Model From: /content/drive/My Drive/Study/KLTN/Saved Model/IDSModel/U2R_AND_R2L/Deep_Learning/created_date_2020-07-08_MLP.pth\n",
            "==>IDSGAN start training\n",
            "    Folder for saving GAN Models : /content/drive/My Drive/Study/KLTN/Saved Model/GANModel/Deep_Learning/MLP/U2R_AND_R2L/3/\n",
            "     Epoch          G-Loss          D-Loss         O-DR(%)         A-DR(%)      Runtime(s)\n",
            "         1            3.80           -2.36           35.74           31.45           18.53\n",
            "      -> GAN-G Saved: 1epoch_time_created_2020-07-11.pth\n",
            "         2            2.65           -2.13           35.74           31.19           18.78\n",
            "         3            3.85           -2.02           35.74           30.84           18.80\n",
            "         4            3.39           -2.01           35.74           30.84           18.87\n",
            "         5            2.81           -2.01           35.74           30.86           19.57\n",
            "         6            2.78           -2.01           35.74           30.87           18.75\n",
            "         7            2.76           -2.01           35.74           30.86           18.43\n",
            "         8            2.81           -2.01           35.74           30.85           20.08\n",
            "         9            2.80           -2.01           35.74           30.85           18.55\n",
            "        10            2.72           -2.01           35.74           30.87           18.68\n",
            "      -> GAN-G Saved: 10epoch_time_created_2020-07-11.pth\n",
            "        11            2.82           -2.01           35.74           30.86           18.85\n",
            "        12            2.76           -2.01           35.74           30.87           18.92\n",
            "        13            2.83           -2.01           35.74           30.83           18.96\n",
            "        14            2.74           -2.01           35.74           30.87           18.89\n",
            "        15            2.74           -2.01           35.74           30.87           18.69\n",
            "        16            2.84           -2.01           35.74           30.85           18.92\n",
            "        17            2.75           -2.01           35.74           30.87           19.04\n",
            "        18            2.82           -2.01           35.74           30.85           18.77\n",
            "        19            2.69           -2.01           35.74           30.85           18.78\n",
            "        20            2.82           -2.01           35.74           30.87           18.82\n",
            "      -> GAN-G Saved: 20epoch_time_created_2020-07-11.pth\n",
            "        21            2.78           -2.01           35.74           30.84           19.61\n",
            "        22            2.73           -2.01           35.74           30.86           18.80\n",
            "        23            2.81           -2.01           35.74           30.87           18.88\n",
            "        24            2.74           -2.01           35.74           30.87           19.10\n",
            "        25            2.79           -2.01           35.74           30.86           21.33\n",
            "        26            2.73           -2.01           35.74           30.85           18.90\n",
            "        27            2.81           -2.01           35.74           30.86           18.87\n",
            "        28            2.76           -2.01           35.74           30.87           18.93\n",
            "        29            2.79           -2.01           35.74           30.85           19.06\n",
            "        30            2.78           -2.01           35.74           30.85           18.98\n",
            "      -> GAN-G Saved: 30epoch_time_created_2020-07-11.pth\n",
            "        31            2.76           -2.02           35.74           30.87           19.24\n",
            "        32            2.82           -2.01           35.74           30.85           18.84\n",
            "        33            2.77           -2.02           35.74           30.87           18.63\n",
            "        34            2.73           -2.01           35.74           30.85           18.69\n",
            "        35            2.80           -2.01           35.74           30.87           18.68\n",
            "        36            2.77           -2.01           35.74           30.86           18.56\n",
            "        37            2.77           -2.01           35.74           30.87           19.33\n",
            "        38            2.79           -2.01           35.74           30.87           18.74\n",
            "        39            2.75           -2.01           35.74           30.87           18.98\n",
            "        40            2.80           -2.01           35.74           30.85           18.47\n",
            "      -> GAN-G Saved: 40epoch_time_created_2020-07-11.pth\n",
            "        41            2.75           -2.01           35.74           30.87           18.86\n",
            "        42            2.79           -2.01           35.74           30.87           21.06\n",
            "        43            2.81           -2.01           35.74           30.87           19.10\n",
            "        44            2.78           -2.01           35.74           30.87           18.70\n",
            "        45            2.82           -2.01           35.74           30.87           18.73\n",
            "        46            2.76           -2.01           35.74           30.87           18.67\n",
            "        47            2.78           -2.01           35.74           30.85           18.77\n",
            "        48            2.75           -2.01           35.74           30.86           18.89\n",
            "        49            2.81           -2.01           35.74           30.85           19.17\n",
            "        50            2.79           -2.01           35.74           30.87           18.89\n",
            "      -> GAN-G Saved: 50epoch_time_created_2020-07-11.pth\n",
            "        51            2.79           -2.01           35.74           30.86           19.02\n",
            "        52            2.70           -2.01           35.74           30.85           18.96\n",
            "        53            2.81           -2.02           35.74           30.86           19.97\n",
            "        54            2.77           -2.01           35.74           30.87           18.78\n",
            "        55            2.76           -2.01           35.74           30.86           18.74\n",
            "        56            2.79           -2.01           35.74           30.87           18.81\n",
            "        57            2.78           -2.01           35.74           30.87           18.72\n",
            "        58            2.77           -2.01           35.74           30.87           18.62\n",
            "        59            2.80           -2.01           35.74           30.87           21.09\n",
            "        60            2.78           -2.01           35.74           30.87           19.36\n",
            "      -> GAN-G Saved: 60epoch_time_created_2020-07-11.pth\n",
            "        61            2.78           -2.01           35.74           30.86           18.84\n",
            "        62            2.79           -2.01           35.74           30.87           18.95\n",
            "        63            2.76           -2.01           35.74           30.85           19.21\n",
            "        64            2.75           -2.01           35.74           30.86           18.87\n",
            "        65            2.76           -2.01           35.74           30.87           19.04\n",
            "        66            2.85           -2.01           35.74           30.85           19.03\n",
            "        67            2.74           -2.01           35.74           30.87           18.93\n",
            "        68            2.71           -2.01           35.74           30.87           18.82\n",
            "        69            2.75           -2.01           35.74           30.87           18.98\n",
            "        70            2.85           -2.01           35.74           30.87           19.10\n",
            "      -> GAN-G Saved: 70epoch_time_created_2020-07-11.pth\n",
            "        71            2.77           -2.01           35.74           30.86           18.81\n",
            "        72            2.77           -2.01           35.74           30.86           18.49\n",
            "        73            2.79           -2.01           35.74           30.87           18.66\n",
            "        74            2.77           -2.01           35.74           30.87           18.89\n",
            "        75            2.71           -2.01           35.74           30.87           18.74\n",
            "        76            2.83           -2.01           35.74           30.87           19.74\n",
            "        77            2.77           -2.01           35.74           30.86           19.11\n",
            "        78            2.78           -2.01           35.74           30.86           18.83\n",
            "        79            2.82           -2.01           35.74           30.87           18.95\n",
            "        80            2.75           -2.01           35.74           30.87           18.86\n",
            "      -> GAN-G Saved: 80epoch_time_created_2020-07-11.pth\n",
            "        81            2.78           -2.01           35.74           30.87           18.75\n",
            "        82            2.83           -2.01           35.74           30.87           18.42\n",
            "        83            2.78           -2.01           35.74           30.87           18.32\n",
            "        84            2.78           -2.01           35.74           30.87           18.66\n",
            "        85            2.79           -2.01           35.74           30.86           18.46\n",
            "        86            2.77           -2.01           35.74           30.87           19.18\n",
            "        87            2.75           -2.01           35.74           30.85           18.60\n",
            "        88            2.79           -2.01           35.74           30.87           18.59\n",
            "        89            2.76           -2.01           35.74           30.86           19.09\n",
            "        90            2.79           -2.01           35.74           30.87           19.40\n",
            "      -> GAN-G Saved: 90epoch_time_created_2020-07-11.pth\n",
            "        91            2.77           -2.02           35.74           30.87           18.90\n",
            "        92            2.78           -2.02           35.74           30.86           18.83\n",
            "        93            2.79           -2.01           35.74           30.87           21.00\n",
            "        94            2.81           -2.01           35.74           30.87           19.92\n",
            "        95            2.76           -2.01           35.74           30.86           18.96\n",
            "        96            2.79           -2.01           35.74           30.87           18.87\n",
            "        97            2.79           -2.01           35.74           30.87           19.06\n",
            "        98            2.75           -2.01           35.74           30.87           18.80\n",
            "        99            2.75           -2.01           35.74           30.87           19.04\n",
            "       100            2.80           -2.01           35.74           30.86           18.86\n",
            "      -> GAN-G Saved: 100epoch_time_created_2020-07-11.pth\n",
            "Training Runtime: 1903.38\n",
            "IDSGAN finish training!\n"
          ],
          "name": "stdout"
        },
        {
          "output_type": "display_data",
          "data": {
            "image/png": "[encoded data removed]",
            "text/plain": [
              "<Figure size 432x288 with 1 Axes>"
            ]
          },
          "metadata": {
            "tags": [],
            "needs_background": "light"
          }
        },
        {
          "output_type": "display_data",
          "data": {
            "image/png": "[encoded data removed]",
            "text/plain": [
              "<Figure size 432x288 with 1 Axes>"
            ]
          },
          "metadata": {
            "tags": [],
            "needs_background": "light"
          }
        },
        {
          "output_type": "stream",
          "text": [
            "      -> GAN-D Saved: 100epoch_time_created_2020-07-11.pth\n"
          ],
          "name": "stdout"
        }
      ]
    },
    {
      "cell_type": "markdown",
      "metadata": {
        "id": "jQNXCNMEx1bn",
        "colab_type": "text"
      },
      "source": [
        "## **3.2 Run Generate Adversarial Traffic**"
      ]
    },
    {
      "cell_type": "code",
      "metadata": {
        "id": "I0w_F6zKcgrF",
        "colab_type": "code",
        "colab": {}
      },
      "source": [
        "# Hyber Parameters\n",
        "BATCH_SIZE = 256 # Batch size"
      ],
      "execution_count": null,
      "outputs": []
    },
    {
      "cell_type": "code",
      "metadata": {
        "id": "HPx41fPd6CiW",
        "colab_type": "code",
        "colab": {
          "base_uri": "https://localhost:8080/",
          "height": 52
        },
        "outputId": "a1bc9803-8a00-4fda-bc37-088d24a78e4c"
      },
      "source": [
        "gan_model_time_created = '2020-07-11'\n",
        "\n",
        "# Load Testset\n",
        "testset = pd.read_csv(testset_path)\n",
        "print(f\"Amount of KDDTest+: \\t\\t{len(testset)}\")\n",
        "# test_normal\n",
        "test_normal = np.array(testset[testset[\"class\"] == 'Normal'])[:,:-1]\n",
        "# Create batch of normal traffic\n",
        "test_batch_normal = create_batch2(test_normal,BATCH_SIZE).astype('float64')\n",
        "print(f\"Amount of Normal:\\t\\t{len(test_normal)} ({len(test_batch_normal)} batchs - {BATCH_SIZE} records/batch)\")"
      ],
      "execution_count": null,
      "outputs": [
        {
          "output_type": "stream",
          "text": [
            "Amount of KDDTest+: \t\t20123\n",
            "Amount of Normal:\t\t9711 (37 batchs - 256 records/batch)\n"
          ],
          "name": "stdout"
        }
      ]
    },
    {
      "cell_type": "code",
      "metadata": {
        "id": "ZhPpd8MCx10u",
        "colab_type": "code",
        "colab": {
          "base_uri": "https://localhost:8080/",
          "height": 638
        },
        "outputId": "7ecb7cd1-1ca4-4e6f-8050-040124744e23"
      },
      "source": [
        "# Adversarial Traffic Evaluating\n",
        "print(f\"{40*'='} ADVERSARIAL TRAFFIC EVALUATING {40*'='}\")\n",
        "print(f\"{80*'='}\\n IDS Model: {ids_dl_model_name}\")\n",
        "\n",
        "for adversarial_attack_type in ADVERSARIAL_ATTACK_TYPES:\n",
        "    print(f\"{80*'*'}\\n Adversarial Attack Type : {adversarial_attack_type}\")\n",
        "    for attack_category in ATTACK_CATEGORIES:\n",
        "        print(f\"{80*'-'}\\n - Attack Category: {attack_category}\")\n",
        "        \n",
        "        # Load PyTorch IDS Model\n",
        "        ids_model = load_pytorch_ids_model(ids_dl_model_name, IDS_INPUT_DIM, IDS_OUTPUT_DIM, attack_category, ids_created_date)\n",
        "        # Init GAN-G model\n",
        "        G_INPUT_DIM = NOISE_DIM                                             # Generator input dimension is dimention of noise\n",
        "        G_OUTPUT_DIM = len(POS_NONFUNCTIONAL_FEATURES[attack_category])     # Generator output is number of nonfunctional feature\n",
        "        generator = init_generator(G_INPUT_DIM,G_OUTPUT_DIM, adversarial_attack_type)\n",
        "        # Load Attack Dataset\n",
        "        test_raw_attack = preprocess_malicious_data(testset, attack_category)\n",
        "        # Create batch of attack traffic\n",
        "        batch_attack = create_batch2(test_raw_attack, BATCH_SIZE)\n",
        "        n_batch_attack = len(batch_attack)\n",
        "        print(f\"{4*' '}Amout of {attack_category}:\\t{len(test_raw_attack)} ({n_batch_attack} batchs - {BATCH_SIZE} records/batch)\")\n",
        "        \n",
        "        # Calc DR through each epoch\n",
        "        gan_g_folder_path = str(f\"{GAN_Model_Path}Deep_Learning/{ids_dl_model_name}/{attack_category}/{adversarial_attack_type}/\")\n",
        "        print(f\"{4*' '}GAN Models Folder: {gan_g_folder_path}\")\n",
        "        for epoch in range(0, MAX_EPOCH + 1, 10):\n",
        "            # Load GAN-G Model\n",
        "            model_g_save_name = f\"time_created_{gan_model_time_created}_GAN_G_{1 if epoch == 0 else epoch}epoch.pth\"\n",
        "            gan_g_model_path = gan_g_folder_path + model_g_save_name\n",
        "            param = th.load(gan_g_model_path,map_location=lambda x,y:x)\n",
        "            generator.load_state_dict(param)\n",
        "\n",
        "            generator.eval()\n",
        "\n",
        "            o_dr,a_dr =[],[]\n",
        "            with th.no_grad():\n",
        "                for idx, bn in enumerate(test_batch_normal):\n",
        "                    normal_b = th.Tensor(bn)\n",
        "                    attack_b = th.Tensor(batch_attack[idx % n_batch_attack])\n",
        "                    # Generate Adversarial Traffic\n",
        "                    adversarial_attack_b = gen_adversarial_attack(generator, NOISE_DIM, attack_b, attack_category, adversarial_attack_type)\n",
        "\n",
        "                    # Calc DR\n",
        "                    origin_dr, adversarial_dr = cal_dr(ids_model, normal_b, attack_b, adversarial_attack_b)\n",
        "                    o_dr.append(origin_dr)\n",
        "                    a_dr.append(adversarial_dr)\n",
        "            eir = 1 - (np.mean(a_dr)/np.mean(o_dr))\n",
        "            print(f\"\\t {epoch:3d} epochs:\\tOrigin DR : {np.mean(o_dr)*100:.2f}% \\t Adversarial DR : {np.mean(a_dr)*100:.2f}% \\t EIR : {eir*100:.2f}%\")"
      ],
      "execution_count": 30,
      "outputs": [
        {
          "output_type": "stream",
          "text": [
            "======================================== ADVERSARIAL TRAFFIC EVALUATING ========================================\n",
            "================================================================================\n",
            " IDS Model: MLP\n",
            "********************************************************************************\n",
            " Adversarial Attack Type : 3\n",
            "--------------------------------------------------------------------------------\n",
            " - Attack Category: DOS\n",
            "    Loaded IDS Model From: /content/drive/My Drive/Study/KLTN/Saved Model/IDSModel/DOS/Deep_Learning/created_date_2020-07-08_MLP.pth\n",
            "    Amout of DOS:\t7460 (29 batchs - 256 records/batch)\n",
            "    GAN Models Folder: /content/drive/My Drive/Study/KLTN/Saved Model/GANModel/Deep_Learning/MLP/DOS/3/\n",
            "\t   0 epochs:\tOrigin DR : 82.50% \t Adversarial DR : 3.00% \t EIR : 96.37%\n",
            "\t  10 epochs:\tOrigin DR : 82.50% \t Adversarial DR : 0.52% \t EIR : 99.37%\n",
            "\t  20 epochs:\tOrigin DR : 82.50% \t Adversarial DR : 0.58% \t EIR : 99.30%\n",
            "\t  30 epochs:\tOrigin DR : 82.50% \t Adversarial DR : 0.58% \t EIR : 99.30%\n",
            "\t  40 epochs:\tOrigin DR : 82.50% \t Adversarial DR : 0.12% \t EIR : 99.86%\n",
            "\t  50 epochs:\tOrigin DR : 82.50% \t Adversarial DR : 0.13% \t EIR : 99.85%\n",
            "\t  60 epochs:\tOrigin DR : 82.50% \t Adversarial DR : 0.60% \t EIR : 99.27%\n",
            "\t  70 epochs:\tOrigin DR : 82.50% \t Adversarial DR : 4.09% \t EIR : 95.05%\n",
            "\t  80 epochs:\tOrigin DR : 82.50% \t Adversarial DR : 3.78% \t EIR : 95.42%\n",
            "\t  90 epochs:\tOrigin DR : 82.50% \t Adversarial DR : 0.81% \t EIR : 99.01%\n",
            "\t 100 epochs:\tOrigin DR : 82.50% \t Adversarial DR : 0.81% \t EIR : 99.01%\n",
            "--------------------------------------------------------------------------------\n",
            " - Attack Category: U2R_AND_R2L\n",
            "    Loaded IDS Model From: /content/drive/My Drive/Study/KLTN/Saved Model/IDSModel/U2R_AND_R2L/Deep_Learning/created_date_2020-07-08_MLP.pth\n",
            "    Amout of U2R_AND_R2L:\t2952 (11 batchs - 256 records/batch)\n",
            "    GAN Models Folder: /content/drive/My Drive/Study/KLTN/Saved Model/GANModel/Deep_Learning/MLP/U2R_AND_R2L/3/\n",
            "\t   0 epochs:\tOrigin DR : 0.44% \t Adversarial DR : 1.16% \t EIR : -161.90%\n",
            "\t  10 epochs:\tOrigin DR : 0.44% \t Adversarial DR : 1.16% \t EIR : -161.90%\n",
            "\t  20 epochs:\tOrigin DR : 0.44% \t Adversarial DR : 1.16% \t EIR : -161.90%\n",
            "\t  30 epochs:\tOrigin DR : 0.44% \t Adversarial DR : 1.16% \t EIR : -161.90%\n",
            "\t  40 epochs:\tOrigin DR : 0.44% \t Adversarial DR : 1.16% \t EIR : -161.90%\n",
            "\t  50 epochs:\tOrigin DR : 0.44% \t Adversarial DR : 1.16% \t EIR : -161.90%\n",
            "\t  60 epochs:\tOrigin DR : 0.44% \t Adversarial DR : 1.16% \t EIR : -161.90%\n",
            "\t  70 epochs:\tOrigin DR : 0.44% \t Adversarial DR : 1.16% \t EIR : -161.90%\n",
            "\t  80 epochs:\tOrigin DR : 0.44% \t Adversarial DR : 1.16% \t EIR : -161.90%\n",
            "\t  90 epochs:\tOrigin DR : 0.44% \t Adversarial DR : 1.16% \t EIR : -161.90%\n",
            "\t 100 epochs:\tOrigin DR : 0.44% \t Adversarial DR : 1.16% \t EIR : -161.90%\n"
          ],
          "name": "stdout"
        }
      ]
    },
    {
      "cell_type": "markdown",
      "metadata": {
        "id": "mwWugTozppL5",
        "colab_type": "text"
      },
      "source": [
        "The Saved Model stored in [Google Drive - GAN Model](https://drive.google.com/drive/u/1/folders/1VNFW-k5SbR0eGsJ_np3U-W3Rcz_n4I8N)\n",
        "\n",
        "The Result of Code stored in [Github - Thesis](https://github.com/thetinybug/thesis-IDSGAN)"
      ]
    }
  ]
}