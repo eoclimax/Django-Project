{
  "nbformat": 4,
  "nbformat_minor": 0,
  "metadata": {
    "colab": {
      "name": "2.GG: LogicticRegression-A1-noise-functionalfeature_dim.ipynb",
      "provenance": [],
      "collapsed_sections": [],
      "toc_visible": true,
      "include_colab_link": true
    },
    "kernelspec": {
      "name": "python3",
      "display_name": "Python 3"
    }
  },
  "cells": [
    {
      "cell_type": "markdown",
      "metadata": {
        "id": "view-in-github",
        "colab_type": "text"
      },
      "source": [
        "<a href=\"https://colab.research.google.com/github/thetinybug/Django-Project/blob/master/2.%20GAN%20and%20Gen/Machine_Learning_IDS/LogicticRegression_A1.ipynb\" target=\"_parent\"><img src=\"https://colab.research.google.com/assets/colab-badge.svg\" alt=\"Open In Colab\"/></a>"
      ]
    },
    {
      "cell_type": "code",
      "metadata": {
        "id": "Ry_OT8h5zTuz",
        "colab_type": "code",
        "cellView": "both",
        "colab": {
          "base_uri": "https://localhost:8080/",
          "height": 118
        },
        "outputId": "53e393ef-fb9c-42d5-bc37-c4426b738836"
      },
      "source": [
        "from google.colab import drive\n",
        "drive.mount('/content/drive')"
      ],
      "execution_count": 1,
      "outputs": [
        {
          "output_type": "stream",
          "text": [
            "Go to this URL in a browser: https://accounts.google.com/o/oauth2/auth?client_id=947318989803-6bn6qk8qdgf4n4g3pfee6491hc0brc4i.apps.googleusercontent.com&redirect_uri=urn%3aietf%3awg%3aoauth%3a2.0%3aoob&response_type=code&scope=email%20https%3a%2f%2fwww.googleapis.com%2fauth%2fdocs.test%20https%3a%2f%2fwww.googleapis.com%2fauth%2fdrive%20https%3a%2f%2fwww.googleapis.com%2fauth%2fdrive.photos.readonly%20https%3a%2f%2fwww.googleapis.com%2fauth%2fpeopleapi.readonly\n",
            "\n",
            "Enter your authorization code:\n",
            "··········\n",
            "Mounted at /content/drive\n"
          ],
          "name": "stdout"
        }
      ]
    },
    {
      "cell_type": "markdown",
      "metadata": {
        "id": "m27n3nFSTSv2",
        "colab_type": "text"
      },
      "source": [
        "#**0. Thư viện**"
      ]
    },
    {
      "cell_type": "markdown",
      "metadata": {
        "id": "08Q42YHGbvLT",
        "colab_type": "text"
      },
      "source": [
        "##Cài đặt "
      ]
    },
    {
      "cell_type": "code",
      "metadata": {
        "id": "u7ZZvZaAbM1J",
        "colab_type": "code",
        "colab": {
          "base_uri": "https://localhost:8080/",
          "height": 131
        },
        "outputId": "68cfa009-42e5-4b3c-d81c-0ed677f0d592"
      },
      "source": [
        "!pip3 install adabound\n",
        "# !pip3 numpy torc sklearn matplotlib pandas"
      ],
      "execution_count": 2,
      "outputs": [
        {
          "output_type": "stream",
          "text": [
            "Collecting adabound\n",
            "  Downloading https://files.pythonhosted.org/packages/cd/44/0c2c414effb3d9750d780b230dbb67ea48ddc5d9a6d7a9b7e6fcc6bdcff9/adabound-0.0.5-py3-none-any.whl\n",
            "Requirement already satisfied: torch>=0.4.0 in /usr/local/lib/python3.6/dist-packages (from adabound) (1.5.1+cu101)\n",
            "Requirement already satisfied: future in /usr/local/lib/python3.6/dist-packages (from torch>=0.4.0->adabound) (0.16.0)\n",
            "Requirement already satisfied: numpy in /usr/local/lib/python3.6/dist-packages (from torch>=0.4.0->adabound) (1.18.5)\n",
            "Installing collected packages: adabound\n",
            "Successfully installed adabound-0.0.5\n"
          ],
          "name": "stdout"
        }
      ]
    },
    {
      "cell_type": "markdown",
      "metadata": {
        "id": "mt5O3Y-fb5Du",
        "colab_type": "text"
      },
      "source": [
        "##Import"
      ]
    },
    {
      "cell_type": "code",
      "metadata": {
        "id": "ONDkO5xKdjqa",
        "colab_type": "code",
        "colab": {}
      },
      "source": [
        "# Add Module Path - To Import Custom Modules\n",
        "# Modules Path\n",
        "ModulePath = \"/content/drive/My Drive/Study/KLTN/Google Colab/0.0 Python Modules/\"\n",
        "\n",
        "import sys\n",
        "sys.path.append(ModulePath)"
      ],
      "execution_count": 3,
      "outputs": []
    },
    {
      "cell_type": "code",
      "metadata": {
        "id": "YIQ708lZS2lF",
        "colab_type": "code",
        "colab": {
          "base_uri": "https://localhost:8080/",
          "height": 33
        },
        "outputId": "70f20cac-0bb6-4a19-fb84-3d95c423e609"
      },
      "source": [
        "import numpy as np\n",
        "import pandas as pd\n",
        "import torch as th\n",
        "from torch.autograd import Variable as V\n",
        "import torch.autograd as autograd\n",
        "import torch.nn as nn\n",
        "import torch.nn.functional as F\n",
        "import torch.optim as optim\n",
        "from sklearn.utils import shuffle\n",
        "from sklearn.metrics import confusion_matrix\n",
        "import pickle\n",
        "\n",
        "# Libs for Keras\n",
        "from keras.models import load_model\n",
        "\n",
        "\n",
        "# Own Custom Module to import models and constants\n",
        "from models import *\n",
        "from constants import *\n",
        "\n",
        "import matplotlib.pyplot as plt\n",
        "import adabound \n",
        "import math\n",
        "import os\n",
        "from datetime import date\n",
        "import timeit"
      ],
      "execution_count": 4,
      "outputs": [
        {
          "output_type": "stream",
          "text": [
            "Using TensorFlow backend.\n"
          ],
          "name": "stderr"
        }
      ]
    },
    {
      "cell_type": "markdown",
      "metadata": {
        "id": "DZkqASdBS-QA",
        "colab_type": "text"
      },
      "source": [
        "#**1. Chuẩn bị**"
      ]
    },
    {
      "cell_type": "markdown",
      "metadata": {
        "id": "3rFWSSBQF99E",
        "colab_type": "text"
      },
      "source": [
        "##Paths"
      ]
    },
    {
      "cell_type": "code",
      "metadata": {
        "id": "uW-RHzMwdsG5",
        "colab_type": "code",
        "colab": {}
      },
      "source": [
        "# Base Path\n",
        "base_path = \"/content/drive/My Drive/Study/KLTN/\"\n",
        "Dataset_Path = base_path + \"Dataset/NSL-KDD Processed/Final - For Using/\"\n",
        "SavedModelPath = base_path + \"Saved Model/\"\n",
        "\n",
        "# Dataset Path\n",
        "Trainsets_Path = Dataset_Path + 'Trainset/'\n",
        "g_trainset_path = Trainsets_Path + \"GAN-G.csv\"\n",
        "d_trainset_path = Trainsets_Path + \"GAN-D.csv\"\n",
        "testset_path = Dataset_Path + \"Testset/\" + \"KDDTest+.csv\"\n",
        "\n",
        "\n",
        "# GAN Saved Models Paths\n",
        "GAN_Model_Path = SavedModelPath + 'GANModel/'\n",
        "\n",
        "# IDS Pytorch Saved Models Paths\n",
        "IDS_Saved_Path = SavedModelPath + 'IDSModel/'"
      ],
      "execution_count": 5,
      "outputs": []
    },
    {
      "cell_type": "markdown",
      "metadata": {
        "id": "XwTYqTdfF-wS",
        "colab_type": "text"
      },
      "source": [
        "##Global Variables"
      ]
    },
    {
      "cell_type": "code",
      "metadata": {
        "id": "8rBB0NLwGAce",
        "colab_type": "code",
        "colab": {}
      },
      "source": [
        "# Global Variables\n",
        "N_FEATURES = 41\n",
        "# IDS\n",
        "IDS_INPUT_DIM = N_FEATURES\n",
        "IDS_OUTPUT_DIM = 2\n",
        "ATTACK_CATEGORIES = ['DOS', 'U2R_AND_R2L']\n",
        "\n",
        "POS_FUNCTIONAL_FEATURES = {'DOS': DOS_FEATURES, 'U2R_AND_R2L': U2R_AND_R2L_FEATURES}\n",
        "POS_NONFUNCTIONAL_FEATURES = {}\n",
        "for attack_category, pos_functional_feature in POS_FUNCTIONAL_FEATURES.items():\n",
        "    pos_nonfunctional_feature = []\n",
        "    for i in range(N_FEATURES):\n",
        "        if i not in pos_functional_feature:\n",
        "            pos_nonfunctional_feature.append(i)\n",
        "    POS_NONFUNCTIONAL_FEATURES[attack_category] = pos_nonfunctional_feature\n",
        "\n",
        "IDS_MODELS = {'GaussianNB', 'MultinomialNB', 'ComplementNB', 'BernoulliNB', 'DT', 'RF', 'KNN'}"
      ],
      "execution_count": 6,
      "outputs": []
    },
    {
      "cell_type": "code",
      "metadata": {
        "id": "hlE7gDk07ybi",
        "colab_type": "code",
        "colab": {
          "base_uri": "https://localhost:8080/",
          "height": 102
        },
        "outputId": "17d21f3c-9411-44f0-e0ee-d06932cba3c4"
      },
      "source": [
        "print('Position of Functional Features\\n  ', POS_FUNCTIONAL_FEATURES)\n",
        "print('Position of Functional Features:\\n  ', POS_NONFUNCTIONAL_FEATURES)"
      ],
      "execution_count": 7,
      "outputs": [
        {
          "output_type": "stream",
          "text": [
            "Position of Functional Features\n",
            "   {'DOS': [0, 1, 2, 3, 4, 5, 6, 7, 8, 23, 24, 25, 26, 27, 28, 29, 30], 'U2R_AND_R2L': [0, 1, 2, 3, 4, 5, 6, 7, 8, 9, 10, 11, 12, 13, 14, 15, 16, 17, 18, 19, 20, 21, 22]}\n",
            "Position of Functional Features:\n",
            "   {'DOS': [9, 10, 11, 12, 13, 14, 15, 16, 17, 18, 19, 20, 21, 22, 31, 32, 33, 34, 35, 36, 37, 38, 39, 40], 'U2R_AND_R2L': [23, 24, 25, 26, 27, 28, 29, 30, 31, 32, 33, 34, 35, 36, 37, 38, 39, 40]}\n"
          ],
          "name": "stdout"
        }
      ]
    },
    {
      "cell_type": "markdown",
      "metadata": {
        "id": "otbVJEAzcTv4",
        "colab_type": "text"
      },
      "source": [
        "# **2. Định nghĩa Model**"
      ]
    },
    {
      "cell_type": "markdown",
      "metadata": {
        "id": "FVn0MzP1HW_0",
        "colab_type": "text"
      },
      "source": [
        "##Models"
      ]
    },
    {
      "cell_type": "code",
      "metadata": {
        "id": "sqogk9lIw_Uk",
        "colab_type": "code",
        "colab": {}
      },
      "source": [
        "# Load from model.py module"
      ],
      "execution_count": 8,
      "outputs": []
    },
    {
      "cell_type": "markdown",
      "metadata": {
        "id": "MdPRWEuxBAcd",
        "colab_type": "text"
      },
      "source": [
        "##Functions"
      ]
    },
    {
      "cell_type": "markdown",
      "metadata": {
        "id": "TcJBwwXf924F",
        "colab_type": "text"
      },
      "source": [
        "### Processing Data Functions"
      ]
    },
    {
      "cell_type": "code",
      "metadata": {
        "id": "r81eRs5hx8Lf",
        "colab_type": "code",
        "colab": {}
      },
      "source": [
        "# Processing Data Functions\n",
        "# create_batch2 - Hàm tạo Batch\n",
        "def create_batch2(x,batch_size):\n",
        "    a = list(range(len(x)))\n",
        "    np.random.shuffle(a)\n",
        "    x = x[a]\n",
        "    batch_x = [x[batch_size * i : (i+1)*batch_size,:] for i in range(len(x)//batch_size)]\n",
        "    return np.array(batch_x)\n",
        "# preprocess_malicious_data - Hàm tiền xử lý dữ liệu tấn công\n",
        "def preprocess_malicious_data(dataset, attack_category):\n",
        "    if attack_category != 'DOS' and attack_category != 'U2R_AND_R2L':\n",
        "      raise ValueError(\"Preprocess Data Fail: Invalid Attack Category\")\n",
        "    attack_data = dataset[dataset['class'] == attack_category]\n",
        "    del attack_data[\"class\"]\n",
        "    return np.array(attack_data)"
      ],
      "execution_count": 9,
      "outputs": []
    },
    {
      "cell_type": "markdown",
      "metadata": {
        "id": "fM7pjZa999Ht",
        "colab_type": "text"
      },
      "source": [
        "### IDS Functions"
      ]
    },
    {
      "cell_type": "code",
      "metadata": {
        "id": "Ukp0y2LiyGmy",
        "colab_type": "code",
        "colab": {}
      },
      "source": [
        "# IDS Functions\n",
        "# get_sklearn_ids_path - Get path for sklearn IDS Models\n",
        "def get_sklearn_ids_path(model_name, attack_category, created_date):\n",
        "    if attack_category != 'DOS' and attack_category != 'U2R_AND_R2L':\n",
        "        raise ValueError(\"Preprocess Data Fail: Invalid Attack Category\")\n",
        "    ids_path = str(f\"{IDS_Saved_Path}{attack_category}/Machine_Learning/created_date_{created_date}_{model_name}.pkl\")\n",
        "    if not os.path.exists(ids_path):\n",
        "        raise ValueError(f\"Invalid path: {ids_path}\\nNot exist file!\")\n",
        "    return ids_path\n",
        "# load_pytorch_ids_model - Load PyTorch IDS Models\n",
        "def load_sklearn_ids_model(model_name, attack_category, created_date):\n",
        "    ids_model_path = get_sklearn_ids_path(model_name, attack_category, created_date)\n",
        "    with open(ids_model_path, 'rb') as file:\n",
        "        pickle_model = pickle.load(file)\n",
        "        print(f\"{4*' '}Loaded IDS Model From: {ids_model_path}\")\n",
        "    return pickle_model"
      ],
      "execution_count": 10,
      "outputs": []
    },
    {
      "cell_type": "markdown",
      "metadata": {
        "id": "J9Q5DryD-Dl0",
        "colab_type": "text"
      },
      "source": [
        "### GAN Functions"
      ]
    },
    {
      "cell_type": "code",
      "metadata": {
        "id": "tV5MHCxUA-8G",
        "colab_type": "code",
        "colab": {}
      },
      "source": [
        "# GAN Functions\n",
        "# init_generator - Khoi tao model GAN-G\n",
        "def init_generator(input_dim, output_dim, adversarial_attack_type = 1):\n",
        "    if adversarial_attack_type == 1:\n",
        "        generator = Generator_A1(input_dim, output_dim)\n",
        "    elif adversarial_attack_type == 2:\n",
        "        generator = Generator_A2(input_dim, output_dim)\n",
        "    elif adversarial_attack_type == 3:\n",
        "        '''\n",
        "            adversarial_attack_type 3: G-input is nonfunctional feature, G-out is adversarial nonfuncitonal feature.\n",
        "            --> input_dim = output_dim = len(nonfunctional_features)\n",
        "        ''' \n",
        "        generator = Generator_A2(output_dim, output_dim)\n",
        "    else:\n",
        "        raise ValueError(\"Init GAN - Generator: Invalid Adversarial Attack Type\")\n",
        "    return generator\n",
        "\n",
        "# gen_adversarial_attack - Tao luu luong tan cong doi khang\n",
        "def gen_adversarial_attack(generator, noise_dim, raw_attack, attack_category, adversarial_attack_type = 1):\n",
        "    if adversarial_attack_type == 1:\n",
        "        adversarial_attack = generator(noise_dim, raw_attack, attack_category, POS_NONFUNCTIONAL_FEATURES)\n",
        "    elif adversarial_attack_type == 2:\n",
        "        batch_size = len(raw_attack)\n",
        "        noise = V(th.Tensor(np.random.uniform(0,1,(batch_size, noise_dim))))\n",
        "        generator_out = generator(noise)\n",
        "        adversarial_attack = gen_adversarial_attack_a2(generator_out, raw_attack, attack_category, POS_NONFUNCTIONAL_FEATURES)\n",
        "    elif  adversarial_attack_type == 3:\n",
        "        pos_nonfunctional_feature = POS_NONFUNCTIONAL_FEATURES[attack_category]\n",
        "        # get nonfunctional features val\n",
        "        nonfunctional_feature = raw_attack[:, pos_nonfunctional_feature]\n",
        "        generator_out = generator(nonfunctional_feature)\n",
        "        adversarial_attack = gen_adversarial_attack_a2(generator_out, raw_attack, attack_category, POS_NONFUNCTIONAL_FEATURES)\n",
        "    else:\n",
        "        raise ValueError(\"Init GAN - Generator: Invalid Adversarial Attack Type\")\n",
        "    return adversarial_attack\n",
        "\n",
        "\n",
        "# train_generator - Train Generator\n",
        "def train_generator(generator, discriminator, optimizer_G, noise_dim, attack_traffic, attack_category, adversarial_attack_type):\n",
        "    for p in discriminator.parameters():  \n",
        "        p.requires_grad = False\n",
        "    optimizer_G.zero_grad()        \n",
        "    # GAN-G Generate Adversarial Attack\n",
        "    adversarial_attack = gen_adversarial_attack(generator, noise_dim, attack_traffic, attack_category, adversarial_attack_type)\n",
        "    # GAN-D predict, GAN-G update parameter\n",
        "    D_pred = discriminator(adversarial_attack)\n",
        "    g_loss = -th.mean(D_pred)\n",
        "    g_loss.backward()\n",
        "    optimizer_G.step()\n",
        "    return g_loss\n",
        "\n",
        "# train_discriminator - Train Discriminator\n",
        "def train_discriminator(discriminator, ids_model, generator, critic_iters, clamp, optimizer_D, normal_b, noise_dim, attack_traffic, attack_category, adversarial_attack_type):\n",
        "    run_d_loss = 0\n",
        "    cnt = 0\n",
        "    for p in discriminator.parameters(): \n",
        "        p.requires_grad = True\n",
        "    for c in range(critic_iters):\n",
        "        optimizer_D.zero_grad()\n",
        "        for p in discriminator.parameters():\n",
        "            p.data.clamp_(-clamp, clamp)\n",
        "        # GAN-G Generate Adversarial Attack\n",
        "        adversarial_attack = gen_adversarial_attack(generator, noise_dim, attack_traffic, attack_category, adversarial_attack_type)\n",
        "        # Make data to feed IDS\n",
        "        ids_input = th.cat((adversarial_attack,normal_b))\n",
        "        l = list(range(len(ids_input)))\n",
        "        np.random.shuffle(l)\n",
        "        ids_input = V(th.Tensor(ids_input[l]))\n",
        "        # IDS Predict\n",
        "        ids_pred_label = V(th.Tensor(ids_model.predict(ids_input)))\n",
        "        pred_normal = ids_input[ids_pred_label==0]\n",
        "        pred_attack = ids_input[ids_pred_label==1]\n",
        "        if len(pred_attack) == 0:\n",
        "            cnt += 1\n",
        "            break\n",
        "        # Make GAN-D input\n",
        "        D_noraml = discriminator(V(th.Tensor(pred_normal)))\n",
        "        D_attack= discriminator(V(th.Tensor(pred_attack)))\n",
        "        # Loss and Update Parameter\n",
        "        loss_normal = th.mean(D_noraml)\n",
        "        loss_attack = th.mean(D_attack)\n",
        "        gradient_penalty = compute_gradient_penalty(discriminator, normal_b.data, adversarial_attack.data)\n",
        "        d_loss = loss_attack - loss_normal #+ LAMBDA * gradient_penalty\n",
        "        d_loss.backward()\n",
        "        optimizer_D.step()\n",
        "        run_d_loss += d_loss.item()\n",
        "    return run_d_loss, cnt\n",
        "\n",
        "# compute_gradient_penalty - Compute Gradient Penalty\n",
        "def compute_gradient_penalty(D, normal_t, attack_t):\n",
        "    alpha = th.Tensor(np.random.random((normal_t.shape[0], 1)))\n",
        "    between_n_a = (alpha * normal_t + ((1 - alpha) * attack_t)).requires_grad_(True)\n",
        "    d_between_n_a = D(between_n_a)\n",
        "    adv = V(th.Tensor(normal_t.shape[0], 1).fill_(1.0), requires_grad=False)\n",
        "\n",
        "    gradients = autograd.grad(\n",
        "        outputs=d_between_n_a,\n",
        "        inputs=between_n_a,\n",
        "        grad_outputs=adv,\n",
        "        create_graph=True,\n",
        "        retain_graph=True,\n",
        "        only_inputs=True,\n",
        "    )[0]\n",
        "    gradients = gradients.view(gradients.size(0), -1)\n",
        "    gradient_penalty = ((gradients.norm(2, dim=1) - 1) ** 2).mean()\n",
        "    return gradient_penalty"
      ],
      "execution_count": 11,
      "outputs": []
    },
    {
      "cell_type": "markdown",
      "metadata": {
        "id": "jRhNLI_jSKIg",
        "colab_type": "text"
      },
      "source": [
        "### Generate Adversarial Attack Functions"
      ]
    },
    {
      "cell_type": "code",
      "metadata": {
        "id": "RyrR7KLNSPtu",
        "colab_type": "code",
        "colab": {}
      },
      "source": [
        "# cal_dr - Tinh DR\n",
        "def cal_dr(ids_model, normal, raw_attack, adversarial_attack):\n",
        "    # Make data to feed IDS contain: Attack & Normal\n",
        "    o_ids_input = th.cat((raw_attack, normal))\n",
        "    a_ids_input = th.cat((adversarial_attack,normal))\n",
        "    # Shuffle Input\n",
        "    l = list(range(len(a_ids_input)))\n",
        "    np.random.shuffle(l)\n",
        "    o_ids_input = o_ids_input[l]\n",
        "    a_ids_input = a_ids_input[l]\n",
        "    # IDS Predict Label\n",
        "    o_pred_label = th.Tensor(ids_model.predict(o_ids_input))\n",
        "    a_pred_label = th.Tensor(ids_model.predict(a_ids_input))\n",
        "    # True Label\n",
        "    ids_true_label = np.r_[np.ones(BATCH_SIZE),np.zeros(BATCH_SIZE)][l]\n",
        "    # Calc DR\n",
        "    tn1, fn1, fp1, tp1 = confusion_matrix(ids_true_label,o_pred_label).ravel()\n",
        "    tn2, fn2, fp2, tp2 = confusion_matrix(ids_true_label,a_pred_label).ravel()\n",
        "    origin_dr = tp1/(tp1 + fp1)\n",
        "    adversarial_dr = tp2/(tp2 + fp2)\n",
        "    return origin_dr, adversarial_dr"
      ],
      "execution_count": 12,
      "outputs": []
    },
    {
      "cell_type": "markdown",
      "metadata": {
        "id": "nDp5Uy_HaShp",
        "colab_type": "text"
      },
      "source": [
        "# **3. Run Model**"
      ]
    },
    {
      "cell_type": "code",
      "metadata": {
        "id": "7hTHJcBcRKjg",
        "colab_type": "code",
        "cellView": "both",
        "colab": {
          "base_uri": "https://localhost:8080/",
          "height": 50
        },
        "outputId": "2bfb5765-0d83-4b80-d729-1f481f32f940"
      },
      "source": [
        "#@title **CONSTS**\n",
        "ids_ml_model_name = \"LogicticRegression\" #@param ['LogicticRegression', 'sklearn_SVM', 'GaussianNB', 'DT', 'RF', 'KNN']\n",
        "ids_created_date = '2020-07-10' #@param [\"2020-07-08\",\"2020-07-10\", \"2020-07-11\"]\n",
        "GAN_variant = 'WGAN' #@param ['WGAN', 'WGANGP']\n",
        "MAX_EPOCH = 100 #@param [100, 10, 2] {type:\"raw\"}\n",
        "ATTACK_CATEGORIES = 'ALL' #@param ['ALL', 'DOS', 'U2R_AND_R2L']\n",
        "if ATTACK_CATEGORIES == 'ALL':\n",
        "    ATTACK_CATEGORIES = ['DOS', 'U2R_AND_R2L']\n",
        "else:\n",
        "    ATTACK_CATEGORIES = [ATTACK_CATEGORIES]\n",
        "print(f\"ATTACK_CATEGORIES: \\t\\t{ATTACK_CATEGORIES}\")\n",
        "\n",
        "ADVERSARIAL_ATTACK_TYPES = 1 #@param [0, 1, 2, 3] {type:\"raw\"}\n",
        "if ADVERSARIAL_ATTACK_TYPES == 0:\n",
        "    ADVERSARIAL_ATTACK_TYPES = [1, 2, 3]\n",
        "else:\n",
        "    ADVERSARIAL_ATTACK_TYPES = [ADVERSARIAL_ATTACK_TYPES]\n",
        "print(f\"ADVERSARIAL_ATTACK_TYPES: \\t{ADVERSARIAL_ATTACK_TYPES}\")\n",
        "\n",
        "NOISE_DIM = 0 #@param[0, 9, 41] {type:\"raw\"}\n",
        "if NOISE_DIM != 0:\n",
        "    is_use_noise_dim = True\n",
        "else:\n",
        "    is_use_noise_dim = False"
      ],
      "execution_count": 27,
      "outputs": [
        {
          "output_type": "stream",
          "text": [
            "ATTACK_CATEGORIES: \t\t['DOS', 'U2R_AND_R2L']\n",
            "ADVERSARIAL_ATTACK_TYPES: \t[1]\n"
          ],
          "name": "stdout"
        }
      ]
    },
    {
      "cell_type": "code",
      "metadata": {
        "id": "Cxp8dHhO9i7w",
        "colab_type": "code",
        "colab": {
          "base_uri": "https://localhost:8080/",
          "height": 50
        },
        "outputId": "116260bb-a5b6-457d-a580-9d4cdd65ab8a"
      },
      "source": [
        "print(is_use_noise_dim)\n",
        "\n",
        "x = NOISE_DIM if is_use_noise_dim else 10\n",
        "\n",
        "print(x)"
      ],
      "execution_count": 31,
      "outputs": [
        {
          "output_type": "stream",
          "text": [
            "False\n",
            "10\n"
          ],
          "name": "stdout"
        }
      ]
    },
    {
      "cell_type": "markdown",
      "metadata": {
        "id": "s8tEzhBNxvGM",
        "colab_type": "text"
      },
      "source": [
        "##**3.1 Run IDSGAN**"
      ]
    },
    {
      "cell_type": "code",
      "metadata": {
        "id": "j01YlgClq7yq",
        "colab_type": "code",
        "colab": {}
      },
      "source": [
        "# Hyber Parameters\n",
        "BATCH_SIZE = 64\n",
        "learning_rate = 0.0001\n",
        "LAMBDA = 10\n",
        "CLAMP = 0.01\n",
        "CRITIC_ITERS = 5          # For WGAN and WGAN-GP, number of critic iters per gen iter\n",
        "\n",
        "# GAN-D\n",
        "D_INPUT_DIM = N_FEATURES\n",
        "D_OUTPUT_DIM = 1\n",
        "discriminator = Discriminator(D_INPUT_DIM,D_OUTPUT_DIM)\n",
        "optimizer_D = optim.RMSprop(discriminator.parameters(), lr=learning_rate)"
      ],
      "execution_count": null,
      "outputs": []
    },
    {
      "cell_type": "code",
      "metadata": {
        "id": "xG09yA2D9bzg",
        "colab_type": "code",
        "colab": {
          "base_uri": "https://localhost:8080/",
          "height": 50
        },
        "outputId": "7a795dce-894f-4e2b-ce3f-f1d8a0391c27"
      },
      "source": [
        "# Get today to set created time for GAN models\n",
        "today = str(date.today())\n",
        "\n",
        "## Prepare Dataset\n",
        "g_train_data = pd.read_csv(g_trainset_path)\n",
        "d_train_data = pd.read_csv(d_trainset_path)\n",
        "\n",
        "# All normal record in train_data\n",
        "del d_train_data[\"class\"]\n",
        "normal = np.array(d_train_data)\n",
        "\n",
        "print(\"Amout of Generator Trainset:\", g_train_data.shape[0])\n",
        "print(\"Amout of Discriminator Trainset:\", d_train_data.shape[0])"
      ],
      "execution_count": null,
      "outputs": [
        {
          "output_type": "stream",
          "text": [
            "Amout of Generator Trainset: 23488\n",
            "Amout of Discriminator Trainset: 33672\n"
          ],
          "name": "stdout"
        }
      ]
    },
    {
      "cell_type": "code",
      "metadata": {
        "id": "m9C1uFo0vnv7",
        "colab_type": "code",
        "colab": {
          "base_uri": "https://localhost:8080/",
          "height": 1000
        },
        "outputId": "6f77c0c0-102d-4b96-fde6-18774eb853c8"
      },
      "source": [
        "print(f\"{40*'='} TRAINING GAN {40*'='}\")\n",
        "print(f\"{80*'='}\\n IDS Model: {ids_ml_model_name}\")\n",
        "\n",
        "for adversarial_attack_type in ADVERSARIAL_ATTACK_TYPES:\n",
        "    print(f\"{80*'*'}\\n  Adversarial Attack Type : {adversarial_attack_type}\")\n",
        "    for attack_category in ATTACK_CATEGORIES:\n",
        "        print(f\"{80*'-'}\\n    Attack Category: {attack_category}\")\n",
        "        total_time_start = timeit.default_timer()\n",
        "\n",
        "        # Load sklearn IDS Model\n",
        "        ids_model = load_sklearn_ids_model(ids_ml_model_name, attack_category, ids_created_date)\n",
        "        # Init GAN-G model\n",
        "        G_OUTPUT_DIM = len(POS_NONFUNCTIONAL_FEATURES[attack_category])     # Generator output is number of nonfunctional feature\n",
        "        NOISE_DIM = NOISE_DIM if is_use_noise_dim else G_OUTPUT_DIM           # Noise dimension is a choosen number or the nonfunctional features dim.\n",
        "        G_INPUT_DIM = NOISE_DIM                                             # G_INPUT_DIM = NOISE_DIM\n",
        "        generator = init_generator(G_INPUT_DIM,G_OUTPUT_DIM, adversarial_attack_type)\n",
        "        optimizer_G = optim.RMSprop(generator.parameters(), lr=learning_rate)\n",
        "        # Load Raw Attack Dataset\n",
        "        raw_attack = preprocess_malicious_data(g_train_data, attack_category)\n",
        "        # Prepare Save Folder\n",
        "        GAN_4IDS_Model_Path = str(f\"{GAN_Model_Path}Machine_Learning/{ids_ml_model_name}/\")\n",
        "        if not os.path.exists(GAN_4IDS_Model_Path):\n",
        "            os.makedirs(GAN_4IDS_Model_Path)\n",
        "        \n",
        "        GAN_Save_Path = str(f\"{GAN_4IDS_Model_Path}{attack_category}/{adversarial_attack_type}/\")\n",
        "        if not os.path.exists(GAN_Save_Path):\n",
        "            os.makedirs(GAN_Save_Path)\n",
        "\n",
        "        # Create batch of attack traffic\n",
        "        batch_attack = create_batch2(raw_attack,BATCH_SIZE)\n",
        "        # Declare Loss, DR List and Train GAN-G, GAN-D\n",
        "        d_losses,g_losses = [],[]\n",
        "        o_dr, a_dr = [],[]\n",
        "        generator.train()\n",
        "        discriminator.train()\n",
        "\n",
        "        # Start Training\n",
        "        print(f\"-->IDSGAN start training\")\n",
        "        print(f\"{4*' '}Folder for saving GAN Models : {GAN_Save_Path}\")\n",
        "        labels = ['Epoch', 'G-Loss', 'D-Loss', 'O-DR(%)', 'A-DR(%)', 'Runtime(s)']\n",
        "        print(\"{: >10} {: >15} {: >15} {: >15} {: >15} {: >15}\".format(*labels))\n",
        "        for epoch in range(MAX_EPOCH):\n",
        "            batch_normal = create_batch2(normal,BATCH_SIZE)\n",
        "            epoch_time_start = timeit.default_timer()\n",
        "            cnt = 0\n",
        "            run_g_loss = 0.\n",
        "            run_d_loss = 0.\n",
        "            epoch_o_drs, epoch_a_drs = [], []\n",
        "\n",
        "            for idx, bn in enumerate(batch_normal):\n",
        "                normal_b = th.Tensor(bn.astype(\"float64\"))\n",
        "                attack_traffic  = V(th.Tensor(batch_attack[idx % len(batch_attack)]))\n",
        "                #  Train Generator\n",
        "                g_loss = train_generator(generator, discriminator, optimizer_G, NOISE_DIM, attack_traffic, attack_category, adversarial_attack_type)\n",
        "                run_g_loss += g_loss.item()\n",
        "\n",
        "                # Train Discriminator\n",
        "                d_loss, current_cnt = train_discriminator(discriminator, ids_model, generator, CRITIC_ITERS, CLAMP, optimizer_D, normal_b, NOISE_DIM, attack_traffic, attack_category, adversarial_attack_type)\n",
        "                run_d_loss += d_loss\n",
        "                cnt += current_cnt\n",
        "                \n",
        "                # CALC Epoch DR\n",
        "                adversarial_attack = gen_adversarial_attack(generator, G_INPUT_DIM, attack_traffic, attack_category, adversarial_attack_type).detach()\n",
        "                origin_dr, adversarial_dr = cal_dr(ids_model, normal_b, attack_traffic, adversarial_attack)\n",
        "                epoch_o_drs.append(origin_dr)\n",
        "                epoch_a_drs.append(adversarial_dr)\n",
        "\n",
        "            if cnt >= (len(normal)/BATCH_SIZE):\n",
        "                print(\"Not exist predicted attack traffic\")\n",
        "                break\n",
        "            d_losses.append(run_d_loss/CRITIC_ITERS)\n",
        "            g_losses.append(run_g_loss)\n",
        "            epoch_o_dr = np.mean(epoch_o_drs)\n",
        "            epoch_a_dr = np.mean(epoch_a_drs)\n",
        "            o_dr.append(epoch_o_dr)\n",
        "            a_dr.append(epoch_a_dr)\n",
        "            \n",
        "            runtime = timeit.default_timer() - epoch_time_start\n",
        "            print_vals = [(epoch + 1), run_g_loss, (run_d_loss/CRITIC_ITERS), (epoch_o_dr*100), (epoch_a_dr*100), runtime]\n",
        "            print_string = []\n",
        "            for val in print_vals:\n",
        "                if isinstance(val, float):\n",
        "                    print_string.append(str(f\"{val:.2f}\"))\n",
        "                else:\n",
        "                    print_string.append(str(val))\n",
        "            print(\"{: >10} {: >15} {: >15} {: >15} {: >15} {: >15}\".format(*print_string))\n",
        "            # Save Adversarial Dataset each 10 epoch\n",
        "            if (epoch == 0 or (epoch + 1) % 10 == 0):\n",
        "                model_g_save_name = f\"time_created_{today}_GAN_G_{epoch+1}epoch.pth\"\n",
        "                path = GAN_Save_Path + model_g_save_name\n",
        "                th.save(generator.state_dict(), path)\n",
        "                print(f\"{6*' '}-> GAN-G - {attack_category} - A{adversarial_attack_type} Saved: {model_g_save_name}\")\n",
        "        total_runtime = timeit.default_timer() - total_time_start\n",
        "        # Save Model\n",
        "        model_d_save_name = f\"time_created_{today}_GAN_D_{MAX_EPOCH}epoch.pth\"\n",
        "        path = GAN_Save_Path + model_d_save_name\n",
        "        th.save(discriminator.state_dict(), path)\n",
        "        print(f\"{6*' '}-> GAN-D - {attack_category} - A{adversarial_attack_type}Saved: {model_d_save_name}\")\n",
        "        print(f\"Training Runtime: {total_runtime:.2f}\")\n",
        "        print(\"IDSGAN finish training!\")\n",
        "        \n",
        "        # Show Graph\n",
        "        # Loss-Graph\n",
        "        plt.plot(d_losses,label = \"D_loss\")\n",
        "        plt.plot(g_losses, label = \"G_loss\")\n",
        "        plt.legend()\n",
        "        plt.show()\n",
        "        # DR-Graph\n",
        "        plt.plot(o_dr,label = \"Origin DR\")\n",
        "        plt.plot(a_dr, label = \"Adversarial DR\")\n",
        "        plt.legend()\n",
        "        plt.show()\n"
      ],
      "execution_count": null,
      "outputs": [
        {
          "output_type": "stream",
          "text": [
            "======================================== TRAINING GAN ========================================\n",
            "================================================================================\n",
            " IDS Model: LogicticRegression\n",
            "********************************************************************************\n",
            "  Adversarial Attack Type : 1\n",
            "--------------------------------------------------------------------------------\n",
            "    Attack Category: DOS\n",
            "    Loaded IDS Model From: /content/drive/My Drive/Study/KLTN/Saved Model/IDSModel/DOS/Machine_Learning/created_date_2020-07-10_LogicticRegression.pkl\n",
            "-->IDSGAN start training\n",
            "    Folder for saving GAN Models : /content/drive/My Drive/Study/KLTN/Saved Model/GANModel/Machine_Learning/LogicticRegression/DOS/1/\n",
            "     Epoch          G-Loss          D-Loss         O-DR(%)         A-DR(%)      Runtime(s)\n",
            "         1           -7.33           -1.50           96.98            1.96           21.65\n",
            "      -> GAN-G - DOS - A1 Saved: time_created_2020-07-12_GAN_G_1epoch.pth\n",
            "         2           -9.59           -1.28           96.98            0.49           17.28\n",
            "         3          -10.72           -1.56           96.98            0.00           15.36\n",
            "         4          -10.58           -1.60           96.98            0.00           15.39\n",
            "         5          -10.47           -1.66           96.98            0.00           15.20\n",
            "         6          -10.49           -1.64           96.98            0.00           15.90\n",
            "         7          -10.43           -1.67           96.98            0.00           16.53\n",
            "         8          -10.54           -1.64           96.98            0.00           17.01\n",
            "         9          -10.49           -1.67           96.98            0.00           18.12\n",
            "        10          -10.55           -1.68           96.98            0.00           17.50\n",
            "      -> GAN-G - DOS - A1 Saved: time_created_2020-07-12_GAN_G_10epoch.pth\n",
            "        11          -10.51           -1.56           96.98            0.00           17.01\n",
            "        12          -10.49           -1.71           96.98            0.00           18.23\n",
            "        13          -10.51           -1.63           96.98            0.00           16.97\n",
            "        14          -10.52           -1.60           96.98            0.00           17.14\n",
            "        15          -10.49           -1.65           96.98            0.00           16.80\n",
            "        16          -10.50           -1.60           96.98            0.00           16.75\n",
            "        17          -10.54           -1.66           96.98            0.00           17.86\n",
            "        18          -10.23           -1.68           96.98            0.00           17.56\n",
            "        19          -10.53           -1.68           96.98            0.00           17.66\n",
            "        20          -10.49           -1.60           96.98            0.00           16.85\n",
            "      -> GAN-G - DOS - A1 Saved: time_created_2020-07-12_GAN_G_20epoch.pth\n",
            "        21          -10.45           -1.71           96.98            0.00           17.27\n",
            "        22          -10.53           -1.62           96.98            0.00           16.53\n",
            "        23          -10.50           -1.69           96.98            0.00           15.97\n",
            "        24          -10.53           -1.64           96.98            0.00           15.68\n",
            "        25          -10.39           -1.73           96.98            0.00           16.56\n",
            "        26          -10.56           -1.63           96.98            0.00           15.53\n",
            "        27          -10.55           -1.59           96.98            0.00           14.99\n",
            "        28          -10.57           -1.58           96.98            0.00           15.29\n",
            "        29          -10.53           -1.60           96.98            0.00           15.03\n",
            "        30          -10.49           -1.64           96.98            0.00           15.22\n",
            "      -> GAN-G - DOS - A1 Saved: time_created_2020-07-12_GAN_G_30epoch.pth\n",
            "        31          -10.51           -1.60           96.98            0.00           14.95\n",
            "        32          -10.52           -1.67           96.98            0.00           15.31\n",
            "        33          -10.51           -1.64           96.98            0.00           15.25\n",
            "        34          -10.46           -1.66           96.98            0.00           15.14\n",
            "        35          -10.48           -1.63           96.98            0.00           15.39\n",
            "        36          -10.45           -1.62           96.98            0.00           14.69\n",
            "        37          -10.53           -1.62           96.98            0.00           15.51\n",
            "        38          -10.54           -1.64           96.98            0.00           15.66\n",
            "        39          -10.53           -1.65           96.98            0.00           15.58\n",
            "        40          -10.56           -1.64           96.98            0.00           15.22\n",
            "      -> GAN-G - DOS - A1 Saved: time_created_2020-07-12_GAN_G_40epoch.pth\n",
            "        41          -10.51           -1.60           96.98            0.00           15.17\n",
            "        42          -10.47           -1.71           96.98            0.00           15.47\n",
            "        43          -10.52           -1.63           96.98            0.00           15.01\n",
            "        44          -10.53           -1.66           96.98            0.00           15.23\n",
            "        45          -10.55           -1.65           96.98            0.00           15.17\n",
            "        46          -10.50           -1.62           96.98            0.00           15.24\n",
            "        47          -10.61           -1.57           96.98            0.00           14.86\n",
            "        48          -10.49           -1.62           96.98            0.00           15.51\n",
            "        49          -10.48           -1.69           96.98            0.00           15.38\n",
            "        50          -10.53           -1.64           96.98            0.00           15.48\n",
            "      -> GAN-G - DOS - A1 Saved: time_created_2020-07-12_GAN_G_50epoch.pth\n",
            "        51          -10.41           -1.68           96.98            0.00           15.38\n",
            "        52          -10.55           -1.62           96.98            0.00           14.84\n",
            "        53          -10.48           -1.70           96.98            0.00           15.23\n",
            "        54          -10.43           -1.65           96.98            0.00           15.11\n",
            "        55          -10.52           -1.68           96.98            0.00           15.05\n",
            "        56          -10.46           -1.70           96.98            0.00           15.09\n",
            "        57          -10.53           -1.65           96.98            0.00           16.08\n",
            "        58          -10.46           -1.61           96.98            0.00           16.12\n",
            "        59          -10.48           -1.69           96.98            0.00           16.63\n",
            "        60          -10.54           -1.51           96.98            0.00           15.66\n",
            "      -> GAN-G - DOS - A1 Saved: time_created_2020-07-12_GAN_G_60epoch.pth\n",
            "        61          -10.48           -1.63           96.98            0.00           16.90\n",
            "        62          -10.45           -1.67           96.98            0.00           16.12\n",
            "        63          -10.55           -1.63           96.98            0.00           15.65\n",
            "        64          -10.56           -1.64           96.98            0.00           15.32\n",
            "        65          -10.49           -1.58           96.98            0.00           15.09\n",
            "        66          -10.49           -1.64           96.98            0.00           14.89\n",
            "        67          -10.47           -1.60           96.98            0.00           14.95\n",
            "        68          -10.60           -1.63           96.98            0.00           15.57\n",
            "        69          -10.51           -1.61           96.98            0.00           15.21\n",
            "        70          -10.41           -1.65           96.98            0.00           15.46\n",
            "      -> GAN-G - DOS - A1 Saved: time_created_2020-07-12_GAN_G_70epoch.pth\n",
            "        71          -10.51           -1.69           96.98            0.00           15.08\n",
            "        72          -10.45           -1.68           96.98            0.00           15.12\n",
            "        73          -10.46           -1.63           96.98            0.00           15.05\n",
            "        74          -10.41           -1.61           96.98            0.00           14.73\n",
            "        75          -10.58           -1.62           96.98            0.00           14.71\n",
            "        76          -10.49           -1.64           96.98            0.00           15.08\n",
            "        77          -10.53           -1.66           96.98            0.00           15.12\n",
            "        78          -10.44           -1.73           96.98            0.00           15.62\n",
            "        79          -10.51           -1.63           96.98            0.00           14.89\n",
            "        80          -10.51           -1.66           96.98            0.00           15.30\n",
            "      -> GAN-G - DOS - A1 Saved: time_created_2020-07-12_GAN_G_80epoch.pth\n",
            "        81          -10.50           -1.70           96.98            0.00           15.26\n",
            "        82          -10.52           -1.58           96.98            0.00           14.90\n",
            "        83          -10.50           -1.61           96.98            0.00           14.90\n",
            "        84          -10.49           -1.65           96.98            0.00           14.88\n",
            "        85          -10.51           -1.70           96.98            0.00           15.14\n",
            "        86          -10.50           -1.62           96.98            0.00           14.92\n",
            "        87          -10.54           -1.63           96.98            0.00           14.82\n",
            "        88          -10.43           -1.73           96.98            0.00           15.20\n",
            "        89          -10.47           -1.65           96.98            0.00           15.55\n",
            "        90          -10.54           -1.56           96.98            0.00           14.88\n",
            "      -> GAN-G - DOS - A1 Saved: time_created_2020-07-12_GAN_G_90epoch.pth\n",
            "        91          -10.55           -1.60           96.98            0.00           14.68\n",
            "        92          -10.56           -1.60           96.98            0.00           14.54\n",
            "        93          -10.58           -1.62           96.98            0.00           14.92\n",
            "        94          -10.54           -1.66           96.98            0.00           15.08\n",
            "        95          -10.50           -1.55           96.98            0.00           14.42\n",
            "        96          -10.44           -1.63           96.98            0.00           15.09\n",
            "        97          -10.50           -1.63           96.98            0.00           15.04\n",
            "        98          -10.48           -1.60           96.98            0.00           14.80\n",
            "        99          -10.52           -1.61           96.98            0.00           14.96\n",
            "       100          -10.51           -1.61           96.98            0.00           14.72\n",
            "      -> GAN-G - DOS - A1 Saved: time_created_2020-07-12_GAN_G_100epoch.pth\n",
            "      -> GAN-D - DOS - A1Saved: time_created_2020-07-12_GAN_D_100epoch.pth\n",
            "Training Runtime: 1574.30\n",
            "IDSGAN finish training!\n"
          ],
          "name": "stdout"
        },
        {
          "output_type": "display_data",
          "data": {
            "image/png": "[encoded data removed]",
            "text/plain": [
              "<Figure size 432x288 with 1 Axes>"
            ]
          },
          "metadata": {
            "tags": [],
            "needs_background": "light"
          }
        },
        {
          "output_type": "display_data",
          "data": {
            "image/png": "[encoded data removed]",
            "text/plain": [
              "<Figure size 432x288 with 1 Axes>"
            ]
          },
          "metadata": {
            "tags": [],
            "needs_background": "light"
          }
        },
        {
          "output_type": "stream",
          "text": [
            "--------------------------------------------------------------------------------\n",
            "    Attack Category: U2R_AND_R2L\n",
            "    Loaded IDS Model From: /content/drive/My Drive/Study/KLTN/Saved Model/IDSModel/U2R_AND_R2L/Machine_Learning/created_date_2020-07-10_LogicticRegression.pkl\n",
            "-->IDSGAN start training\n",
            "    Folder for saving GAN Models : /content/drive/My Drive/Study/KLTN/Saved Model/GANModel/Machine_Learning/LogicticRegression/U2R_AND_R2L/1/\n",
            "     Epoch          G-Loss          D-Loss         O-DR(%)         A-DR(%)      Runtime(s)\n",
            "         1           -6.34           -0.29           40.44            0.00           10.41\n",
            "      -> GAN-G - U2R_AND_R2L - A1 Saved: time_created_2020-07-12_GAN_G_1epoch.pth\n",
            "         2           -7.88           -0.62           40.44            0.00           10.50\n",
            "         3           -8.70           -0.77           40.44            0.00           10.59\n",
            "         4           -8.45           -0.77           40.44            0.00           10.44\n",
            "         5           -9.48           -0.77           40.44            0.00           10.41\n",
            "         6           -9.27           -0.78           40.44            0.00           10.52\n",
            "         7           -9.52           -0.77           40.44            0.00           10.55\n",
            "         8           -9.40           -0.75           40.44            0.00           10.36\n",
            "         9           -9.61           -0.74           40.44            0.00           10.70\n",
            "        10           -8.91           -0.81           40.44            0.00           10.60\n",
            "      -> GAN-G - U2R_AND_R2L - A1 Saved: time_created_2020-07-12_GAN_G_10epoch.pth\n",
            "        11           -7.03           -0.80           40.44            0.00           10.73\n",
            "        12           -6.63           -0.85           40.44            0.00           10.66\n",
            "        13           -7.03           -0.86           40.44            0.00           11.24\n",
            "        14           -8.46           -0.82           40.44            0.00           11.09\n",
            "        15           -9.53           -0.83           40.44            0.00           10.87\n",
            "        16           -9.98           -0.80           40.44            0.00           10.62\n",
            "        17           -9.01           -0.83           40.44            0.00           10.62\n",
            "        18          -10.11           -0.81           40.44            0.00           10.65\n",
            "        19           -9.52           -0.85           40.44            0.00           10.74\n",
            "        20           -7.77           -0.86           40.44            0.00           10.74\n",
            "      -> GAN-G - U2R_AND_R2L - A1 Saved: time_created_2020-07-12_GAN_G_20epoch.pth\n",
            "        21           -6.21           -0.85           40.44            0.00           10.86\n",
            "        22           -9.37           -0.81           40.44            0.00           10.62\n",
            "        23           -9.41           -0.86           40.44            0.00           10.62\n",
            "        24          -10.13           -0.82           40.44            0.00           10.65\n",
            "        25           -9.54           -0.83           40.44            0.00           10.80\n",
            "        26          -10.22           -0.80           40.44            0.00           10.44\n",
            "        27           -9.96           -0.84           40.44            0.00           10.76\n",
            "        28           -9.50           -0.85           40.44            0.00           10.87\n",
            "        29           -7.13           -0.82           40.44            0.00           11.01\n",
            "        30           -8.90           -0.82           40.44            0.00           10.67\n",
            "      -> GAN-G - U2R_AND_R2L - A1 Saved: time_created_2020-07-12_GAN_G_30epoch.pth\n",
            "        31           -9.88           -0.79           40.44            0.00           10.76\n",
            "        32          -10.03           -0.81           40.44            0.00           10.79\n",
            "        33           -8.03           -0.87           40.44            0.00           10.76\n",
            "        34           -7.99           -0.85           40.44            0.00           10.56\n",
            "        35           -9.34           -0.82           40.44            0.00           10.45\n",
            "        36           -9.59           -0.85           40.44            0.00           10.62\n",
            "        37          -10.07           -0.81           40.44            0.00           10.65\n",
            "        38           -8.50           -0.88           40.44            0.00           10.71\n",
            "        39           -8.75           -0.81           40.44            0.00           10.42\n",
            "        40           -9.75           -0.82           40.44            0.00           10.58\n",
            "      -> GAN-G - U2R_AND_R2L - A1 Saved: time_created_2020-07-12_GAN_G_40epoch.pth\n",
            "        41          -10.13           -0.82           40.44            0.00           10.74\n",
            "        42           -9.99           -0.84           40.44            0.00           11.01\n",
            "        43           -9.78           -0.83           40.44            0.00           10.95\n",
            "        44           -6.93           -0.83           40.44            0.00           10.77\n",
            "        45           -9.97           -0.78           40.44            0.00           10.61\n",
            "        46           -9.83           -0.83           40.44            0.00           10.90\n",
            "        47           -9.48           -0.81           40.44            0.00           10.74\n",
            "        48          -10.16           -0.83           40.44            0.00           10.80\n",
            "        49           -9.98           -0.81           40.44            0.00           10.73\n",
            "        50          -10.15           -0.83           40.44            0.00           10.74\n",
            "      -> GAN-G - U2R_AND_R2L - A1 Saved: time_created_2020-07-12_GAN_G_50epoch.pth\n",
            "        51           -9.90           -0.85           40.44            0.00           10.80\n",
            "        52           -7.89           -0.84           40.44            0.00           10.81\n",
            "        53           -9.07           -0.86           40.44            0.00           10.80\n",
            "        54           -3.80           -0.88           40.44            0.00           10.87\n",
            "        55           -4.87           -0.81           40.44            0.00           10.68\n",
            "        56           -7.76           -0.84           40.44            0.00           10.84\n",
            "        57           -8.84           -0.83           40.44            0.00           10.87\n",
            "        58          -10.00           -0.82           40.44            0.00           10.66\n",
            "        59           -9.80           -0.85           40.44            0.00           10.94\n",
            "        60           -8.73           -0.85           40.44            0.00           10.75\n",
            "      -> GAN-G - U2R_AND_R2L - A1 Saved: time_created_2020-07-12_GAN_G_60epoch.pth\n",
            "        61           -9.75           -0.85           40.44            0.00           10.63\n",
            "        62           -8.65           -0.82           40.44            0.00           10.45\n",
            "        63           -9.89           -0.82           40.44            0.00           10.44\n",
            "        64           -9.12           -0.85           40.44            0.00           10.50\n",
            "        65          -10.18           -0.83           40.44            0.00           10.74\n",
            "        66           -7.21           -0.85           40.44            0.00           11.29\n",
            "        67           -8.05           -0.82           40.44            0.00           10.58\n",
            "        68           -9.99           -0.84           40.44            0.00           10.84\n",
            "        69          -10.11           -0.80           40.44            0.00           10.74\n",
            "        70           -9.89           -0.84           40.44            0.00           11.00\n",
            "      -> GAN-G - U2R_AND_R2L - A1 Saved: time_created_2020-07-12_GAN_G_70epoch.pth\n",
            "        71          -10.14           -0.80           40.44            0.00           11.38\n",
            "        72          -10.02           -0.82           40.44            0.00           10.84\n",
            "        73           -9.79           -0.82           40.44            0.00           10.66\n",
            "        74          -10.01           -0.79           40.44            0.00           10.45\n",
            "        75          -10.29           -0.79           40.44            0.00           10.48\n",
            "        76          -10.21           -0.80           40.44            0.00           10.84\n",
            "        77          -10.10           -0.83           40.44            0.00           10.79\n",
            "        78           -9.83           -0.86           40.44            0.00           10.85\n",
            "        79           -7.72           -0.84           40.44            0.00           11.13\n",
            "        80           -9.35           -0.85           40.44            0.00           11.00\n",
            "      -> GAN-G - U2R_AND_R2L - A1 Saved: time_created_2020-07-12_GAN_G_80epoch.pth\n",
            "        81           -9.72           -0.82           40.44            0.00           10.83\n",
            "        82           -9.86           -0.84           40.44            0.00           11.11\n",
            "        83          -10.09           -0.83           40.44            0.00           10.95\n",
            "        84           -9.57           -0.84           40.44            0.00           11.10\n",
            "        85          -10.16           -0.81           40.44            0.00           11.21\n",
            "        86           -7.96           -0.85           40.44            0.00           11.04\n",
            "        87           -6.98           -0.83           40.44            0.00           11.01\n",
            "        88           -7.50           -0.83           40.44            0.00           11.08\n",
            "        89           -9.77           -0.79           40.44            0.00           10.96\n",
            "        90          -10.01           -0.83           40.44            0.00           10.73\n",
            "      -> GAN-G - U2R_AND_R2L - A1 Saved: time_created_2020-07-12_GAN_G_90epoch.pth\n",
            "        91          -10.08           -0.81           40.44            0.00           10.63\n",
            "        92           -9.64           -0.82           40.44            0.00           10.89\n",
            "        93          -10.12           -0.83           40.44            0.00           10.66\n",
            "        94           -9.73           -0.86           40.44            0.00           10.60\n",
            "        95           -8.82           -0.82           40.44            0.00           10.65\n",
            "        96           -9.70           -0.83           40.44            0.00           10.81\n",
            "        97           -9.13           -0.80           40.44            0.00           10.58\n",
            "        98           -9.88           -0.83           40.44            0.00           10.90\n",
            "        99           -9.62           -0.75           40.44            0.00           11.25\n",
            "       100          -10.09           -0.82           40.44            0.00           10.66\n",
            "      -> GAN-G - U2R_AND_R2L - A1 Saved: time_created_2020-07-12_GAN_G_100epoch.pth\n",
            "      -> GAN-D - U2R_AND_R2L - A1Saved: time_created_2020-07-12_GAN_D_100epoch.pth\n",
            "Training Runtime: 1086.86\n",
            "IDSGAN finish training!\n"
          ],
          "name": "stdout"
        },
        {
          "output_type": "display_data",
          "data": {
            "image/png": "[encoded data removed]",
            "text/plain": [
              "<Figure size 432x288 with 1 Axes>"
            ]
          },
          "metadata": {
            "tags": [],
            "needs_background": "light"
          }
        },
        {
          "output_type": "display_data",
          "data": {
            "image/png": "[encoded data removed]",
            "text/plain": [
              "<Figure size 432x288 with 1 Axes>"
            ]
          },
          "metadata": {
            "tags": [],
            "needs_background": "light"
          }
        }
      ]
    },
    {
      "cell_type": "markdown",
      "metadata": {
        "id": "jQNXCNMEx1bn",
        "colab_type": "text"
      },
      "source": [
        "## **3.2 Run Generate Adversarial Traffic**"
      ]
    },
    {
      "cell_type": "code",
      "metadata": {
        "id": "I0w_F6zKcgrF",
        "colab_type": "code",
        "colab": {}
      },
      "source": [
        "# Hyber Parameters\n",
        "BATCH_SIZE = 256 # Batch size"
      ],
      "execution_count": 23,
      "outputs": []
    },
    {
      "cell_type": "code",
      "metadata": {
        "id": "HPx41fPd6CiW",
        "colab_type": "code",
        "colab": {
          "base_uri": "https://localhost:8080/",
          "height": 50
        },
        "outputId": "7794dc56-aa06-451e-c1d0-50e66e18f9c6"
      },
      "source": [
        "gan_model_time_created = '2020-07-12'\n",
        "# gan_model_time_created = str(date.today())\n",
        "\n",
        "# Load Testset\n",
        "testset = pd.read_csv(testset_path)\n",
        "print(f\"Amount of KDDTest+: \\t\\t{len(testset)}\")\n",
        "# test_normal\n",
        "test_normal = np.array(testset[testset[\"class\"] == 'Normal'])[:,:-1]\n",
        "# Create batch of normal traffic\n",
        "test_batch_normal = create_batch2(test_normal,BATCH_SIZE).astype('float64')\n",
        "print(f\"Amount of Normal:\\t\\t{len(test_normal)} ({len(test_batch_normal)} batchs - {BATCH_SIZE} records/batch)\")"
      ],
      "execution_count": 24,
      "outputs": [
        {
          "output_type": "stream",
          "text": [
            "Amount of KDDTest+: \t\t20123\n",
            "Amount of Normal:\t\t9711 (37 batchs - 256 records/batch)\n"
          ],
          "name": "stdout"
        }
      ]
    },
    {
      "cell_type": "code",
      "metadata": {
        "id": "ZhPpd8MCx10u",
        "colab_type": "code",
        "colab": {
          "base_uri": "https://localhost:8080/",
          "height": 906
        },
        "outputId": "956824d0-e9f3-4601-9895-1122ae606c24"
      },
      "source": [
        "# Adversarial Traffic Evaluating\n",
        "print(f\"{40*'='} ADVERSARIAL TRAFFIC EVALUATING {40*'='}\")\n",
        "print(f\"{80*'='}\\n IDS Model: {ids_ml_model_name}\")\n",
        "\n",
        "for adversarial_attack_type in ADVERSARIAL_ATTACK_TYPES:\n",
        "    print(f\"{80*'*'}\\n Adversarial Attack Type : {adversarial_attack_type}\")\n",
        "    for attack_category in ATTACK_CATEGORIES:\n",
        "        print(f\"{80*'-'}\\n - Attack Category: {attack_category}\")\n",
        "        \n",
        "        # Load sklearn IDS Model\n",
        "        ids_model = load_sklearn_ids_model(ids_ml_model_name, attack_category, ids_created_date)\n",
        "        # Init GAN-G model\n",
        "        G_OUTPUT_DIM = len(POS_NONFUNCTIONAL_FEATURES[attack_category])      # Generator input dimension is dimention of noise\n",
        "        NOISE_DIM = NOISE_DIM if is_use_noise_dim else G_OUTPUT_DIM           # Noise dimension is a choosen number or the nonfunctional features dim.\n",
        "        G_INPUT_DIM = NOISE_DIM  \n",
        "        generator = init_generator(G_INPUT_DIM,G_OUTPUT_DIM, adversarial_attack_type)\n",
        "        # Load Attack Dataset\n",
        "        test_raw_attack = preprocess_malicious_data(testset, attack_category)\n",
        "        # Create batch of attack traffic\n",
        "        batch_attack = create_batch2(test_raw_attack, BATCH_SIZE)\n",
        "        n_batch_attack = len(batch_attack)\n",
        "        print(f\"{4*' '}Amout of {attack_category}:\\t{len(test_raw_attack)} ({n_batch_attack} batchs - {BATCH_SIZE} records/batch)\")\n",
        "        \n",
        "        # Calc DR through each epoch\n",
        "        gan_g_folder_path = str(f\"{GAN_Model_Path}Machine_Learning/{ids_ml_model_name}/{attack_category}/{adversarial_attack_type}/\")\n",
        "        print(f\"{4*' '}GAN Models Folder: {gan_g_folder_path}\")\n",
        "        for epoch in range(0, MAX_EPOCH + 1, 10):\n",
        "            # Load GAN-G Model\n",
        "            model_g_save_name = f\"time_created_{gan_model_time_created}_GAN_G_{1 if epoch == 0 else epoch}epoch.pth\"\n",
        "            gan_g_model_path = gan_g_folder_path + model_g_save_name\n",
        "            param = th.load(gan_g_model_path,map_location=lambda x,y:x)\n",
        "            generator.load_state_dict(param)\n",
        "            generator.eval()\n",
        "\n",
        "            o_dr,a_dr =[],[]\n",
        "            with th.no_grad():\n",
        "                for idx, bn in enumerate(test_batch_normal):\n",
        "                    normal_b = th.Tensor(bn)\n",
        "                    attack_b = th.Tensor(batch_attack[idx % n_batch_attack])\n",
        "                    # Generate Adversarial Traffic\n",
        "                    adversarial_attack_b = gen_adversarial_attack(generator, NOISE_DIM, attack_b, attack_category, adversarial_attack_type).detach()\n",
        "\n",
        "                    # Calc DR\n",
        "                    origin_dr, adversarial_dr = cal_dr(ids_model, normal_b, attack_b, adversarial_attack_b)\n",
        "                    o_dr.append(origin_dr)\n",
        "                    a_dr.append(adversarial_dr)\n",
        "            eir = 1 - (np.mean(a_dr)/np.mean(o_dr))\n",
        "            print(f\"\\t {epoch:3d} epochs:\\tOrigin DR : {np.mean(o_dr)*100:.2f}% \\t Adversarial DR : {np.mean(a_dr)*100:.2f}% \\t EIR : {eir*100:.2f}%\")"
      ],
      "execution_count": 33,
      "outputs": [
        {
          "output_type": "stream",
          "text": [
            "======================================== ADVERSARIAL TRAFFIC EVALUATING ========================================\n",
            "================================================================================\n",
            " IDS Model: LogicticRegression\n",
            "********************************************************************************\n",
            " Adversarial Attack Type : 1\n",
            "--------------------------------------------------------------------------------\n",
            " - Attack Category: DOS\n",
            "    Loaded IDS Model From: /content/drive/My Drive/Study/KLTN/Saved Model/IDSModel/DOS/Machine_Learning/created_date_2020-07-10_LogicticRegression.pkl\n",
            "    Amout of DOS:\t7460 (29 batchs - 256 records/batch)\n",
            "    GAN Models Folder: /content/drive/My Drive/Study/KLTN/Saved Model/GANModel/Machine_Learning/LogicticRegression/DOS/1/\n",
            "\t   0 epochs:\tOrigin DR : 79.53% \t Adversarial DR : 0.10% \t EIR : 99.88%\n",
            "\t  10 epochs:\tOrigin DR : 79.53% \t Adversarial DR : 0.00% \t EIR : 100.00%\n",
            "\t  20 epochs:\tOrigin DR : 79.53% \t Adversarial DR : 0.00% \t EIR : 100.00%\n",
            "\t  30 epochs:\tOrigin DR : 79.53% \t Adversarial DR : 0.00% \t EIR : 100.00%\n",
            "\t  40 epochs:\tOrigin DR : 79.53% \t Adversarial DR : 0.00% \t EIR : 100.00%\n",
            "\t  50 epochs:\tOrigin DR : 79.53% \t Adversarial DR : 0.00% \t EIR : 100.00%\n",
            "\t  60 epochs:\tOrigin DR : 79.53% \t Adversarial DR : 0.00% \t EIR : 100.00%\n",
            "\t  70 epochs:\tOrigin DR : 79.53% \t Adversarial DR : 0.00% \t EIR : 100.00%\n",
            "\t  80 epochs:\tOrigin DR : 79.53% \t Adversarial DR : 0.00% \t EIR : 100.00%\n",
            "\t  90 epochs:\tOrigin DR : 79.53% \t Adversarial DR : 0.00% \t EIR : 100.00%\n",
            "\t 100 epochs:\tOrigin DR : 79.53% \t Adversarial DR : 0.00% \t EIR : 100.00%\n",
            "--------------------------------------------------------------------------------\n",
            " - Attack Category: U2R_AND_R2L\n",
            "    Loaded IDS Model From: /content/drive/My Drive/Study/KLTN/Saved Model/IDSModel/U2R_AND_R2L/Machine_Learning/created_date_2020-07-10_LogicticRegression.pkl\n",
            "    Amout of U2R_AND_R2L:\t2952 (11 batchs - 256 records/batch)\n",
            "    GAN Models Folder: /content/drive/My Drive/Study/KLTN/Saved Model/GANModel/Machine_Learning/LogicticRegression/U2R_AND_R2L/1/\n"
          ],
          "name": "stdout"
        },
        {
          "output_type": "error",
          "ename": "RuntimeError",
          "evalue": "ignored",
          "traceback": [
            "\u001b[0;31m---------------------------------------------------------------------------\u001b[0m",
            "\u001b[0;31mRuntimeError\u001b[0m                              Traceback (most recent call last)",
            "\u001b[0;32m<ipython-input-33-5bfd0a8806da>\u001b[0m in \u001b[0;36m<module>\u001b[0;34m()\u001b[0m\n\u001b[1;32m     30\u001b[0m             \u001b[0mgan_g_model_path\u001b[0m \u001b[0;34m=\u001b[0m \u001b[0mgan_g_folder_path\u001b[0m \u001b[0;34m+\u001b[0m \u001b[0mmodel_g_save_name\u001b[0m\u001b[0;34m\u001b[0m\u001b[0;34m\u001b[0m\u001b[0m\n\u001b[1;32m     31\u001b[0m             \u001b[0mparam\u001b[0m \u001b[0;34m=\u001b[0m \u001b[0mth\u001b[0m\u001b[0;34m.\u001b[0m\u001b[0mload\u001b[0m\u001b[0;34m(\u001b[0m\u001b[0mgan_g_model_path\u001b[0m\u001b[0;34m,\u001b[0m\u001b[0mmap_location\u001b[0m\u001b[0;34m=\u001b[0m\u001b[0;32mlambda\u001b[0m \u001b[0mx\u001b[0m\u001b[0;34m,\u001b[0m\u001b[0my\u001b[0m\u001b[0;34m:\u001b[0m\u001b[0mx\u001b[0m\u001b[0;34m)\u001b[0m\u001b[0;34m\u001b[0m\u001b[0;34m\u001b[0m\u001b[0m\n\u001b[0;32m---> 32\u001b[0;31m             \u001b[0mgenerator\u001b[0m\u001b[0;34m.\u001b[0m\u001b[0mload_state_dict\u001b[0m\u001b[0;34m(\u001b[0m\u001b[0mparam\u001b[0m\u001b[0;34m)\u001b[0m\u001b[0;34m\u001b[0m\u001b[0;34m\u001b[0m\u001b[0m\n\u001b[0m\u001b[1;32m     33\u001b[0m             \u001b[0mgenerator\u001b[0m\u001b[0;34m.\u001b[0m\u001b[0meval\u001b[0m\u001b[0;34m(\u001b[0m\u001b[0;34m)\u001b[0m\u001b[0;34m\u001b[0m\u001b[0;34m\u001b[0m\u001b[0m\n\u001b[1;32m     34\u001b[0m \u001b[0;34m\u001b[0m\u001b[0m\n",
            "\u001b[0;32m/usr/local/lib/python3.6/dist-packages/torch/nn/modules/module.py\u001b[0m in \u001b[0;36mload_state_dict\u001b[0;34m(self, state_dict, strict)\u001b[0m\n\u001b[1;32m    845\u001b[0m         \u001b[0;32mif\u001b[0m \u001b[0mlen\u001b[0m\u001b[0;34m(\u001b[0m\u001b[0merror_msgs\u001b[0m\u001b[0;34m)\u001b[0m \u001b[0;34m>\u001b[0m \u001b[0;36m0\u001b[0m\u001b[0;34m:\u001b[0m\u001b[0;34m\u001b[0m\u001b[0;34m\u001b[0m\u001b[0m\n\u001b[1;32m    846\u001b[0m             raise RuntimeError('Error(s) in loading state_dict for {}:\\n\\t{}'.format(\n\u001b[0;32m--> 847\u001b[0;31m                                self.__class__.__name__, \"\\n\\t\".join(error_msgs)))\n\u001b[0m\u001b[1;32m    848\u001b[0m         \u001b[0;32mreturn\u001b[0m \u001b[0m_IncompatibleKeys\u001b[0m\u001b[0;34m(\u001b[0m\u001b[0mmissing_keys\u001b[0m\u001b[0;34m,\u001b[0m \u001b[0munexpected_keys\u001b[0m\u001b[0;34m)\u001b[0m\u001b[0;34m\u001b[0m\u001b[0;34m\u001b[0m\u001b[0m\n\u001b[1;32m    849\u001b[0m \u001b[0;34m\u001b[0m\u001b[0m\n",
            "\u001b[0;31mRuntimeError\u001b[0m: Error(s) in loading state_dict for Generator_A1:\n\tsize mismatch for layer.0.weight: copying a param with shape torch.Size([12, 24]) from checkpoint, the shape in current model is torch.Size([9, 18]).\n\tsize mismatch for layer.0.bias: copying a param with shape torch.Size([12]) from checkpoint, the shape in current model is torch.Size([9]).\n\tsize mismatch for layer.2.weight: copying a param with shape torch.Size([12, 12]) from checkpoint, the shape in current model is torch.Size([9, 9]).\n\tsize mismatch for layer.2.bias: copying a param with shape torch.Size([12]) from checkpoint, the shape in current model is torch.Size([9]).\n\tsize mismatch for layer.4.weight: copying a param with shape torch.Size([12, 12]) from checkpoint, the shape in current model is torch.Size([9, 9]).\n\tsize mismatch for layer.4.bias: copying a param with shape torch.Size([12]) from checkpoint, the shape in current model is torch.Size([9]).\n\tsize mismatch for layer.6.weight: copying a param with shape torch.Size([12, 12]) from checkpoint, the shape in current model is torch.Size([9, 9]).\n\tsize mismatch for layer.6.bias: copying a param with shape torch.Size([12]) from checkpoint, the shape in current model is torch.Size([9]).\n\tsize mismatch for layer.8.weight: copying a param with shape torch.Size([18, 12]) from checkpoint, the shape in current model is torch.Size([18, 9])."
          ]
        }
      ]
    },
    {
      "cell_type": "markdown",
      "metadata": {
        "id": "mwWugTozppL5",
        "colab_type": "text"
      },
      "source": [
        "The Saved Model stored in [Google Drive - GAN Model](https://drive.google.com/drive/u/1/folders/1VNFW-k5SbR0eGsJ_np3U-W3Rcz_n4I8N)\n",
        "\n",
        "The Result of Code stored in [Github - Thesis](https://github.com/thetinybug/thesis-IDSGAN)"
      ]
    }
  ]
}