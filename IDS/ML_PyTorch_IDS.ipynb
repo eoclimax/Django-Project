{
  "nbformat": 4,
  "nbformat_minor": 0,
  "metadata": {
    "colab": {
      "name": "IDS/ML_PyTorch_IDS",
      "provenance": [],
      "collapsed_sections": [],
      "toc_visible": true,
      "include_colab_link": true
    },
    "kernelspec": {
      "name": "python3",
      "display_name": "Python 3"
    },
    "accelerator": "GPU"
  },
  "cells": [
    {
      "cell_type": "markdown",
      "metadata": {
        "id": "view-in-github",
        "colab_type": "text"
      },
      "source": [
        "<a href=\"https://colab.research.google.com/github/thetinybug/Django-Project/blob/master/IDS/ML_PyTorch_IDS.ipynb\" target=\"_parent\"><img src=\"https://colab.research.google.com/assets/colab-badge.svg\" alt=\"Open In Colab\"/></a>"
      ]
    },
    {
      "cell_type": "markdown",
      "metadata": {
        "id": "HfVbgm_IdnMH",
        "colab_type": "text"
      },
      "source": [
        "# **1. Paths - Libs**"
      ]
    },
    {
      "cell_type": "markdown",
      "metadata": {
        "id": "ZZpwkzARtYWL",
        "colab_type": "text"
      },
      "source": [
        "## **Paths**"
      ]
    },
    {
      "cell_type": "code",
      "metadata": {
        "id": "uW-RHzMwdsG5",
        "colab_type": "code",
        "colab": {}
      },
      "source": [
        "base_path = \"/content/drive/My Drive/Study/KLTN/\"\n",
        "# Modules Path\n",
        "ModulePath = base_path + \"/Google Colab/0.0 Python Modules\"\n",
        "\n",
        "# Dataset Path\n",
        "DatasetPath = \"/content/drive/My Drive/Study/KLTN/Dataset/NSL-KDD Processed/Final - For Using/\"\n",
        "train_dataset_path = DatasetPath + \"Trainset/\" + \"IDS.csv\"\n",
        "test_dataset_path = DatasetPath + \"Testset/\" + \"KDDTest+.csv\"\n",
        "\n",
        "# Save Model Path\n",
        "SavedModelPath = \"/content/drive/My Drive/Study/KLTN/Saved Model/IDSModel/\""
      ],
      "execution_count": 1,
      "outputs": []
    },
    {
      "cell_type": "markdown",
      "metadata": {
        "id": "KqQ6bln4tbyj",
        "colab_type": "text"
      },
      "source": [
        "##**Libs**"
      ]
    },
    {
      "cell_type": "code",
      "metadata": {
        "id": "fsyjLcLJts3s",
        "colab_type": "code",
        "colab": {}
      },
      "source": [
        "# INSTALL LIBS\n",
        "# !pip3 install numpy adabound torc sklearn matplotlib pandas"
      ],
      "execution_count": 2,
      "outputs": []
    },
    {
      "cell_type": "code",
      "metadata": {
        "id": "yX-gC2XGfFXq",
        "colab_type": "code",
        "colab": {}
      },
      "source": [
        "# ADD MODULE PATH - TO IMPORT CUSTOM MODULES\n",
        "import sys\n",
        "sys.path.append(ModulePath)"
      ],
      "execution_count": 3,
      "outputs": []
    },
    {
      "cell_type": "code",
      "metadata": {
        "id": "YIQ708lZS2lF",
        "colab_type": "code",
        "colab": {}
      },
      "source": [
        "# IMPORT LIBS\n",
        "import pandas as pd\n",
        "import numpy as np\n",
        "import torch as th\n",
        "from torch.autograd import Variable as V\n",
        "import torch.autograd as autograd\n",
        "import torch.nn as nn\n",
        "import torch.nn.functional as F\n",
        "import torch.optim as optim\n",
        "from sklearn.metrics import confusion_matrix\n",
        "from sklearn.utils import shuffle\n",
        "\n",
        "# Own Custom Module to import models and constants\n",
        "from models import *\n",
        "# from constants import *\n",
        "\n",
        "# For draw Graphs\n",
        "import matplotlib.pyplot as plt\n",
        "\n",
        "# For create Folders\n",
        "import os"
      ],
      "execution_count": 4,
      "outputs": []
    },
    {
      "cell_type": "markdown",
      "metadata": {
        "id": "AEcyndswUIGp",
        "colab_type": "text"
      },
      "source": [
        "## **Consts**"
      ]
    },
    {
      "cell_type": "code",
      "metadata": {
        "id": "ZvUkL-b2US1X",
        "colab_type": "code",
        "colab": {}
      },
      "source": [
        "ATTACK_CATEGORIES = ['DOS', 'U2R_AND_R2L']\n",
        "IDS_MODELS = {'DEFAULT': DefaultBlackboxIDS, 'SVM': SVM, 'MLP': MLP, 'LR': LR}"
      ],
      "execution_count": 5,
      "outputs": []
    },
    {
      "cell_type": "markdown",
      "metadata": {
        "id": "3Ljsym5CVV0f",
        "colab_type": "text"
      },
      "source": [
        "#**2. Functions**"
      ]
    },
    {
      "cell_type": "markdown",
      "metadata": {
        "id": "IWGJRCNY7nV1",
        "colab_type": "text"
      },
      "source": [
        "## **Processing Data Functions**"
      ]
    },
    {
      "cell_type": "code",
      "metadata": {
        "id": "Dj37tVSB5ZmH",
        "colab_type": "code",
        "colab": {}
      },
      "source": [
        "# Processing Data\n",
        "# preprocess_data - Hàm tiền xử lý dữ liệu\n",
        "def preprocess_data(dataset, attack_category):\n",
        "    if attack_category not in ATTACK_CATEGORIES:\n",
        "        raise ValueError(\"Preprocess Data: Invalid Attack Category\")\n",
        "    attack_data = dataset[dataset['class'] == attack_category]\n",
        "    normal_data = dataset[dataset['class'] == 'Normal']\n",
        "    # Combine Data\n",
        "    combine_data = shuffle(pd.concat([attack_data, normal_data], ignore_index=True)).reset_index(drop=True)\n",
        "    # Convert class to Binary\n",
        "    combine_data[\"class\"] = combine_data[\"class\"].map(lambda x : 0 if x == \"Normal\" else 1)\n",
        "    print(f\"Amount of records: {combine_data.shape[0]}\")\n",
        "    print(f\"Amount of {attack_category} Traffic: {attack_data.shape[0]}\")\n",
        "    print(f\"Amount of Normal Traffic: {normal_data.shape[0]}\")\n",
        "    # separate data and label\n",
        "    data, label = np.array(combine_data[combine_data.columns[combine_data.columns != \"class\"]]), np.array(combine_data[\"class\"])\n",
        "    return data, label\n",
        "\n",
        "# load_dataset - Load du lieu voi Attack Category\n",
        "def load_dataset(attack_category):\n",
        "    if attack_category not in ATTACK_CATEGORIES:\n",
        "        raise ValueError(\"Preprocess Data: Invalid Attack Category\")\n",
        "    # Load Dataset\n",
        "    train = pd.read_csv(train_dataset_path)\n",
        "    test = pd.read_csv(test_dataset_path)\n",
        "    # Preprocess Data\n",
        "    print(\"***TRAINSET***\")\n",
        "    trainx, trainy = preprocess_data(train, attack_category)\n",
        "    print(\"***TESTSET***\")\n",
        "    testx, testy = preprocess_data(test, attack_category)\n",
        "    return trainx, trainy, testx, testy\n",
        "\n",
        "# create_batch1 - Hàm tạo Batch\n",
        "def create_batch1(x,y,batch_size):\n",
        "    a = list(range(len(x)))\n",
        "    np.random.shuffle(a)\n",
        "    x = x[a]\n",
        "    y = y[a]\n",
        "    batch_x = [x[batch_size * i : (i+1)*batch_size,:].tolist() for i in range(len(x)//batch_size)]\n",
        "    batch_y = [y[batch_size * i : (i+1)*batch_size].tolist() for i in range(len(x)//batch_size)]\n",
        "    return batch_x, batch_y "
      ],
      "execution_count": 6,
      "outputs": []
    },
    {
      "cell_type": "markdown",
      "metadata": {
        "id": "uxaOwvpkaExE",
        "colab_type": "text"
      },
      "source": [
        "##IDS Functions"
      ]
    },
    {
      "cell_type": "code",
      "metadata": {
        "id": "i998wF8gaHNQ",
        "colab_type": "code",
        "colab": {}
      },
      "source": [
        "# IDS Functions\n",
        "# Train - Train IDS\n",
        "def Train(ids_model, data, label, batch_size, loss_f, opt):\n",
        "    n_records = len(data)\n",
        "    ids_model.train()\n",
        "    batch_x, batch_y = create_batch1(data, label,batch_size)\n",
        "    run_loss = 0\n",
        "    for traffic,true_label in zip(batch_x,batch_y):\n",
        "        ids_model.zero_grad()\n",
        "        traffic = V(th.Tensor(traffic),requires_grad = True)\n",
        "        true_label = V(th.LongTensor(true_label))\n",
        "        out = ids_model(traffic)\n",
        "        loss = loss_f(out,true_label)\n",
        "        run_loss += loss.item()\n",
        "        loss.backward()\n",
        "        opt.step()\n",
        "    return run_loss/n_records\n",
        "\n",
        "# Test -Test IDS\n",
        "def Test(ids_model, data, label, batch_size, loss_f, opt):\n",
        "    n_records = len(data)\n",
        "    ids_model.eval()\n",
        "    batch_x, batch_y = create_batch1(data, label, batch_size)\n",
        "    run_loss = 0\n",
        "    correct = 0\n",
        "    dr = []\n",
        "    with th.no_grad():\n",
        "        for traffic,true_label in zip(batch_x,batch_y):\n",
        "            traffic = th.Tensor(traffic)\n",
        "            true_label = th.LongTensor(true_label)\n",
        "            out = ids_model(traffic) \n",
        "            # Calc Loss\n",
        "            loss = loss_f(out,true_label)\n",
        "            run_loss += loss.item()\n",
        "            # Calc Accuracy, Detection Rate\n",
        "            pred_label = th.argmax(nn.Sigmoid()(out),dim = 1).cpu().numpy()\n",
        "            tn, fn, fp, tp = confusion_matrix(true_label,pred_label).ravel()\n",
        "            # Accuracy\n",
        "            correct = correct + tn + tp\n",
        "            # Detection Rate\n",
        "            dr.append(tp/(tp + fp))\n",
        "    return (run_loss/n_records, 100*correct/n_records, 100*np.mean(dr))\n",
        "\n",
        "# RunIDS - Chạy IDS: Train và Test\n",
        "def RunIDS(ids_model_name = 'DEFAULT', attack_category = 'DOS', batch_size = 1024, max_epoch = 50):\n",
        "    # CHECK MODEL NAME, ATTACK CATEGORY\n",
        "    if attack_category not in ATTACK_CATEGORIES:\n",
        "        raise ValueError(\"Load Dataset: Invalid Attack Category\")\n",
        "    if ids_model_name not in IDS_MODELS.keys():\n",
        "        raise ValueError(\"Create IDS Model: Invalid Model Name\")\n",
        "    print(\"=\"*100)\n",
        "    print(f\"IDS MODEL: {ids_model_name} - ATTACK CATEGORY: {attack_category}\")\n",
        "    # LOAD DATASET\n",
        "    print(50*'-')\n",
        "    trainx, trainy, testx, testy = load_dataset(attack_category)\n",
        "    # CREATE MODEL\n",
        "    BlackboxIDS = IDS_MODELS[ids_model_name]\n",
        "    input_dim = trainx.shape[1]     # Number of dimension from dataset\n",
        "    output_dim = 2                  # Label: Anomaly (1), Normaly (0)\n",
        "    # Create BlackBoxIDS model\n",
        "    ids_model = BlackboxIDS(input_dim,output_dim)\n",
        "    # Loss  \n",
        "    loss_f = nn.CrossEntropyLoss()\n",
        "    # Optimizer \n",
        "    learning_rate = 0.001\n",
        "    opt = optim.Adam(ids_model.parameters(),lr=learning_rate)\n",
        "\n",
        "    # RUN MODEL \n",
        "    train_losses, test_losses = [],[]\n",
        "    accuracies, drs = [],[]\n",
        "    print(50*'-')\n",
        "    print(\"***IDS start training***\")\n",
        "    print(\"Epoch \\t\\tTrain Loss \\t\\tTest Loss \\t\\tAccuracy \\tDetection Rate(DR)\")\n",
        "    for epoch in range(max_epoch):\n",
        "        train_loss = Train(ids_model, trainx, trainy, batch_size, loss_f, opt)\n",
        "        test_loss, accuracy, dr = Test(ids_model, testx, testy, batch_size, loss_f, opt)\n",
        "        accuracies.append(accuracy)\n",
        "        drs.append(dr)\n",
        "        train_losses.append(train_loss)\n",
        "        test_losses.append(test_loss)\n",
        "        print(f\"{epoch+1:2d}: \\t\\t{train_loss:.6f} \\t\\t{test_loss:.6f} \\t\\t{accuracy:.2f}% \\t\\t{dr:.2f}%\")\n",
        "    print(\"IDS finished training\")\n",
        "\n",
        "    # SAVE GRAPH AND MODEL\n",
        "    # Create Folder\n",
        "    attack_category_path_4save_model = SavedModelPath + attack_category + '/'\n",
        "    if not os.path.exists(attack_category_path_4save_model):\n",
        "        os.makedirs(attack_category_path_4save_model)\n",
        "    image_save_path = attack_category_path_4save_model + \"images/\"\n",
        "    if not os.path.exists(image_save_path):\n",
        "        os.makedirs(image_save_path)\n",
        "\n",
        "    # Show Loss, Accuracy Graph\n",
        "    # Loss Graph\n",
        "    plt.plot(train_losses,label = \"Train Loss\")\n",
        "    plt.plot(test_losses, label = \"Test Loss\")\n",
        "    plt.legend()\n",
        "    plt.savefig(image_save_path+ ids_model_name  +\"_Loss.png\")\n",
        "    plt.show()\n",
        "    # Accuracy, DR Graph\n",
        "    plt.plot(accuracies, label = \"Accuracy (%)\")\n",
        "    plt.plot(drs, label = \"Detection Rate(%)\")\n",
        "    plt.legend()\n",
        "    plt.savefig(image_save_path+ ids_model_name +\"_Accuracy_DR.png\")\n",
        "    plt.show()\n",
        "    print(f\"Graphs Saved Successfully at: {image_save_path}\")\n",
        "\n",
        "    # Save Model\n",
        "    path = attack_category_path_4save_model + ids_model_name + \".pth\"\n",
        "    th.save(ids_model.state_dict(), path)\n",
        "    print(f\"IDS Model Saved Successfully at: {path}\")"
      ],
      "execution_count": 11,
      "outputs": []
    },
    {
      "cell_type": "markdown",
      "metadata": {
        "id": "nDp5Uy_HaShp",
        "colab_type": "text"
      },
      "source": [
        "# **3. Chạy - Run**"
      ]
    },
    {
      "cell_type": "code",
      "metadata": {
        "id": "KF6mbJ1Thgnt",
        "colab_type": "code",
        "colab": {}
      },
      "source": [
        "# for attack_category in ATTACK_CATEGORIES:\n",
        "#     for ids_model_name in IDS_MODELS:\n",
        "#         RunIDS(ids_model_name, attack_category, batch_size = 1024, max_epoch = 50)"
      ],
      "execution_count": 8,
      "outputs": []
    },
    {
      "cell_type": "code",
      "metadata": {
        "id": "uccsvEsj47LP",
        "colab_type": "code",
        "colab": {}
      },
      "source": [
        "attack_category = \"U2R_AND_R2L\" #@param [\"DOS\", \"U2R_AND_R2L\"]\n"
      ],
      "execution_count": 9,
      "outputs": []
    },
    {
      "cell_type": "code",
      "metadata": {
        "id": "99eVLPWR4zuY",
        "colab_type": "code",
        "colab": {
          "base_uri": "https://localhost:8080/",
          "height": 1000
        },
        "outputId": "4be052a9-3734-4dab-f523-95aa8dc8222b"
      },
      "source": [
        "MODELS_RUN_U2R_AND_R2L = {'SVM': SVM, 'MLP': MLP, 'LR': LR}\n",
        "for ids_model_name in MODELS_RUN_U2R_AND_R2L:\n",
        "        RunIDS(ids_model_name, attack_category, batch_size = 1024, max_epoch = 50)"
      ],
      "execution_count": 12,
      "outputs": [
        {
          "output_type": "stream",
          "text": [
            "====================================================================================================\n",
            "IDS MODEL: SVM - ATTACK CATEGORY: U2R_AND_R2L\n",
            "--------------------------------------------------\n",
            "***TRAINSET***\n",
            "Amount of records: 34194\n",
            "Amount of U2R_AND_R2L Traffic: 523\n",
            "Amount of Normal Traffic: 33671\n",
            "***TESTSET***\n",
            "Amount of records: 12663\n",
            "Amount of U2R_AND_R2L Traffic: 2952\n",
            "Amount of Normal Traffic: 9711\n",
            "--------------------------------------------------\n",
            "***IDS start training***\n",
            "Epoch \t\tTrain Loss \t\tTest Loss \t\tAccuracy \tDetection Rate(DR)\n",
            " 1: \t\t0.000443 \t\t0.000533 \t\t74.48% \t\t0.00%\n",
            " 2: \t\t0.000340 \t\t0.000513 \t\t74.39% \t\t0.00%\n",
            " 3: \t\t0.000269 \t\t0.000510 \t\t74.38% \t\t0.00%\n",
            " 4: \t\t0.000220 \t\t0.000516 \t\t74.43% \t\t0.00%\n",
            " 5: \t\t0.000185 \t\t0.000529 \t\t74.40% \t\t0.00%\n",
            " 6: \t\t0.000161 \t\t0.000541 \t\t74.51% \t\t0.00%\n",
            " 7: \t\t0.000142 \t\t0.000559 \t\t74.33% \t\t0.00%\n",
            " 8: \t\t0.000129 \t\t0.000571 \t\t74.50% \t\t0.00%\n",
            " 9: \t\t0.000118 \t\t0.000588 \t\t74.41% \t\t0.00%\n",
            "10: \t\t0.000109 \t\t0.000603 \t\t74.33% \t\t0.00%\n",
            "11: \t\t0.000103 \t\t0.000615 \t\t74.43% \t\t0.00%\n",
            "12: \t\t0.000097 \t\t0.000625 \t\t74.52% \t\t0.00%\n",
            "13: \t\t0.000092 \t\t0.000640 \t\t74.45% \t\t0.00%\n",
            "14: \t\t0.000088 \t\t0.000654 \t\t74.37% \t\t0.00%\n",
            "15: \t\t0.000085 \t\t0.000660 \t\t74.52% \t\t0.00%\n",
            "16: \t\t0.000082 \t\t0.000670 \t\t74.54% \t\t0.00%\n",
            "17: \t\t0.000080 \t\t0.000686 \t\t74.30% \t\t0.00%\n",
            "18: \t\t0.000078 \t\t0.000687 \t\t74.52% \t\t0.00%\n",
            "19: \t\t0.000076 \t\t0.000700 \t\t74.40% \t\t0.00%\n",
            "20: \t\t0.000074 \t\t0.000705 \t\t74.48% \t\t0.00%\n",
            "21: \t\t0.000073 \t\t0.000714 \t\t74.41% \t\t0.00%\n",
            "22: \t\t0.000071 \t\t0.000722 \t\t74.40% \t\t0.00%\n",
            "23: \t\t0.000070 \t\t0.000733 \t\t74.29% \t\t0.00%\n",
            "24: \t\t0.000069 \t\t0.000734 \t\t74.41% \t\t0.00%\n",
            "25: \t\t0.000068 \t\t0.000744 \t\t74.30% \t\t0.00%\n",
            "26: \t\t0.000067 \t\t0.000746 \t\t74.37% \t\t0.00%\n",
            "27: \t\t0.000066 \t\t0.000751 \t\t74.40% \t\t0.00%\n",
            "28: \t\t0.000065 \t\t0.000757 \t\t74.34% \t\t0.00%\n",
            "29: \t\t0.000065 \t\t0.000762 \t\t74.39% \t\t0.00%\n",
            "30: \t\t0.000064 \t\t0.000768 \t\t74.36% \t\t0.00%\n",
            "31: \t\t0.000063 \t\t0.000767 \t\t74.49% \t\t0.00%\n",
            "32: \t\t0.000062 \t\t0.000774 \t\t74.37% \t\t0.00%\n",
            "33: \t\t0.000062 \t\t0.000775 \t\t74.49% \t\t0.00%\n",
            "34: \t\t0.000061 \t\t0.000783 \t\t74.30% \t\t0.00%\n",
            "35: \t\t0.000060 \t\t0.000785 \t\t74.41% \t\t0.00%\n",
            "36: \t\t0.000060 \t\t0.000788 \t\t74.44% \t\t0.00%\n",
            "37: \t\t0.000059 \t\t0.000788 \t\t74.51% \t\t0.00%\n",
            "38: \t\t0.000059 \t\t0.000795 \t\t74.41% \t\t0.00%\n",
            "39: \t\t0.000058 \t\t0.000794 \t\t74.53% \t\t0.00%\n",
            "40: \t\t0.000057 \t\t0.000803 \t\t74.35% \t\t0.00%\n",
            "41: \t\t0.000057 \t\t0.000802 \t\t74.41% \t\t0.00%\n",
            "42: \t\t0.000057 \t\t0.000804 \t\t74.51% \t\t0.00%\n",
            "43: \t\t0.000056 \t\t0.000809 \t\t74.41% \t\t0.00%\n",
            "44: \t\t0.000056 \t\t0.000807 \t\t74.52% \t\t0.00%\n",
            "45: \t\t0.000055 \t\t0.000808 \t\t74.57% \t\t0.00%\n",
            "46: \t\t0.000054 \t\t0.000823 \t\t74.31% \t\t0.00%\n",
            "47: \t\t0.000054 \t\t0.000818 \t\t74.48% \t\t0.00%\n",
            "48: \t\t0.000054 \t\t0.000824 \t\t74.41% \t\t0.00%\n",
            "49: \t\t0.000053 \t\t0.000827 \t\t74.41% \t\t0.00%\n",
            "50: \t\t0.000053 \t\t0.000830 \t\t74.44% \t\t0.00%\n",
            "IDS finished training\n"
          ],
          "name": "stdout"
        },
        {
          "output_type": "display_data",
          "data": {
            "image/png": "[encoded data removed]",
            "text/plain": [
              "<Figure size 432x288 with 1 Axes>"
            ]
          },
          "metadata": {
            "tags": [],
            "needs_background": "light"
          }
        },
        {
          "output_type": "display_data",
          "data": {
            "image/png": "[encoded data removed]",
            "text/plain": [
              "<Figure size 432x288 with 1 Axes>"
            ]
          },
          "metadata": {
            "tags": [],
            "needs_background": "light"
          }
        },
        {
          "output_type": "stream",
          "text": [
            "Graphs Saved Successfully at: /content/drive/My Drive/Study/KLTN/Saved Model/IDSModel/U2R_AND_R2L/images/\n",
            "IDS Model Saved Successfully at: /content/drive/My Drive/Study/KLTN/Saved Model/IDSModel/U2R_AND_R2L/SVM.pth\n",
            "====================================================================================================\n",
            "IDS MODEL: MLP - ATTACK CATEGORY: U2R_AND_R2L\n",
            "--------------------------------------------------\n",
            "***TRAINSET***\n",
            "Amount of records: 34194\n",
            "Amount of U2R_AND_R2L Traffic: 523\n",
            "Amount of Normal Traffic: 33671\n",
            "***TESTSET***\n",
            "Amount of records: 12663\n",
            "Amount of U2R_AND_R2L Traffic: 2952\n",
            "Amount of Normal Traffic: 9711\n",
            "--------------------------------------------------\n",
            "***IDS start training***\n",
            "Epoch \t\tTrain Loss \t\tTest Loss \t\tAccuracy \tDetection Rate(DR)\n",
            " 1: \t\t0.000553 \t\t0.000530 \t\t74.39% \t\t0.00%\n",
            " 2: \t\t0.000323 \t\t0.000492 \t\t74.32% \t\t0.00%\n",
            " 3: \t\t0.000175 \t\t0.000547 \t\t74.35% \t\t0.00%\n",
            " 4: \t\t0.000112 \t\t0.000622 \t\t74.52% \t\t0.00%\n",
            " 5: \t\t0.000087 \t\t0.000706 \t\t74.36% \t\t0.00%\n",
            " 6: \t\t0.000075 \t\t0.000771 \t\t74.42% \t\t0.00%\n",
            " 7: \t\t0.000069 \t\t0.000819 \t\t74.37% \t\t0.00%\n",
            " 8: \t\t0.000065 \t\t0.000839 \t\t74.43% \t\t0.00%\n",
            " 9: \t\t0.000062 \t\t0.000854 \t\t74.48% \t\t0.00%\n",
            "10: \t\t0.000060 \t\t0.000865 \t\t74.36% \t\t0.00%\n",
            "11: \t\t0.000057 \t\t0.000874 \t\t74.38% \t\t0.00%\n",
            "12: \t\t0.000055 \t\t0.000880 \t\t74.47% \t\t0.00%\n",
            "13: \t\t0.000052 \t\t0.000890 \t\t74.56% \t\t0.00%\n",
            "14: \t\t0.000050 \t\t0.000921 \t\t74.39% \t\t0.00%\n",
            "15: \t\t0.000048 \t\t0.000936 \t\t74.44% \t\t0.00%\n",
            "16: \t\t0.000046 \t\t0.000953 \t\t74.41% \t\t0.00%\n",
            "17: \t\t0.000044 \t\t0.000971 \t\t74.45% \t\t0.00%\n",
            "18: \t\t0.000043 \t\t0.000994 \t\t74.33% \t\t0.00%\n",
            "19: \t\t0.000041 \t\t0.001005 \t\t74.55% \t\t0.00%\n",
            "20: \t\t0.000040 \t\t0.001028 \t\t74.48% \t\t0.00%\n",
            "21: \t\t0.000039 \t\t0.001051 \t\t74.30% \t\t0.00%\n",
            "22: \t\t0.000038 \t\t0.001063 \t\t74.47% \t\t0.03%\n",
            "23: \t\t0.000037 \t\t0.001081 \t\t74.53% \t\t0.03%\n",
            "24: \t\t0.000036 \t\t0.001111 \t\t74.33% \t\t0.00%\n",
            "25: \t\t0.000035 \t\t0.001121 \t\t74.49% \t\t0.04%\n",
            "26: \t\t0.000035 \t\t0.001141 \t\t74.41% \t\t0.04%\n",
            "27: \t\t0.000034 \t\t0.001155 \t\t74.38% \t\t0.04%\n",
            "28: \t\t0.000033 \t\t0.001166 \t\t74.57% \t\t0.03%\n",
            "29: \t\t0.000033 \t\t0.001181 \t\t74.41% \t\t0.03%\n",
            "30: \t\t0.000032 \t\t0.001203 \t\t74.47% \t\t0.03%\n",
            "31: \t\t0.000032 \t\t0.001219 \t\t74.33% \t\t0.03%\n",
            "32: \t\t0.000032 \t\t0.001229 \t\t74.43% \t\t0.03%\n",
            "33: \t\t0.000031 \t\t0.001236 \t\t74.42% \t\t0.04%\n",
            "34: \t\t0.000031 \t\t0.001257 \t\t74.36% \t\t0.04%\n",
            "35: \t\t0.000030 \t\t0.001273 \t\t74.35% \t\t0.06%\n",
            "36: \t\t0.000030 \t\t0.001275 \t\t74.54% \t\t0.07%\n",
            "37: \t\t0.000030 \t\t0.001291 \t\t74.42% \t\t0.07%\n",
            "38: \t\t0.000030 \t\t0.001312 \t\t74.36% \t\t0.14%\n",
            "39: \t\t0.000029 \t\t0.001311 \t\t74.48% \t\t0.17%\n",
            "40: \t\t0.000029 \t\t0.001322 \t\t74.49% \t\t0.20%\n",
            "41: \t\t0.000029 \t\t0.001335 \t\t74.37% \t\t0.21%\n",
            "42: \t\t0.000029 \t\t0.001349 \t\t74.41% \t\t0.25%\n",
            "43: \t\t0.000028 \t\t0.001353 \t\t74.48% \t\t0.25%\n",
            "44: \t\t0.000028 \t\t0.001361 \t\t74.42% \t\t0.24%\n",
            "45: \t\t0.000028 \t\t0.001371 \t\t74.43% \t\t0.32%\n",
            "46: \t\t0.000028 \t\t0.001385 \t\t74.37% \t\t0.32%\n",
            "47: \t\t0.000027 \t\t0.001387 \t\t74.52% \t\t0.43%\n",
            "48: \t\t0.000027 \t\t0.001400 \t\t74.50% \t\t0.38%\n",
            "49: \t\t0.000027 \t\t0.001400 \t\t74.52% \t\t0.42%\n",
            "50: \t\t0.000027 \t\t0.001421 \t\t74.49% \t\t0.45%\n",
            "IDS finished training\n"
          ],
          "name": "stdout"
        },
        {
          "output_type": "display_data",
          "data": {
            "image/png": "[encoded data removed]",
            "text/plain": [
              "<Figure size 432x288 with 1 Axes>"
            ]
          },
          "metadata": {
            "tags": [],
            "needs_background": "light"
          }
        },
        {
          "output_type": "display_data",
          "data": {
            "image/png": "[encoded data removed]",
            "text/plain": [
              "<Figure size 432x288 with 1 Axes>"
            ]
          },
          "metadata": {
            "tags": [],
            "needs_background": "light"
          }
        },
        {
          "output_type": "stream",
          "text": [
            "Graphs Saved Successfully at: /content/drive/My Drive/Study/KLTN/Saved Model/IDSModel/U2R_AND_R2L/images/\n",
            "IDS Model Saved Successfully at: /content/drive/My Drive/Study/KLTN/Saved Model/IDSModel/U2R_AND_R2L/MLP.pth\n",
            "====================================================================================================\n",
            "IDS MODEL: LR - ATTACK CATEGORY: U2R_AND_R2L\n",
            "--------------------------------------------------\n",
            "***TRAINSET***\n",
            "Amount of records: 34194\n",
            "Amount of U2R_AND_R2L Traffic: 523\n",
            "Amount of Normal Traffic: 33671\n",
            "***TESTSET***\n",
            "Amount of records: 12663\n",
            "Amount of U2R_AND_R2L Traffic: 2952\n",
            "Amount of Normal Traffic: 9711\n",
            "--------------------------------------------------\n",
            "***IDS start training***\n",
            "Epoch \t\tTrain Loss \t\tTest Loss \t\tAccuracy \tDetection Rate(DR)\n",
            " 1: \t\t0.000484 \t\t0.000556 \t\t74.56% \t\t0.00%\n",
            " 2: \t\t0.000371 \t\t0.000528 \t\t74.54% \t\t0.00%\n",
            " 3: \t\t0.000292 \t\t0.000521 \t\t74.50% \t\t0.00%\n",
            " 4: \t\t0.000238 \t\t0.000526 \t\t74.44% \t\t0.00%\n",
            " 5: \t\t0.000200 \t\t0.000536 \t\t74.43% \t\t0.00%\n",
            " 6: \t\t0.000173 \t\t0.000549 \t\t74.40% \t\t0.00%\n",
            " 7: \t\t0.000153 \t\t0.000560 \t\t74.48% \t\t0.00%\n",
            " 8: \t\t0.000137 \t\t0.000577 \t\t74.37% \t\t0.00%\n",
            " 9: \t\t0.000125 \t\t0.000591 \t\t74.45% \t\t0.00%\n",
            "10: \t\t0.000116 \t\t0.000603 \t\t74.50% \t\t0.00%\n",
            "11: \t\t0.000109 \t\t0.000619 \t\t74.40% \t\t0.00%\n",
            "12: \t\t0.000103 \t\t0.000632 \t\t74.37% \t\t0.00%\n",
            "13: \t\t0.000097 \t\t0.000642 \t\t74.44% \t\t0.00%\n",
            "14: \t\t0.000093 \t\t0.000657 \t\t74.32% \t\t0.00%\n",
            "15: \t\t0.000090 \t\t0.000661 \t\t74.52% \t\t0.00%\n",
            "16: \t\t0.000086 \t\t0.000676 \t\t74.36% \t\t0.00%\n",
            "17: \t\t0.000084 \t\t0.000683 \t\t74.45% \t\t0.00%\n",
            "18: \t\t0.000081 \t\t0.000690 \t\t74.48% \t\t0.00%\n",
            "19: \t\t0.000080 \t\t0.000702 \t\t74.34% \t\t0.00%\n",
            "20: \t\t0.000077 \t\t0.000707 \t\t74.47% \t\t0.00%\n",
            "21: \t\t0.000076 \t\t0.000716 \t\t74.42% \t\t0.00%\n",
            "22: \t\t0.000074 \t\t0.000724 \t\t74.37% \t\t0.00%\n",
            "23: \t\t0.000073 \t\t0.000729 \t\t74.38% \t\t0.00%\n",
            "24: \t\t0.000072 \t\t0.000738 \t\t74.34% \t\t0.00%\n",
            "25: \t\t0.000070 \t\t0.000741 \t\t74.41% \t\t0.00%\n",
            "26: \t\t0.000069 \t\t0.000742 \t\t74.52% \t\t0.00%\n",
            "27: \t\t0.000068 \t\t0.000752 \t\t74.38% \t\t0.00%\n",
            "28: \t\t0.000067 \t\t0.000759 \t\t74.30% \t\t0.00%\n",
            "29: \t\t0.000066 \t\t0.000760 \t\t74.41% \t\t0.00%\n",
            "30: \t\t0.000065 \t\t0.000764 \t\t74.46% \t\t0.00%\n",
            "31: \t\t0.000064 \t\t0.000771 \t\t74.34% \t\t0.00%\n",
            "32: \t\t0.000064 \t\t0.000775 \t\t74.34% \t\t0.00%\n",
            "33: \t\t0.000063 \t\t0.000778 \t\t74.37% \t\t0.00%\n",
            "34: \t\t0.000062 \t\t0.000783 \t\t74.37% \t\t0.00%\n",
            "35: \t\t0.000061 \t\t0.000782 \t\t74.48% \t\t0.00%\n",
            "36: \t\t0.000061 \t\t0.000786 \t\t74.49% \t\t0.00%\n",
            "37: \t\t0.000060 \t\t0.000789 \t\t74.47% \t\t0.00%\n",
            "38: \t\t0.000060 \t\t0.000796 \t\t74.38% \t\t0.00%\n",
            "39: \t\t0.000059 \t\t0.000798 \t\t74.38% \t\t0.00%\n",
            "40: \t\t0.000058 \t\t0.000803 \t\t74.33% \t\t0.00%\n",
            "41: \t\t0.000058 \t\t0.000804 \t\t74.41% \t\t0.00%\n",
            "42: \t\t0.000057 \t\t0.000804 \t\t74.47% \t\t0.00%\n",
            "43: \t\t0.000056 \t\t0.000810 \t\t74.37% \t\t0.00%\n",
            "44: \t\t0.000056 \t\t0.000811 \t\t74.43% \t\t0.00%\n",
            "45: \t\t0.000055 \t\t0.000817 \t\t74.36% \t\t0.00%\n",
            "46: \t\t0.000055 \t\t0.000811 \t\t74.60% \t\t0.00%\n",
            "47: \t\t0.000055 \t\t0.000821 \t\t74.45% \t\t0.00%\n",
            "48: \t\t0.000054 \t\t0.000826 \t\t74.36% \t\t0.00%\n",
            "49: \t\t0.000054 \t\t0.000828 \t\t74.35% \t\t0.00%\n",
            "50: \t\t0.000053 \t\t0.000828 \t\t74.46% \t\t0.00%\n",
            "IDS finished training\n"
          ],
          "name": "stdout"
        },
        {
          "output_type": "display_data",
          "data": {
            "image/png": "[encoded data removed]",
            "text/plain": [
              "<Figure size 432x288 with 1 Axes>"
            ]
          },
          "metadata": {
            "tags": [],
            "needs_background": "light"
          }
        },
        {
          "output_type": "display_data",
          "data": {
            "image/png": "[encoded data removed]",
            "text/plain": [
              "<Figure size 432x288 with 1 Axes>"
            ]
          },
          "metadata": {
            "tags": [],
            "needs_background": "light"
          }
        },
        {
          "output_type": "stream",
          "text": [
            "Graphs Saved Successfully at: /content/drive/My Drive/Study/KLTN/Saved Model/IDSModel/U2R_AND_R2L/images/\n",
            "IDS Model Saved Successfully at: /content/drive/My Drive/Study/KLTN/Saved Model/IDSModel/U2R_AND_R2L/LR.pth\n"
          ],
          "name": "stdout"
        }
      ]
    },
    {
      "cell_type": "markdown",
      "metadata": {
        "id": "mwWugTozppL5",
        "colab_type": "text"
      },
      "source": [
        "The Saved Model stored in [Google Drive - BlackBox IDS Model](https://drive.google.com/drive/u/1/folders/1M-xotvruMlkFNaQWPf9bpBpzgPhPLpiH)  \n",
        "The Result of Code stored in [Github - Thesis](https://github.com/thetinybug/thesis-IDSGAN)"
      ]
    }
  ]
}